{
 "cells": [
  {
   "cell_type": "code",
   "execution_count": 1,
   "id": "de1ed909",
   "metadata": {
    "ExecuteTime": {
     "end_time": "2022-09-05T17:16:25.219107Z",
     "start_time": "2022-09-05T17:16:17.119742Z"
    }
   },
   "outputs": [
    {
     "name": "stderr",
     "output_type": "stream",
     "text": [
      "/opt/anaconda3/lib/python3.8/site-packages/scipy/__init__.py:146: UserWarning: A NumPy version >=1.16.5 and <1.23.0 is required for this version of SciPy (detected version 1.23.1\n",
      "  warnings.warn(f\"A NumPy version >={np_minversion} and <{np_maxversion}\"\n"
     ]
    }
   ],
   "source": [
    "# Import des Librairies :\n",
    "\n",
    "#Librairie d'analyse\n",
    "import numpy as np\n",
    "import pandas as pd\n",
    "\n",
    "#pd.set_option('display.max_columns', None)\n",
    "#pd.set_option('display.max_rows', None)\n",
    "\n",
    "#pd.options.display.max_columns = None\n",
    "#pd.options.display.max_rows = None\n",
    "\n",
    "#librairie de visualisation\n",
    "import matplotlib.pyplot as plt\n",
    "%matplotlib inline\n",
    "import seaborn as sns\n",
    "import plotly.figure_factory as ff\n",
    "import plotly.express as px\n",
    "import plotly.graph_objects as go\n",
    "\n",
    "# Pour supprimer les warnings :\n",
    "import sys\n",
    "if not sys.warnoptions:\n",
    "    import warnings\n",
    "    warnings.simplefilter(\"ignore\")\n",
    "    \n",
    "import pingouin as pg"
   ]
  },
  {
   "cell_type": "code",
   "execution_count": 2,
   "id": "eda0912f",
   "metadata": {
    "ExecuteTime": {
     "end_time": "2022-09-05T17:16:25.229676Z",
     "start_time": "2022-09-05T17:16:25.222041Z"
    }
   },
   "outputs": [],
   "source": [
    "def pourcentage_valeurs_manquantes(data=pd.DataFrame):\n",
    "    \"\"\"\n",
    "    Permet d'avoir un % de cellules manquantes.\n",
    "\n",
    "    Parameters :\n",
    "    ----------\n",
    "    data: :class: 'Dataframe'\n",
    "    DataFrame avec le pourcentage de données manquantes.\n",
    "\n",
    "    \"\"\"\n",
    "    # avec un print possibilité d'avoir une visu par colonne\n",
    "    somme = 0\n",
    "    for i in list(data.columns):\n",
    "        somme += data[i].isna().sum()\n",
    "    return round((somme / (data.shape[0]*data.shape[1]))*100,2)"
   ]
  },
  {
   "cell_type": "code",
   "execution_count": 3,
   "id": "c87deb97",
   "metadata": {
    "ExecuteTime": {
     "end_time": "2022-09-05T17:16:25.274784Z",
     "start_time": "2022-09-05T17:16:25.232715Z"
    }
   },
   "outputs": [],
   "source": [
    "df = pd.read_csv('P3_non_standardiser.csv')"
   ]
  },
  {
   "cell_type": "code",
   "execution_count": 4,
   "id": "7ff53c35",
   "metadata": {
    "ExecuteTime": {
     "end_time": "2022-09-05T17:16:25.300099Z",
     "start_time": "2022-09-05T17:16:25.277291Z"
    }
   },
   "outputs": [
    {
     "name": "stdout",
     "output_type": "stream",
     "text": [
      "Le pourcentage de valeur manquantes est de : 0.0 %\n"
     ]
    }
   ],
   "source": [
    "print(f\"Le pourcentage de valeur manquantes est de :\",pourcentage_valeurs_manquantes(df),\"%\")"
   ]
  },
  {
   "cell_type": "code",
   "execution_count": 5,
   "id": "df095cea",
   "metadata": {
    "ExecuteTime": {
     "end_time": "2022-09-05T17:16:25.572363Z",
     "start_time": "2022-09-05T17:16:25.307333Z"
    }
   },
   "outputs": [
    {
     "data": {
      "text/html": [
       "<div>\n",
       "<style scoped>\n",
       "    .dataframe tbody tr th:only-of-type {\n",
       "        vertical-align: middle;\n",
       "    }\n",
       "\n",
       "    .dataframe tbody tr th {\n",
       "        vertical-align: top;\n",
       "    }\n",
       "\n",
       "    .dataframe thead th {\n",
       "        text-align: right;\n",
       "    }\n",
       "</style>\n",
       "<table border=\"1\" class=\"dataframe\">\n",
       "  <thead>\n",
       "    <tr style=\"text-align: right;\">\n",
       "      <th></th>\n",
       "      <th>PrimaryPropertyType</th>\n",
       "      <th>Neighborhood</th>\n",
       "      <th>Latitude</th>\n",
       "      <th>Longitude</th>\n",
       "      <th>NumberofBuildings</th>\n",
       "      <th>NumberofFloors</th>\n",
       "      <th>ENERGYSTARScore</th>\n",
       "      <th>SiteEnergyUse(kBtu)</th>\n",
       "      <th>TotalGHGEmissions</th>\n",
       "      <th>Real_GFA</th>\n",
       "      <th>...</th>\n",
       "      <th>x2_Self-Storage Facility</th>\n",
       "      <th>x2_Social/Meeting Hall</th>\n",
       "      <th>x2_Strip Mall</th>\n",
       "      <th>x2_Supermarket/Grocery Store</th>\n",
       "      <th>x2_Swimming Pool</th>\n",
       "      <th>x2_Vocational School</th>\n",
       "      <th>x2_Worship Facility</th>\n",
       "      <th>Taux_Elec</th>\n",
       "      <th>Taux_Gaz</th>\n",
       "      <th>Taux_Steam</th>\n",
       "    </tr>\n",
       "  </thead>\n",
       "  <tbody>\n",
       "    <tr>\n",
       "      <th>0</th>\n",
       "      <td>Hotel</td>\n",
       "      <td>DOWNTOWN</td>\n",
       "      <td>47.61220</td>\n",
       "      <td>-122.33799</td>\n",
       "      <td>1.0</td>\n",
       "      <td>12</td>\n",
       "      <td>60.0</td>\n",
       "      <td>7226362.5</td>\n",
       "      <td>249.98</td>\n",
       "      <td>88434.0</td>\n",
       "      <td>...</td>\n",
       "      <td>0.0</td>\n",
       "      <td>0.0</td>\n",
       "      <td>0.0</td>\n",
       "      <td>0.0</td>\n",
       "      <td>0.0</td>\n",
       "      <td>0.0</td>\n",
       "      <td>0.0</td>\n",
       "      <td>0.55</td>\n",
       "      <td>0.18</td>\n",
       "      <td>0.28</td>\n",
       "    </tr>\n",
       "    <tr>\n",
       "      <th>1</th>\n",
       "      <td>Hotel</td>\n",
       "      <td>DOWNTOWN</td>\n",
       "      <td>47.61317</td>\n",
       "      <td>-122.33393</td>\n",
       "      <td>1.0</td>\n",
       "      <td>11</td>\n",
       "      <td>61.0</td>\n",
       "      <td>8387933.0</td>\n",
       "      <td>295.86</td>\n",
       "      <td>103566.0</td>\n",
       "      <td>...</td>\n",
       "      <td>0.0</td>\n",
       "      <td>0.0</td>\n",
       "      <td>0.0</td>\n",
       "      <td>0.0</td>\n",
       "      <td>0.0</td>\n",
       "      <td>0.0</td>\n",
       "      <td>0.0</td>\n",
       "      <td>0.39</td>\n",
       "      <td>0.61</td>\n",
       "      <td>0.00</td>\n",
       "    </tr>\n",
       "    <tr>\n",
       "      <th>2</th>\n",
       "      <td>Hotel</td>\n",
       "      <td>DOWNTOWN</td>\n",
       "      <td>47.61393</td>\n",
       "      <td>-122.33810</td>\n",
       "      <td>1.0</td>\n",
       "      <td>41</td>\n",
       "      <td>43.0</td>\n",
       "      <td>72587024.0</td>\n",
       "      <td>2089.28</td>\n",
       "      <td>756493.0</td>\n",
       "      <td>...</td>\n",
       "      <td>0.0</td>\n",
       "      <td>0.0</td>\n",
       "      <td>0.0</td>\n",
       "      <td>0.0</td>\n",
       "      <td>0.0</td>\n",
       "      <td>0.0</td>\n",
       "      <td>0.0</td>\n",
       "      <td>0.68</td>\n",
       "      <td>0.02</td>\n",
       "      <td>0.30</td>\n",
       "    </tr>\n",
       "    <tr>\n",
       "      <th>3</th>\n",
       "      <td>Hotel</td>\n",
       "      <td>DOWNTOWN</td>\n",
       "      <td>47.61412</td>\n",
       "      <td>-122.33664</td>\n",
       "      <td>1.0</td>\n",
       "      <td>10</td>\n",
       "      <td>56.0</td>\n",
       "      <td>6794584.0</td>\n",
       "      <td>286.43</td>\n",
       "      <td>61320.0</td>\n",
       "      <td>...</td>\n",
       "      <td>0.0</td>\n",
       "      <td>0.0</td>\n",
       "      <td>0.0</td>\n",
       "      <td>0.0</td>\n",
       "      <td>0.0</td>\n",
       "      <td>0.0</td>\n",
       "      <td>0.0</td>\n",
       "      <td>0.41</td>\n",
       "      <td>0.27</td>\n",
       "      <td>0.33</td>\n",
       "    </tr>\n",
       "    <tr>\n",
       "      <th>4</th>\n",
       "      <td>Hotel</td>\n",
       "      <td>DOWNTOWN</td>\n",
       "      <td>47.61375</td>\n",
       "      <td>-122.34047</td>\n",
       "      <td>1.0</td>\n",
       "      <td>18</td>\n",
       "      <td>75.0</td>\n",
       "      <td>14172606.0</td>\n",
       "      <td>505.01</td>\n",
       "      <td>191454.0</td>\n",
       "      <td>...</td>\n",
       "      <td>0.0</td>\n",
       "      <td>0.0</td>\n",
       "      <td>0.0</td>\n",
       "      <td>0.0</td>\n",
       "      <td>1.0</td>\n",
       "      <td>0.0</td>\n",
       "      <td>0.0</td>\n",
       "      <td>0.38</td>\n",
       "      <td>0.62</td>\n",
       "      <td>0.00</td>\n",
       "    </tr>\n",
       "  </tbody>\n",
       "</table>\n",
       "<p>5 rows × 151 columns</p>\n",
       "</div>"
      ],
      "text/plain": [
       "  PrimaryPropertyType Neighborhood  Latitude  Longitude  NumberofBuildings  \\\n",
       "0               Hotel     DOWNTOWN  47.61220 -122.33799                1.0   \n",
       "1               Hotel     DOWNTOWN  47.61317 -122.33393                1.0   \n",
       "2               Hotel     DOWNTOWN  47.61393 -122.33810                1.0   \n",
       "3               Hotel     DOWNTOWN  47.61412 -122.33664                1.0   \n",
       "4               Hotel     DOWNTOWN  47.61375 -122.34047                1.0   \n",
       "\n",
       "   NumberofFloors  ENERGYSTARScore  SiteEnergyUse(kBtu)  TotalGHGEmissions  \\\n",
       "0              12             60.0            7226362.5             249.98   \n",
       "1              11             61.0            8387933.0             295.86   \n",
       "2              41             43.0           72587024.0            2089.28   \n",
       "3              10             56.0            6794584.0             286.43   \n",
       "4              18             75.0           14172606.0             505.01   \n",
       "\n",
       "   Real_GFA  ...  x2_Self-Storage Facility  x2_Social/Meeting Hall  \\\n",
       "0   88434.0  ...                       0.0                     0.0   \n",
       "1  103566.0  ...                       0.0                     0.0   \n",
       "2  756493.0  ...                       0.0                     0.0   \n",
       "3   61320.0  ...                       0.0                     0.0   \n",
       "4  191454.0  ...                       0.0                     0.0   \n",
       "\n",
       "   x2_Strip Mall  x2_Supermarket/Grocery Store  x2_Swimming Pool  \\\n",
       "0            0.0                           0.0               0.0   \n",
       "1            0.0                           0.0               0.0   \n",
       "2            0.0                           0.0               0.0   \n",
       "3            0.0                           0.0               0.0   \n",
       "4            0.0                           0.0               1.0   \n",
       "\n",
       "   x2_Vocational School  x2_Worship Facility  Taux_Elec  Taux_Gaz  Taux_Steam  \n",
       "0                   0.0                  0.0       0.55      0.18        0.28  \n",
       "1                   0.0                  0.0       0.39      0.61        0.00  \n",
       "2                   0.0                  0.0       0.68      0.02        0.30  \n",
       "3                   0.0                  0.0       0.41      0.27        0.33  \n",
       "4                   0.0                  0.0       0.38      0.62        0.00  \n",
       "\n",
       "[5 rows x 151 columns]"
      ]
     },
     "metadata": {},
     "output_type": "display_data"
    },
    {
     "data": {
      "text/html": [
       "<div>\n",
       "<style scoped>\n",
       "    .dataframe tbody tr th:only-of-type {\n",
       "        vertical-align: middle;\n",
       "    }\n",
       "\n",
       "    .dataframe tbody tr th {\n",
       "        vertical-align: top;\n",
       "    }\n",
       "\n",
       "    .dataframe thead th {\n",
       "        text-align: right;\n",
       "    }\n",
       "</style>\n",
       "<table border=\"1\" class=\"dataframe\">\n",
       "  <thead>\n",
       "    <tr style=\"text-align: right;\">\n",
       "      <th></th>\n",
       "      <th>Latitude</th>\n",
       "      <th>Longitude</th>\n",
       "      <th>NumberofBuildings</th>\n",
       "      <th>NumberofFloors</th>\n",
       "      <th>ENERGYSTARScore</th>\n",
       "      <th>SiteEnergyUse(kBtu)</th>\n",
       "      <th>TotalGHGEmissions</th>\n",
       "      <th>Real_GFA</th>\n",
       "      <th>Age_du_batiment</th>\n",
       "      <th>x0_Adult Education</th>\n",
       "      <th>...</th>\n",
       "      <th>x2_Self-Storage Facility</th>\n",
       "      <th>x2_Social/Meeting Hall</th>\n",
       "      <th>x2_Strip Mall</th>\n",
       "      <th>x2_Supermarket/Grocery Store</th>\n",
       "      <th>x2_Swimming Pool</th>\n",
       "      <th>x2_Vocational School</th>\n",
       "      <th>x2_Worship Facility</th>\n",
       "      <th>Taux_Elec</th>\n",
       "      <th>Taux_Gaz</th>\n",
       "      <th>Taux_Steam</th>\n",
       "    </tr>\n",
       "  </thead>\n",
       "  <tbody>\n",
       "    <tr>\n",
       "      <th>count</th>\n",
       "      <td>1513.000000</td>\n",
       "      <td>1513.000000</td>\n",
       "      <td>1513.000000</td>\n",
       "      <td>1513.000000</td>\n",
       "      <td>1513.000000</td>\n",
       "      <td>1.513000e+03</td>\n",
       "      <td>1513.000000</td>\n",
       "      <td>1.513000e+03</td>\n",
       "      <td>1513.000000</td>\n",
       "      <td>1513.000000</td>\n",
       "      <td>...</td>\n",
       "      <td>1513.000000</td>\n",
       "      <td>1513.000000</td>\n",
       "      <td>1513.000000</td>\n",
       "      <td>1513.000000</td>\n",
       "      <td>1513.000000</td>\n",
       "      <td>1513.000000</td>\n",
       "      <td>1513.000000</td>\n",
       "      <td>1513.000000</td>\n",
       "      <td>1513.000000</td>\n",
       "      <td>1513.000000</td>\n",
       "    </tr>\n",
       "    <tr>\n",
       "      <th>mean</th>\n",
       "      <td>47.616387</td>\n",
       "      <td>-122.333480</td>\n",
       "      <td>1.180436</td>\n",
       "      <td>4.241904</td>\n",
       "      <td>66.172505</td>\n",
       "      <td>8.912720e+06</td>\n",
       "      <td>195.488929</td>\n",
       "      <td>1.223827e+05</td>\n",
       "      <td>54.295440</td>\n",
       "      <td>0.001322</td>\n",
       "      <td>...</td>\n",
       "      <td>0.001322</td>\n",
       "      <td>0.004627</td>\n",
       "      <td>0.000661</td>\n",
       "      <td>0.000661</td>\n",
       "      <td>0.006609</td>\n",
       "      <td>0.000661</td>\n",
       "      <td>0.000661</td>\n",
       "      <td>0.698566</td>\n",
       "      <td>0.275003</td>\n",
       "      <td>0.023014</td>\n",
       "    </tr>\n",
       "    <tr>\n",
       "      <th>std</th>\n",
       "      <td>0.047339</td>\n",
       "      <td>0.023374</td>\n",
       "      <td>3.071862</td>\n",
       "      <td>6.775962</td>\n",
       "      <td>23.529757</td>\n",
       "      <td>3.163718e+07</td>\n",
       "      <td>787.619884</td>\n",
       "      <td>3.160851e+05</td>\n",
       "      <td>32.563927</td>\n",
       "      <td>0.036346</td>\n",
       "      <td>...</td>\n",
       "      <td>0.036346</td>\n",
       "      <td>0.067884</td>\n",
       "      <td>0.025709</td>\n",
       "      <td>0.025709</td>\n",
       "      <td>0.081056</td>\n",
       "      <td>0.025709</td>\n",
       "      <td>0.025709</td>\n",
       "      <td>0.265845</td>\n",
       "      <td>0.265361</td>\n",
       "      <td>0.095082</td>\n",
       "    </tr>\n",
       "    <tr>\n",
       "      <th>min</th>\n",
       "      <td>47.509590</td>\n",
       "      <td>-122.411820</td>\n",
       "      <td>0.000000</td>\n",
       "      <td>0.000000</td>\n",
       "      <td>1.000000</td>\n",
       "      <td>5.713320e+04</td>\n",
       "      <td>-0.800000</td>\n",
       "      <td>0.000000e+00</td>\n",
       "      <td>1.000000</td>\n",
       "      <td>0.000000</td>\n",
       "      <td>...</td>\n",
       "      <td>0.000000</td>\n",
       "      <td>0.000000</td>\n",
       "      <td>0.000000</td>\n",
       "      <td>0.000000</td>\n",
       "      <td>0.000000</td>\n",
       "      <td>0.000000</td>\n",
       "      <td>0.000000</td>\n",
       "      <td>-0.340000</td>\n",
       "      <td>0.000000</td>\n",
       "      <td>0.000000</td>\n",
       "    </tr>\n",
       "    <tr>\n",
       "      <th>25%</th>\n",
       "      <td>47.586860</td>\n",
       "      <td>-122.342950</td>\n",
       "      <td>1.000000</td>\n",
       "      <td>1.000000</td>\n",
       "      <td>60.000000</td>\n",
       "      <td>1.244150e+06</td>\n",
       "      <td>20.640000</td>\n",
       "      <td>2.884100e+04</td>\n",
       "      <td>28.000000</td>\n",
       "      <td>0.000000</td>\n",
       "      <td>...</td>\n",
       "      <td>0.000000</td>\n",
       "      <td>0.000000</td>\n",
       "      <td>0.000000</td>\n",
       "      <td>0.000000</td>\n",
       "      <td>0.000000</td>\n",
       "      <td>0.000000</td>\n",
       "      <td>0.000000</td>\n",
       "      <td>0.490000</td>\n",
       "      <td>0.000000</td>\n",
       "      <td>0.000000</td>\n",
       "    </tr>\n",
       "    <tr>\n",
       "      <th>50%</th>\n",
       "      <td>47.612670</td>\n",
       "      <td>-122.333050</td>\n",
       "      <td>1.000000</td>\n",
       "      <td>2.000000</td>\n",
       "      <td>71.000000</td>\n",
       "      <td>2.726369e+06</td>\n",
       "      <td>49.790000</td>\n",
       "      <td>4.817600e+04</td>\n",
       "      <td>51.000000</td>\n",
       "      <td>0.000000</td>\n",
       "      <td>...</td>\n",
       "      <td>0.000000</td>\n",
       "      <td>0.000000</td>\n",
       "      <td>0.000000</td>\n",
       "      <td>0.000000</td>\n",
       "      <td>0.000000</td>\n",
       "      <td>0.000000</td>\n",
       "      <td>0.000000</td>\n",
       "      <td>0.700000</td>\n",
       "      <td>0.230000</td>\n",
       "      <td>0.000000</td>\n",
       "    </tr>\n",
       "    <tr>\n",
       "      <th>75%</th>\n",
       "      <td>47.649090</td>\n",
       "      <td>-122.322640</td>\n",
       "      <td>1.000000</td>\n",
       "      <td>4.000000</td>\n",
       "      <td>79.000000</td>\n",
       "      <td>7.273156e+06</td>\n",
       "      <td>147.490000</td>\n",
       "      <td>1.040990e+05</td>\n",
       "      <td>86.000000</td>\n",
       "      <td>0.000000</td>\n",
       "      <td>...</td>\n",
       "      <td>0.000000</td>\n",
       "      <td>0.000000</td>\n",
       "      <td>0.000000</td>\n",
       "      <td>0.000000</td>\n",
       "      <td>0.000000</td>\n",
       "      <td>0.000000</td>\n",
       "      <td>0.000000</td>\n",
       "      <td>1.000000</td>\n",
       "      <td>0.490000</td>\n",
       "      <td>0.000000</td>\n",
       "    </tr>\n",
       "    <tr>\n",
       "      <th>max</th>\n",
       "      <td>47.733870</td>\n",
       "      <td>-122.261800</td>\n",
       "      <td>111.000000</td>\n",
       "      <td>99.000000</td>\n",
       "      <td>100.000000</td>\n",
       "      <td>8.739237e+08</td>\n",
       "      <td>16870.980000</td>\n",
       "      <td>9.320156e+06</td>\n",
       "      <td>116.000000</td>\n",
       "      <td>1.000000</td>\n",
       "      <td>...</td>\n",
       "      <td>1.000000</td>\n",
       "      <td>1.000000</td>\n",
       "      <td>1.000000</td>\n",
       "      <td>1.000000</td>\n",
       "      <td>1.000000</td>\n",
       "      <td>1.000000</td>\n",
       "      <td>1.000000</td>\n",
       "      <td>1.000000</td>\n",
       "      <td>1.000000</td>\n",
       "      <td>0.770000</td>\n",
       "    </tr>\n",
       "  </tbody>\n",
       "</table>\n",
       "<p>8 rows × 149 columns</p>\n",
       "</div>"
      ],
      "text/plain": [
       "          Latitude    Longitude  NumberofBuildings  NumberofFloors  \\\n",
       "count  1513.000000  1513.000000        1513.000000     1513.000000   \n",
       "mean     47.616387  -122.333480           1.180436        4.241904   \n",
       "std       0.047339     0.023374           3.071862        6.775962   \n",
       "min      47.509590  -122.411820           0.000000        0.000000   \n",
       "25%      47.586860  -122.342950           1.000000        1.000000   \n",
       "50%      47.612670  -122.333050           1.000000        2.000000   \n",
       "75%      47.649090  -122.322640           1.000000        4.000000   \n",
       "max      47.733870  -122.261800         111.000000       99.000000   \n",
       "\n",
       "       ENERGYSTARScore  SiteEnergyUse(kBtu)  TotalGHGEmissions      Real_GFA  \\\n",
       "count      1513.000000         1.513000e+03        1513.000000  1.513000e+03   \n",
       "mean         66.172505         8.912720e+06         195.488929  1.223827e+05   \n",
       "std          23.529757         3.163718e+07         787.619884  3.160851e+05   \n",
       "min           1.000000         5.713320e+04          -0.800000  0.000000e+00   \n",
       "25%          60.000000         1.244150e+06          20.640000  2.884100e+04   \n",
       "50%          71.000000         2.726369e+06          49.790000  4.817600e+04   \n",
       "75%          79.000000         7.273156e+06         147.490000  1.040990e+05   \n",
       "max         100.000000         8.739237e+08       16870.980000  9.320156e+06   \n",
       "\n",
       "       Age_du_batiment  x0_Adult Education  ...  x2_Self-Storage Facility  \\\n",
       "count      1513.000000         1513.000000  ...               1513.000000   \n",
       "mean         54.295440            0.001322  ...                  0.001322   \n",
       "std          32.563927            0.036346  ...                  0.036346   \n",
       "min           1.000000            0.000000  ...                  0.000000   \n",
       "25%          28.000000            0.000000  ...                  0.000000   \n",
       "50%          51.000000            0.000000  ...                  0.000000   \n",
       "75%          86.000000            0.000000  ...                  0.000000   \n",
       "max         116.000000            1.000000  ...                  1.000000   \n",
       "\n",
       "       x2_Social/Meeting Hall  x2_Strip Mall  x2_Supermarket/Grocery Store  \\\n",
       "count             1513.000000    1513.000000                   1513.000000   \n",
       "mean                 0.004627       0.000661                      0.000661   \n",
       "std                  0.067884       0.025709                      0.025709   \n",
       "min                  0.000000       0.000000                      0.000000   \n",
       "25%                  0.000000       0.000000                      0.000000   \n",
       "50%                  0.000000       0.000000                      0.000000   \n",
       "75%                  0.000000       0.000000                      0.000000   \n",
       "max                  1.000000       1.000000                      1.000000   \n",
       "\n",
       "       x2_Swimming Pool  x2_Vocational School  x2_Worship Facility  \\\n",
       "count       1513.000000           1513.000000          1513.000000   \n",
       "mean           0.006609              0.000661             0.000661   \n",
       "std            0.081056              0.025709             0.025709   \n",
       "min            0.000000              0.000000             0.000000   \n",
       "25%            0.000000              0.000000             0.000000   \n",
       "50%            0.000000              0.000000             0.000000   \n",
       "75%            0.000000              0.000000             0.000000   \n",
       "max            1.000000              1.000000             1.000000   \n",
       "\n",
       "         Taux_Elec     Taux_Gaz   Taux_Steam  \n",
       "count  1513.000000  1513.000000  1513.000000  \n",
       "mean      0.698566     0.275003     0.023014  \n",
       "std       0.265845     0.265361     0.095082  \n",
       "min      -0.340000     0.000000     0.000000  \n",
       "25%       0.490000     0.000000     0.000000  \n",
       "50%       0.700000     0.230000     0.000000  \n",
       "75%       1.000000     0.490000     0.000000  \n",
       "max       1.000000     1.000000     0.770000  \n",
       "\n",
       "[8 rows x 149 columns]"
      ]
     },
     "metadata": {},
     "output_type": "display_data"
    },
    {
     "data": {
      "text/plain": [
       "PrimaryPropertyType      object\n",
       "Neighborhood             object\n",
       "Latitude                float64\n",
       "Longitude               float64\n",
       "NumberofBuildings       float64\n",
       "                         ...   \n",
       "x2_Vocational School    float64\n",
       "x2_Worship Facility     float64\n",
       "Taux_Elec               float64\n",
       "Taux_Gaz                float64\n",
       "Taux_Steam              float64\n",
       "Length: 151, dtype: object"
      ]
     },
     "metadata": {},
     "output_type": "display_data"
    },
    {
     "data": {
      "text/plain": [
       "(1513, 151)"
      ]
     },
     "metadata": {},
     "output_type": "display_data"
    }
   ],
   "source": [
    "display(df.head())\n",
    "display(df.describe())\n",
    "display(df.dtypes)\n",
    "display(df.shape)"
   ]
  },
  {
   "cell_type": "code",
   "execution_count": 6,
   "id": "71730f52",
   "metadata": {
    "ExecuteTime": {
     "end_time": "2022-09-05T17:16:26.236457Z",
     "start_time": "2022-09-05T17:16:25.575152Z"
    }
   },
   "outputs": [],
   "source": [
    "import scipy.stats as stats\n",
    "import scipy as st\n",
    "import statsmodels\n",
    "import statsmodels.api as sm\n",
    "import statsmodels.stats.api as sms\n",
    "import statsmodels.formula.api as smf\n",
    "from statsmodels.compat import lzip\n",
    "from scipy.stats import ks_2samp\n",
    "from sklearn.model_selection import train_test_split"
   ]
  },
  {
   "cell_type": "code",
   "execution_count": 7,
   "id": "39a1c7ef",
   "metadata": {
    "ExecuteTime": {
     "end_time": "2022-09-05T17:16:26.306248Z",
     "start_time": "2022-09-05T17:16:26.238655Z"
    }
   },
   "outputs": [],
   "source": [
    "from sklearn.decomposition import PCA\n",
    "from sklearn.preprocessing import scale\n",
    "from sklearn.preprocessing import StandardScaler # classe pour standardisation\n",
    "from sklearn import preprocessing\n",
    "from sklearn import decomposition"
   ]
  },
  {
   "cell_type": "code",
   "execution_count": 8,
   "id": "217473e4",
   "metadata": {
    "ExecuteTime": {
     "end_time": "2022-09-05T17:16:26.318436Z",
     "start_time": "2022-09-05T17:16:26.308696Z"
    },
    "scrolled": false
   },
   "outputs": [
    {
     "data": {
      "text/plain": [
       "['PrimaryPropertyType',\n",
       " 'Neighborhood',\n",
       " 'Latitude',\n",
       " 'Longitude',\n",
       " 'NumberofBuildings',\n",
       " 'NumberofFloors',\n",
       " 'ENERGYSTARScore',\n",
       " 'SiteEnergyUse(kBtu)',\n",
       " 'TotalGHGEmissions',\n",
       " 'Real_GFA',\n",
       " 'Age_du_batiment',\n",
       " 'x0_Adult Education',\n",
       " 'x0_Automobile Dealership',\n",
       " 'x0_Bank Branch',\n",
       " 'x0_College/University',\n",
       " 'x0_Courthouse',\n",
       " 'x0_Data Center',\n",
       " 'x0_Distribution Center',\n",
       " 'x0_Financial Office',\n",
       " 'x0_Fire Station',\n",
       " 'x0_Fitness Center/Health Club/Gym',\n",
       " 'x0_Food Service',\n",
       " 'x0_Hospital (General Medical & Surgical)',\n",
       " 'x0_Hotel',\n",
       " 'x0_K-12 School',\n",
       " 'x0_Laboratory',\n",
       " 'x0_Library',\n",
       " 'x0_Lifestyle Center',\n",
       " 'x0_Manufacturing/Industrial Plant',\n",
       " 'x0_Medical Office',\n",
       " 'x0_Movie Theater',\n",
       " 'x0_Museum',\n",
       " 'x0_Non-Refrigerated Warehouse',\n",
       " 'x0_Office',\n",
       " 'x0_Other',\n",
       " 'x0_Other - Education',\n",
       " 'x0_Other - Entertainment/Public Assembly',\n",
       " 'x0_Other - Lodging/Residential',\n",
       " 'x0_Other - Mall',\n",
       " 'x0_Other - Public Services',\n",
       " 'x0_Other - Recreation',\n",
       " 'x0_Other - Restaurant/Bar',\n",
       " 'x0_Other - Services',\n",
       " 'x0_Other - Utility',\n",
       " 'x0_Other/Specialty Hospital',\n",
       " 'x0_Parking',\n",
       " 'x0_Performing Arts',\n",
       " 'x0_Personal Services (Health/Beauty, Dry Cleaning, etc)',\n",
       " 'x0_Police Station',\n",
       " 'x0_Pre-school/Daycare',\n",
       " 'x0_Prison/Incarceration',\n",
       " 'x0_Refrigerated Warehouse',\n",
       " 'x0_Repair Services (Vehicle, Shoe, Locksmith, etc)',\n",
       " 'x0_Residence Hall/Dormitory',\n",
       " 'x0_Residential Care Facility',\n",
       " 'x0_Restaurant',\n",
       " 'x0_Retail Store',\n",
       " 'x0_Self-Storage Facility',\n",
       " 'x0_Senior Care Community',\n",
       " 'x0_Social/Meeting Hall',\n",
       " 'x0_Strip Mall',\n",
       " 'x0_Supermarket/Grocery Store',\n",
       " 'x0_Urgent Care/Clinic/Other Outpatient',\n",
       " 'x0_Wholesale Club/Supercenter',\n",
       " 'x0_Worship Facility',\n",
       " 'x1_Adult Education',\n",
       " 'x1_Automobile Dealership',\n",
       " 'x1_Bank Branch',\n",
       " 'x1_Bar/Nightclub',\n",
       " 'x1_College/University',\n",
       " 'x1_Convenience Store without Gas Station',\n",
       " 'x1_Courthouse',\n",
       " 'x1_Data Center',\n",
       " 'x1_Distribution Center',\n",
       " 'x1_Enclosed Mall',\n",
       " 'x1_Financial Office',\n",
       " 'x1_Fitness Center/Health Club/Gym',\n",
       " 'x1_Food Sales',\n",
       " 'x1_Food Service',\n",
       " 'x1_Hospital (General Medical & Surgical)',\n",
       " 'x1_Hotel',\n",
       " 'x1_K-12 School',\n",
       " 'x1_Laboratory',\n",
       " 'x1_Manufacturing/Industrial Plant',\n",
       " 'x1_Medical Office',\n",
       " 'x1_Movie Theater',\n",
       " 'x1_Non-Refrigerated Warehouse',\n",
       " 'x1_Office',\n",
       " 'x1_Other',\n",
       " 'x1_Other - Education',\n",
       " 'x1_Other - Entertainment/Public Assembly',\n",
       " 'x1_Other - Lodging/Residential',\n",
       " 'x1_Other - Public Services',\n",
       " 'x1_Other - Recreation',\n",
       " 'x1_Other - Restaurant/Bar',\n",
       " 'x1_Other - Services',\n",
       " 'x1_Parking',\n",
       " 'x1_Performing Arts',\n",
       " 'x1_Personal Services (Health/Beauty, Dry Cleaning, etc)',\n",
       " 'x1_Pre-school/Daycare',\n",
       " 'x1_Refrigerated Warehouse',\n",
       " 'x1_Repair Services (Vehicle, Shoe, Locksmith, etc)',\n",
       " 'x1_Residence Hall/Dormitory',\n",
       " 'x1_Restaurant',\n",
       " 'x1_Retail Store',\n",
       " 'x1_Self-Storage Facility',\n",
       " 'x1_Social/Meeting Hall',\n",
       " 'x1_Supermarket/Grocery Store',\n",
       " 'x1_Swimming Pool',\n",
       " 'x1_Vocational School',\n",
       " 'x1_Worship Facility',\n",
       " 'x2_Bank Branch',\n",
       " 'x2_Bar/Nightclub',\n",
       " 'x2_Convenience Store without Gas Station',\n",
       " 'x2_Data Center',\n",
       " 'x2_Distribution Center',\n",
       " 'x2_Fast Food Restaurant',\n",
       " 'x2_Financial Office',\n",
       " 'x2_Fitness Center/Health Club/Gym',\n",
       " 'x2_Food Service',\n",
       " 'x2_K-12 School',\n",
       " 'x2_Laboratory',\n",
       " 'x2_Manufacturing/Industrial Plant',\n",
       " 'x2_Medical Office',\n",
       " 'x2_Non-Refrigerated Warehouse',\n",
       " 'x2_Office',\n",
       " 'x2_Other',\n",
       " 'x2_Other - Education',\n",
       " 'x2_Other - Entertainment/Public Assembly',\n",
       " 'x2_Other - Recreation',\n",
       " 'x2_Other - Restaurant/Bar',\n",
       " 'x2_Other - Services',\n",
       " 'x2_Other - Technology/Science',\n",
       " 'x2_Other - Utility',\n",
       " 'x2_Other/Specialty Hospital',\n",
       " 'x2_Parking',\n",
       " 'x2_Personal Services (Health/Beauty, Dry Cleaning, etc)',\n",
       " 'x2_Pre-school/Daycare',\n",
       " 'x2_Refrigerated Warehouse',\n",
       " 'x2_Restaurant',\n",
       " 'x2_Retail Store',\n",
       " 'x2_Self-Storage Facility',\n",
       " 'x2_Social/Meeting Hall',\n",
       " 'x2_Strip Mall',\n",
       " 'x2_Supermarket/Grocery Store',\n",
       " 'x2_Swimming Pool',\n",
       " 'x2_Vocational School',\n",
       " 'x2_Worship Facility',\n",
       " 'Taux_Elec',\n",
       " 'Taux_Gaz',\n",
       " 'Taux_Steam']"
      ]
     },
     "execution_count": 8,
     "metadata": {},
     "output_type": "execute_result"
    }
   ],
   "source": [
    "df.columns.tolist()"
   ]
  },
  {
   "cell_type": "code",
   "execution_count": 9,
   "id": "7ce9d148",
   "metadata": {
    "ExecuteTime": {
     "end_time": "2022-09-05T17:16:26.338727Z",
     "start_time": "2022-09-05T17:16:26.321865Z"
    }
   },
   "outputs": [],
   "source": [
    "categorical_features = df.select_dtypes(['object'])\n",
    "numerical_features = df.select_dtypes(['float64','int64'])\n",
    "\n",
    "Features = numerical_features.columns"
   ]
  },
  {
   "cell_type": "code",
   "execution_count": 10,
   "id": "9a7aad70",
   "metadata": {
    "ExecuteTime": {
     "end_time": "2022-09-05T17:16:26.344514Z",
     "start_time": "2022-09-05T17:16:26.341594Z"
    },
    "scrolled": false
   },
   "outputs": [],
   "source": [
    "# Suppression de la 2e colonne à interpréter :\n",
    "#numerical_features.drop(columns=['SiteEnergyUse(kBtu)'],inplace=True)"
   ]
  },
  {
   "cell_type": "code",
   "execution_count": 11,
   "id": "61d1e2c6",
   "metadata": {
    "ExecuteTime": {
     "end_time": "2022-09-05T17:16:26.358851Z",
     "start_time": "2022-09-05T17:16:26.347494Z"
    }
   },
   "outputs": [],
   "source": [
    "# Supprimer les données inférieur ou égal à 0 :\n",
    "numerical_features.drop(numerical_features[numerical_features.Real_GFA <= 0].index, axis = 0, inplace = True)"
   ]
  },
  {
   "cell_type": "code",
   "execution_count": 12,
   "id": "9fb9468f",
   "metadata": {
    "ExecuteTime": {
     "end_time": "2022-09-05T17:16:26.394513Z",
     "start_time": "2022-09-05T17:16:26.361338Z"
    }
   },
   "outputs": [
    {
     "data": {
      "text/html": [
       "<div>\n",
       "<style scoped>\n",
       "    .dataframe tbody tr th:only-of-type {\n",
       "        vertical-align: middle;\n",
       "    }\n",
       "\n",
       "    .dataframe tbody tr th {\n",
       "        vertical-align: top;\n",
       "    }\n",
       "\n",
       "    .dataframe thead th {\n",
       "        text-align: right;\n",
       "    }\n",
       "</style>\n",
       "<table border=\"1\" class=\"dataframe\">\n",
       "  <thead>\n",
       "    <tr style=\"text-align: right;\">\n",
       "      <th></th>\n",
       "      <th>Latitude</th>\n",
       "      <th>Longitude</th>\n",
       "      <th>NumberofBuildings</th>\n",
       "      <th>NumberofFloors</th>\n",
       "      <th>ENERGYSTARScore</th>\n",
       "      <th>SiteEnergyUse(kBtu)</th>\n",
       "      <th>TotalGHGEmissions</th>\n",
       "      <th>Real_GFA</th>\n",
       "      <th>Age_du_batiment</th>\n",
       "      <th>x0_Adult Education</th>\n",
       "      <th>...</th>\n",
       "      <th>x2_Self-Storage Facility</th>\n",
       "      <th>x2_Social/Meeting Hall</th>\n",
       "      <th>x2_Strip Mall</th>\n",
       "      <th>x2_Supermarket/Grocery Store</th>\n",
       "      <th>x2_Swimming Pool</th>\n",
       "      <th>x2_Vocational School</th>\n",
       "      <th>x2_Worship Facility</th>\n",
       "      <th>Taux_Elec</th>\n",
       "      <th>Taux_Gaz</th>\n",
       "      <th>Taux_Steam</th>\n",
       "    </tr>\n",
       "  </thead>\n",
       "  <tbody>\n",
       "    <tr>\n",
       "      <th>0</th>\n",
       "      <td>47.61220</td>\n",
       "      <td>-122.33799</td>\n",
       "      <td>1.0</td>\n",
       "      <td>12</td>\n",
       "      <td>60.0</td>\n",
       "      <td>7.226362e+06</td>\n",
       "      <td>249.98</td>\n",
       "      <td>88434.0</td>\n",
       "      <td>89</td>\n",
       "      <td>0.0</td>\n",
       "      <td>...</td>\n",
       "      <td>0.0</td>\n",
       "      <td>0.0</td>\n",
       "      <td>0.0</td>\n",
       "      <td>0.0</td>\n",
       "      <td>0.0</td>\n",
       "      <td>0.0</td>\n",
       "      <td>0.0</td>\n",
       "      <td>0.55</td>\n",
       "      <td>0.18</td>\n",
       "      <td>0.28</td>\n",
       "    </tr>\n",
       "    <tr>\n",
       "      <th>1</th>\n",
       "      <td>47.61317</td>\n",
       "      <td>-122.33393</td>\n",
       "      <td>1.0</td>\n",
       "      <td>11</td>\n",
       "      <td>61.0</td>\n",
       "      <td>8.387933e+06</td>\n",
       "      <td>295.86</td>\n",
       "      <td>103566.0</td>\n",
       "      <td>20</td>\n",
       "      <td>0.0</td>\n",
       "      <td>...</td>\n",
       "      <td>0.0</td>\n",
       "      <td>0.0</td>\n",
       "      <td>0.0</td>\n",
       "      <td>0.0</td>\n",
       "      <td>0.0</td>\n",
       "      <td>0.0</td>\n",
       "      <td>0.0</td>\n",
       "      <td>0.39</td>\n",
       "      <td>0.61</td>\n",
       "      <td>0.00</td>\n",
       "    </tr>\n",
       "    <tr>\n",
       "      <th>2</th>\n",
       "      <td>47.61393</td>\n",
       "      <td>-122.33810</td>\n",
       "      <td>1.0</td>\n",
       "      <td>41</td>\n",
       "      <td>43.0</td>\n",
       "      <td>7.258702e+07</td>\n",
       "      <td>2089.28</td>\n",
       "      <td>756493.0</td>\n",
       "      <td>47</td>\n",
       "      <td>0.0</td>\n",
       "      <td>...</td>\n",
       "      <td>0.0</td>\n",
       "      <td>0.0</td>\n",
       "      <td>0.0</td>\n",
       "      <td>0.0</td>\n",
       "      <td>0.0</td>\n",
       "      <td>0.0</td>\n",
       "      <td>0.0</td>\n",
       "      <td>0.68</td>\n",
       "      <td>0.02</td>\n",
       "      <td>0.30</td>\n",
       "    </tr>\n",
       "    <tr>\n",
       "      <th>3</th>\n",
       "      <td>47.61412</td>\n",
       "      <td>-122.33664</td>\n",
       "      <td>1.0</td>\n",
       "      <td>10</td>\n",
       "      <td>56.0</td>\n",
       "      <td>6.794584e+06</td>\n",
       "      <td>286.43</td>\n",
       "      <td>61320.0</td>\n",
       "      <td>90</td>\n",
       "      <td>0.0</td>\n",
       "      <td>...</td>\n",
       "      <td>0.0</td>\n",
       "      <td>0.0</td>\n",
       "      <td>0.0</td>\n",
       "      <td>0.0</td>\n",
       "      <td>0.0</td>\n",
       "      <td>0.0</td>\n",
       "      <td>0.0</td>\n",
       "      <td>0.41</td>\n",
       "      <td>0.27</td>\n",
       "      <td>0.33</td>\n",
       "    </tr>\n",
       "    <tr>\n",
       "      <th>4</th>\n",
       "      <td>47.61375</td>\n",
       "      <td>-122.34047</td>\n",
       "      <td>1.0</td>\n",
       "      <td>18</td>\n",
       "      <td>75.0</td>\n",
       "      <td>1.417261e+07</td>\n",
       "      <td>505.01</td>\n",
       "      <td>191454.0</td>\n",
       "      <td>36</td>\n",
       "      <td>0.0</td>\n",
       "      <td>...</td>\n",
       "      <td>0.0</td>\n",
       "      <td>0.0</td>\n",
       "      <td>0.0</td>\n",
       "      <td>0.0</td>\n",
       "      <td>1.0</td>\n",
       "      <td>0.0</td>\n",
       "      <td>0.0</td>\n",
       "      <td>0.38</td>\n",
       "      <td>0.62</td>\n",
       "      <td>0.00</td>\n",
       "    </tr>\n",
       "    <tr>\n",
       "      <th>...</th>\n",
       "      <td>...</td>\n",
       "      <td>...</td>\n",
       "      <td>...</td>\n",
       "      <td>...</td>\n",
       "      <td>...</td>\n",
       "      <td>...</td>\n",
       "      <td>...</td>\n",
       "      <td>...</td>\n",
       "      <td>...</td>\n",
       "      <td>...</td>\n",
       "      <td>...</td>\n",
       "      <td>...</td>\n",
       "      <td>...</td>\n",
       "      <td>...</td>\n",
       "      <td>...</td>\n",
       "      <td>...</td>\n",
       "      <td>...</td>\n",
       "      <td>...</td>\n",
       "      <td>...</td>\n",
       "      <td>...</td>\n",
       "      <td>...</td>\n",
       "    </tr>\n",
       "    <tr>\n",
       "      <th>1508</th>\n",
       "      <td>47.54067</td>\n",
       "      <td>-122.37441</td>\n",
       "      <td>1.0</td>\n",
       "      <td>1</td>\n",
       "      <td>71.0</td>\n",
       "      <td>9.320821e+05</td>\n",
       "      <td>20.33</td>\n",
       "      <td>18261.0</td>\n",
       "      <td>34</td>\n",
       "      <td>0.0</td>\n",
       "      <td>...</td>\n",
       "      <td>0.0</td>\n",
       "      <td>0.0</td>\n",
       "      <td>0.0</td>\n",
       "      <td>0.0</td>\n",
       "      <td>0.0</td>\n",
       "      <td>0.0</td>\n",
       "      <td>0.0</td>\n",
       "      <td>0.68</td>\n",
       "      <td>0.32</td>\n",
       "      <td>0.00</td>\n",
       "    </tr>\n",
       "    <tr>\n",
       "      <th>1509</th>\n",
       "      <td>47.59625</td>\n",
       "      <td>-122.32283</td>\n",
       "      <td>1.0</td>\n",
       "      <td>1</td>\n",
       "      <td>71.0</td>\n",
       "      <td>9.502762e+05</td>\n",
       "      <td>32.17</td>\n",
       "      <td>16000.0</td>\n",
       "      <td>12</td>\n",
       "      <td>0.0</td>\n",
       "      <td>...</td>\n",
       "      <td>0.0</td>\n",
       "      <td>0.0</td>\n",
       "      <td>0.0</td>\n",
       "      <td>0.0</td>\n",
       "      <td>0.0</td>\n",
       "      <td>0.0</td>\n",
       "      <td>0.0</td>\n",
       "      <td>0.42</td>\n",
       "      <td>0.58</td>\n",
       "      <td>0.00</td>\n",
       "    </tr>\n",
       "    <tr>\n",
       "      <th>1510</th>\n",
       "      <td>47.63644</td>\n",
       "      <td>-122.35784</td>\n",
       "      <td>1.0</td>\n",
       "      <td>1</td>\n",
       "      <td>71.0</td>\n",
       "      <td>5.765898e+06</td>\n",
       "      <td>223.54</td>\n",
       "      <td>13157.0</td>\n",
       "      <td>42</td>\n",
       "      <td>0.0</td>\n",
       "      <td>...</td>\n",
       "      <td>0.0</td>\n",
       "      <td>0.0</td>\n",
       "      <td>0.0</td>\n",
       "      <td>0.0</td>\n",
       "      <td>1.0</td>\n",
       "      <td>0.0</td>\n",
       "      <td>0.0</td>\n",
       "      <td>0.31</td>\n",
       "      <td>0.69</td>\n",
       "      <td>0.00</td>\n",
       "    </tr>\n",
       "    <tr>\n",
       "      <th>1511</th>\n",
       "      <td>47.52832</td>\n",
       "      <td>-122.32431</td>\n",
       "      <td>1.0</td>\n",
       "      <td>1</td>\n",
       "      <td>71.0</td>\n",
       "      <td>7.194712e+05</td>\n",
       "      <td>22.11</td>\n",
       "      <td>13586.0</td>\n",
       "      <td>27</td>\n",
       "      <td>0.0</td>\n",
       "      <td>...</td>\n",
       "      <td>0.0</td>\n",
       "      <td>0.0</td>\n",
       "      <td>0.0</td>\n",
       "      <td>0.0</td>\n",
       "      <td>0.0</td>\n",
       "      <td>0.0</td>\n",
       "      <td>0.0</td>\n",
       "      <td>0.48</td>\n",
       "      <td>0.52</td>\n",
       "      <td>0.00</td>\n",
       "    </tr>\n",
       "    <tr>\n",
       "      <th>1512</th>\n",
       "      <td>47.53939</td>\n",
       "      <td>-122.29536</td>\n",
       "      <td>1.0</td>\n",
       "      <td>1</td>\n",
       "      <td>71.0</td>\n",
       "      <td>1.152896e+06</td>\n",
       "      <td>41.27</td>\n",
       "      <td>17379.0</td>\n",
       "      <td>78</td>\n",
       "      <td>0.0</td>\n",
       "      <td>...</td>\n",
       "      <td>0.0</td>\n",
       "      <td>0.0</td>\n",
       "      <td>0.0</td>\n",
       "      <td>0.0</td>\n",
       "      <td>0.0</td>\n",
       "      <td>0.0</td>\n",
       "      <td>0.0</td>\n",
       "      <td>0.38</td>\n",
       "      <td>0.62</td>\n",
       "      <td>0.00</td>\n",
       "    </tr>\n",
       "  </tbody>\n",
       "</table>\n",
       "<p>1509 rows × 149 columns</p>\n",
       "</div>"
      ],
      "text/plain": [
       "      Latitude  Longitude  NumberofBuildings  NumberofFloors  ENERGYSTARScore  \\\n",
       "0     47.61220 -122.33799                1.0              12             60.0   \n",
       "1     47.61317 -122.33393                1.0              11             61.0   \n",
       "2     47.61393 -122.33810                1.0              41             43.0   \n",
       "3     47.61412 -122.33664                1.0              10             56.0   \n",
       "4     47.61375 -122.34047                1.0              18             75.0   \n",
       "...        ...        ...                ...             ...              ...   \n",
       "1508  47.54067 -122.37441                1.0               1             71.0   \n",
       "1509  47.59625 -122.32283                1.0               1             71.0   \n",
       "1510  47.63644 -122.35784                1.0               1             71.0   \n",
       "1511  47.52832 -122.32431                1.0               1             71.0   \n",
       "1512  47.53939 -122.29536                1.0               1             71.0   \n",
       "\n",
       "      SiteEnergyUse(kBtu)  TotalGHGEmissions  Real_GFA  Age_du_batiment  \\\n",
       "0            7.226362e+06             249.98   88434.0               89   \n",
       "1            8.387933e+06             295.86  103566.0               20   \n",
       "2            7.258702e+07            2089.28  756493.0               47   \n",
       "3            6.794584e+06             286.43   61320.0               90   \n",
       "4            1.417261e+07             505.01  191454.0               36   \n",
       "...                   ...                ...       ...              ...   \n",
       "1508         9.320821e+05              20.33   18261.0               34   \n",
       "1509         9.502762e+05              32.17   16000.0               12   \n",
       "1510         5.765898e+06             223.54   13157.0               42   \n",
       "1511         7.194712e+05              22.11   13586.0               27   \n",
       "1512         1.152896e+06              41.27   17379.0               78   \n",
       "\n",
       "      x0_Adult Education  ...  x2_Self-Storage Facility  \\\n",
       "0                    0.0  ...                       0.0   \n",
       "1                    0.0  ...                       0.0   \n",
       "2                    0.0  ...                       0.0   \n",
       "3                    0.0  ...                       0.0   \n",
       "4                    0.0  ...                       0.0   \n",
       "...                  ...  ...                       ...   \n",
       "1508                 0.0  ...                       0.0   \n",
       "1509                 0.0  ...                       0.0   \n",
       "1510                 0.0  ...                       0.0   \n",
       "1511                 0.0  ...                       0.0   \n",
       "1512                 0.0  ...                       0.0   \n",
       "\n",
       "      x2_Social/Meeting Hall  x2_Strip Mall  x2_Supermarket/Grocery Store  \\\n",
       "0                        0.0            0.0                           0.0   \n",
       "1                        0.0            0.0                           0.0   \n",
       "2                        0.0            0.0                           0.0   \n",
       "3                        0.0            0.0                           0.0   \n",
       "4                        0.0            0.0                           0.0   \n",
       "...                      ...            ...                           ...   \n",
       "1508                     0.0            0.0                           0.0   \n",
       "1509                     0.0            0.0                           0.0   \n",
       "1510                     0.0            0.0                           0.0   \n",
       "1511                     0.0            0.0                           0.0   \n",
       "1512                     0.0            0.0                           0.0   \n",
       "\n",
       "      x2_Swimming Pool  x2_Vocational School  x2_Worship Facility  Taux_Elec  \\\n",
       "0                  0.0                   0.0                  0.0       0.55   \n",
       "1                  0.0                   0.0                  0.0       0.39   \n",
       "2                  0.0                   0.0                  0.0       0.68   \n",
       "3                  0.0                   0.0                  0.0       0.41   \n",
       "4                  1.0                   0.0                  0.0       0.38   \n",
       "...                ...                   ...                  ...        ...   \n",
       "1508               0.0                   0.0                  0.0       0.68   \n",
       "1509               0.0                   0.0                  0.0       0.42   \n",
       "1510               1.0                   0.0                  0.0       0.31   \n",
       "1511               0.0                   0.0                  0.0       0.48   \n",
       "1512               0.0                   0.0                  0.0       0.38   \n",
       "\n",
       "      Taux_Gaz  Taux_Steam  \n",
       "0         0.18        0.28  \n",
       "1         0.61        0.00  \n",
       "2         0.02        0.30  \n",
       "3         0.27        0.33  \n",
       "4         0.62        0.00  \n",
       "...        ...         ...  \n",
       "1508      0.32        0.00  \n",
       "1509      0.58        0.00  \n",
       "1510      0.69        0.00  \n",
       "1511      0.52        0.00  \n",
       "1512      0.62        0.00  \n",
       "\n",
       "[1509 rows x 149 columns]"
      ]
     },
     "execution_count": 12,
     "metadata": {},
     "output_type": "execute_result"
    }
   ],
   "source": [
    "#numerical_features = pd.concat([numerical_features,one_hot],axis=1)\n",
    "numerical_features"
   ]
  },
  {
   "cell_type": "code",
   "execution_count": 13,
   "id": "b0de547e",
   "metadata": {
    "ExecuteTime": {
     "end_time": "2022-09-05T17:16:26.403191Z",
     "start_time": "2022-09-05T17:16:26.396698Z"
    }
   },
   "outputs": [],
   "source": [
    "y = numerical_features['TotalGHGEmissions']\n",
    "X = numerical_features.drop(['TotalGHGEmissions'],axis=1)"
   ]
  },
  {
   "cell_type": "code",
   "execution_count": 14,
   "id": "be823a30",
   "metadata": {
    "ExecuteTime": {
     "end_time": "2022-09-05T17:16:26.415938Z",
     "start_time": "2022-09-05T17:16:26.412774Z"
    }
   },
   "outputs": [],
   "source": [
    "# = np.log(y)"
   ]
  },
  {
   "cell_type": "code",
   "execution_count": 15,
   "id": "8f7e61bc",
   "metadata": {
    "ExecuteTime": {
     "end_time": "2022-09-05T17:16:26.430606Z",
     "start_time": "2022-09-05T17:16:26.419970Z"
    }
   },
   "outputs": [],
   "source": [
    "X_train, X_test, y_train, y_test = \\\n",
    "train_test_split(X,\n",
    "                 y,\n",
    "                 test_size=0.33, # 33% des données dans le jeu de test\n",
    "                 random_state = 0\n",
    "                )"
   ]
  },
  {
   "cell_type": "code",
   "execution_count": 16,
   "id": "312a5bdf",
   "metadata": {
    "ExecuteTime": {
     "end_time": "2022-09-05T17:16:26.456885Z",
     "start_time": "2022-09-05T17:16:26.432742Z"
    }
   },
   "outputs": [],
   "source": [
    "import math\n",
    "# Centrage et Réduction\n",
    "col = X_test.columns\n",
    "std_scale = StandardScaler().fit(X_train)\n",
    "X_train_scaled = std_scale.transform(X_train)\n",
    "X_train_scaled = pd.DataFrame(X_train_scaled, columns=col, index=X_train.index )\n",
    "X_test_scaled = std_scale.transform(X_test)\n",
    "X_test_scaled = pd.DataFrame(X_test_scaled, columns=col, index=X_test.index)\n",
    "#y_train_log = np.exp(y_train) a tester \n",
    "#y_test_log = np.exp(y_test) a tester"
   ]
  },
  {
   "cell_type": "code",
   "execution_count": 17,
   "id": "89bd01bb",
   "metadata": {
    "ExecuteTime": {
     "end_time": "2022-09-05T17:16:26.464382Z",
     "start_time": "2022-09-05T17:16:26.459234Z"
    }
   },
   "outputs": [],
   "source": [
    "from sklearn.metrics import mean_absolute_error\n",
    "from sklearn.model_selection import GridSearchCV\n",
    "from sklearn.metrics import mean_squared_error\n",
    "from sklearn.metrics import mean_squared_log_error\n",
    "import math # pour le RMSE\n",
    "from sklearn.metrics import r2_score"
   ]
  },
  {
   "cell_type": "code",
   "execution_count": null,
   "id": "1065343a",
   "metadata": {},
   "outputs": [],
   "source": []
  },
  {
   "cell_type": "markdown",
   "id": "65f9b728",
   "metadata": {},
   "source": [
    "# Ridge :"
   ]
  },
  {
   "cell_type": "code",
   "execution_count": 18,
   "id": "a7a7f8fe",
   "metadata": {
    "ExecuteTime": {
     "end_time": "2022-09-05T17:16:29.734116Z",
     "start_time": "2022-09-05T17:16:26.466406Z"
    }
   },
   "outputs": [
    {
     "name": "stdout",
     "output_type": "stream",
     "text": [
      "-----------------------------------------------------\n",
      "Test  R^2 Score :  0.5504532678453773\n",
      "Train R^2 Score :  0.9269665185129566\n",
      "-----------------------------------------------------\n"
     ]
    }
   ],
   "source": [
    "from numpy import absolute\n",
    "from sklearn.model_selection import cross_val_score\n",
    "from sklearn.model_selection import RepeatedKFold\n",
    "from sklearn.linear_model import Ridge\n",
    "from sklearn.linear_model import RidgeCV\n",
    "\n",
    "# define model\n",
    "\n",
    "model = Ridge(alpha=1.0, random_state=0)\n",
    "model.fit(X_train_scaled, y_train)\n",
    "\n",
    "# define model evaluation method\n",
    "cv = RepeatedKFold(n_splits=5, n_repeats=10, random_state=0)\n",
    "# evaluate model\n",
    "scores = cross_val_score(model,X_train_scaled, y_train, scoring='r2', cv=cv, n_jobs=-1)\n",
    "# force scores to be positive and mean\n",
    "scores = absolute(scores).mean()\n",
    "print(\"-\"*53)\n",
    "print(\"Test  R^2 Score : \", model.score(X_test_scaled, y_test))\n",
    "print(\"Train R^2 Score : \", model.score(X_train_scaled, y_train))\n",
    "print(\"-\"*53)"
   ]
  },
  {
   "cell_type": "code",
   "execution_count": 19,
   "id": "9d0d3075",
   "metadata": {
    "ExecuteTime": {
     "end_time": "2022-09-05T17:16:29.740736Z",
     "start_time": "2022-09-05T17:16:29.735609Z"
    }
   },
   "outputs": [
    {
     "data": {
      "text/plain": [
       "'from sklearn.linear_model import Ridge\\nfrom sklearn.model_selection import GridSearchCV\\nfrom sklearn.model_selection import cross_val_score\\n\\nmodel = Ridge(random_state=0)\\n\\nparams_Ridge = {\\'alpha\\': [1,0.1,0.01,0.001,0.0001,0] ,\\n                \"fit_intercept\": [True, False],\\n                \"solver\": [\\'svd\\', \\'cholesky\\', \\'lsqr\\', \\'sparse_cg\\', \\'sag\\', \\'saga\\']\\n               }\\nRidge_GS = GridSearchCV(model, param_grid=params_Ridge, n_jobs=-1)\\nRidge_GS.fit(X_train,y_train)\\ndisplay(Ridge_GS.best_params_)\\n\\n\\nRidgeregression = Ridge(random_state=0, **Ridge_GS.best_params_)\\nTrain_score = cross_val_score(estimator=Ridgeregression, X=X_train, y=y_train, cv=5)\\ndisplay(Train_score.mean()) # => Score de train\\n\\nRidgeregression.fit(X_train,y_train)\\nRidgeregression.score(X_test,y_test) # => Score de test'"
      ]
     },
     "execution_count": 19,
     "metadata": {},
     "output_type": "execute_result"
    }
   ],
   "source": [
    "\"\"\"from sklearn.linear_model import Ridge\n",
    "from sklearn.model_selection import GridSearchCV\n",
    "from sklearn.model_selection import cross_val_score\n",
    "\n",
    "model = Ridge(random_state=0)\n",
    "\n",
    "params_Ridge = {'alpha': [1,0.1,0.01,0.001,0.0001,0] ,\n",
    "                \"fit_intercept\": [True, False],\n",
    "                \"solver\": ['svd', 'cholesky', 'lsqr', 'sparse_cg', 'sag', 'saga']\n",
    "               }\n",
    "Ridge_GS = GridSearchCV(model, param_grid=params_Ridge, n_jobs=-1)\n",
    "Ridge_GS.fit(X_train,y_train)\n",
    "display(Ridge_GS.best_params_)\n",
    "\n",
    "\n",
    "Ridgeregression = Ridge(random_state=0, **Ridge_GS.best_params_)\n",
    "Train_score = cross_val_score(estimator=Ridgeregression, X=X_train, y=y_train, cv=5)\n",
    "display(Train_score.mean()) # => Score de train\n",
    "\n",
    "Ridgeregression.fit(X_train,y_train)\n",
    "Ridgeregression.score(X_test,y_test) # => Score de test\"\"\""
   ]
  },
  {
   "cell_type": "code",
   "execution_count": 20,
   "id": "41baea31",
   "metadata": {
    "ExecuteTime": {
     "end_time": "2022-09-05T17:16:29.804771Z",
     "start_time": "2022-09-05T17:16:29.742632Z"
    }
   },
   "outputs": [
    {
     "data": {
      "text/plain": [
       "{'Ridge': {'r2': 0.5504532678453773,\n",
       "  'Training_score': 0.9269665185129566,\n",
       "  'MAE': 110.19090821242476,\n",
       "  'MSE': 70990.44741623175,\n",
       "  'RMSE': 266.44032618249014,\n",
       "  'Cross_validate': -0.15090226445507762}}"
      ]
     },
     "execution_count": 20,
     "metadata": {},
     "output_type": "execute_result"
    }
   ],
   "source": [
    "y_predict = model.predict(X_test_scaled)\n",
    "Score = {}\n",
    "Score['Ridge'] = {'r2': r2_score(y_test, y_predict),\n",
    "                  'Training_score' :r2_score(y_train, model.predict(X_train_scaled)),\n",
    "                  'MAE' : mean_absolute_error(y_test, y_predict),\n",
    "                  'MSE' : mean_squared_error(y_test, y_predict, squared=True),\n",
    "                  #'MSLE' : mean_squared_log_error(y_test, y_predict, squared=True),\n",
    "                  'RMSE' : mean_squared_error(y_test, y_predict, squared=False),\n",
    "                  #'RMSLE' : mean_squared_log_error(y_test, y_predict, squared=False),\n",
    "                  'Cross_validate' : (cross_val_score(model, X_train_scaled, y_train, cv=5)).mean(),\n",
    "                 # 'Time_process' : round(model.cv_results_['mean_fit_time'].max(), 3)\n",
    "                 }\n",
    "Score"
   ]
  },
  {
   "cell_type": "markdown",
   "id": "d42117d2",
   "metadata": {},
   "source": [
    "## Visualisation :"
   ]
  },
  {
   "cell_type": "code",
   "execution_count": 21,
   "id": "35c0c46e",
   "metadata": {
    "ExecuteTime": {
     "end_time": "2022-09-05T17:16:32.181764Z",
     "start_time": "2022-09-05T17:16:29.806568Z"
    }
   },
   "outputs": [
    {
     "data": {
      "image/png": "[encoded data removed]",
      "text/plain": [
       "<Figure size 864x576 with 1 Axes>"
      ]
     },
     "metadata": {},
     "output_type": "display_data"
    },
    {
     "data": {
      "text/plain": [
       "<AxesSubplot:title={'center':'Ridge Alpha Error'}, xlabel='alpha', ylabel='error (or score)'>"
      ]
     },
     "execution_count": 21,
     "metadata": {},
     "output_type": "execute_result"
    }
   ],
   "source": [
    "from yellowbrick.regressor import ManualAlphaSelection\n",
    "# Instantiate the visualizer\n",
    "alphas = np.logspace(1, 4, 50)\n",
    "visualizer = ManualAlphaSelection(\n",
    "    Ridge(),\n",
    "    alphas=alphas,\n",
    "    cv=5,\n",
    "    scoring=\"neg_mean_squared_error\"\n",
    ")\n",
    "plt.figure(figsize=(12,8))\n",
    "visualizer.fit(X_train, y_train)\n",
    "visualizer.show()"
   ]
  },
  {
   "cell_type": "code",
   "execution_count": 22,
   "id": "5979aa9a",
   "metadata": {
    "ExecuteTime": {
     "end_time": "2022-09-05T17:16:33.990365Z",
     "start_time": "2022-09-05T17:16:32.184029Z"
    }
   },
   "outputs": [
    {
     "data": {
      "image/png": "[encoded data removed]",
      "text/plain": [
       "<Figure size 864x576 with 1 Axes>"
      ]
     },
     "metadata": {},
     "output_type": "display_data"
    },
    {
     "data": {
      "text/plain": [
       "<AxesSubplot:title={'center':'Learning Curve for RidgeCV'}, xlabel='Training Instances', ylabel='Score'>"
      ]
     },
     "execution_count": 22,
     "metadata": {},
     "output_type": "execute_result"
    }
   ],
   "source": [
    "from yellowbrick.model_selection import LearningCurve\n",
    "from sklearn.linear_model import RidgeCV\n",
    "# Instantiate the regression model and visualizer\n",
    "model = RidgeCV()\n",
    "visualizer = LearningCurve(model, scoring='r2')\n",
    "plt.figure(figsize=(12,8))\n",
    "visualizer.fit(X_train, y_train)        # Fit the data to the visualizer\n",
    "visualizer.show()           # Finalize and render the figure"
   ]
  },
  {
   "cell_type": "code",
   "execution_count": 23,
   "id": "3e9f1722",
   "metadata": {
    "ExecuteTime": {
     "end_time": "2022-09-05T17:16:34.118435Z",
     "start_time": "2022-09-05T17:16:33.991978Z"
    }
   },
   "outputs": [
    {
     "data": {
      "image/png": "[encoded data removed]",
      "text/plain": [
       "<Figure size 864x576 with 1 Axes>"
      ]
     },
     "metadata": {},
     "output_type": "display_data"
    },
    {
     "data": {
      "text/plain": [
       "<AxesSubplot:title={'center':'Cross Validation Scores for Ridge'}, xlabel='Training Instances', ylabel='Score'>"
      ]
     },
     "execution_count": 23,
     "metadata": {},
     "output_type": "execute_result"
    }
   ],
   "source": [
    "from sklearn.linear_model import Ridge\n",
    "from yellowbrick.model_selection import CVScores\n",
    "\n",
    "# Instantiate the regression model and visualizer\n",
    "cv =5\n",
    "\n",
    "model = Ridge()\n",
    "visualizer = CVScores(model, cv=cv, scoring='r2')\n",
    "plt.figure(figsize=(12,8))\n",
    "visualizer.fit(X_train, y_train)      # Fit the data to the visualizer\n",
    "visualizer.show()           # Finalize and render the figure"
   ]
  },
  {
   "cell_type": "markdown",
   "id": "5c8e6559",
   "metadata": {},
   "source": [
    "# Lasso :"
   ]
  },
  {
   "cell_type": "code",
   "execution_count": 24,
   "id": "22a5ee6b",
   "metadata": {
    "ExecuteTime": {
     "end_time": "2022-09-05T17:16:34.490056Z",
     "start_time": "2022-09-05T17:16:34.121307Z"
    }
   },
   "outputs": [
    {
     "name": "stderr",
     "output_type": "stream",
     "text": [
      "[Parallel(n_jobs=-1)]: Using backend LokyBackend with 8 concurrent workers.\n",
      "[Parallel(n_jobs=-1)]: Done  17 tasks      | elapsed:    0.1s\n"
     ]
    },
    {
     "name": "stdout",
     "output_type": "stream",
     "text": [
      "-----------------------------------------------------\n",
      "Test  R^2 Score :  0.5570493291735725\n",
      "Train R^2 Score :  0.9263893260703999\n",
      "-----------------------------------------------------\n"
     ]
    },
    {
     "name": "stderr",
     "output_type": "stream",
     "text": [
      "[Parallel(n_jobs=-1)]: Done  50 out of  50 | elapsed:    0.2s finished\n"
     ]
    }
   ],
   "source": [
    "from sklearn import linear_model\n",
    "from sklearn.linear_model import Lasso\n",
    "# define model\n",
    "model = Lasso(alpha=1.0)\n",
    "model.fit(X_train_scaled, y_train)\n",
    "# define model evaluation method\n",
    "cv = RepeatedKFold(n_splits=5, n_repeats=10, random_state=0)\n",
    "# evaluate model\n",
    "scores = cross_val_score(model, X_train_scaled, y_train, scoring='r2', cv=cv, n_jobs=-1, verbose=3)\n",
    "# force scores to be positive and mean\n",
    "scores = absolute(scores).mean()\n",
    "print(\"-\"*53)\n",
    "print(\"Test  R^2 Score : \", model.score(X_test_scaled, y_test))\n",
    "print(\"Train R^2 Score : \", model.score(X_train_scaled, y_train))\n",
    "print(\"-\"*53)"
   ]
  },
  {
   "cell_type": "code",
   "execution_count": 25,
   "id": "f3acaea2",
   "metadata": {
    "ExecuteTime": {
     "end_time": "2022-09-05T17:16:34.497620Z",
     "start_time": "2022-09-05T17:16:34.492240Z"
    }
   },
   "outputs": [
    {
     "data": {
      "text/plain": [
       "'from sklearn.linear_model import Lasso\\nfrom sklearn.model_selection import GridSearchCV\\nfrom sklearn.model_selection import cross_val_score\\n\\nmodel = Lasso(random_state=0)\\n\\nparams_Lasso = {\\'alpha\\': [1,0.1,0.01,0.001,0.0001,0] ,\\n                \"fit_intercept\": [True, False],\\n                #\"solver\": [\\'svd\\', \\'cholesky\\', \\'lsqr\\', \\'sparse_cg\\', \\'sag\\', \\'saga\\']\\n               }\\nLasso_GS = GridSearchCV(model, param_grid=params_Lasso, n_jobs=-1)\\nLasso_GS.fit(X_train,y_train)\\ndisplay(Lasso_GS.best_params_)\\n\\n\\nLassoregression = Lasso(random_state=0, **Lasso_GS.best_params_)\\nTrain_score = cross_val_score(estimator=Lassoregression, X=X_train, y=y_train, cv=5)\\ndisplay(Train_score.mean()) # => Score de train\\n\\nLassoregression.fit(X_train,y_train)\\nLassoregression.score(X_test,y_test) # => Score de test'"
      ]
     },
     "execution_count": 25,
     "metadata": {},
     "output_type": "execute_result"
    }
   ],
   "source": [
    "\"\"\"from sklearn.linear_model import Lasso\n",
    "from sklearn.model_selection import GridSearchCV\n",
    "from sklearn.model_selection import cross_val_score\n",
    "\n",
    "model = Lasso(random_state=0)\n",
    "\n",
    "params_Lasso = {'alpha': [1,0.1,0.01,0.001,0.0001,0] ,\n",
    "                \"fit_intercept\": [True, False],\n",
    "                #\"solver\": ['svd', 'cholesky', 'lsqr', 'sparse_cg', 'sag', 'saga']\n",
    "               }\n",
    "Lasso_GS = GridSearchCV(model, param_grid=params_Lasso, n_jobs=-1)\n",
    "Lasso_GS.fit(X_train,y_train)\n",
    "display(Lasso_GS.best_params_)\n",
    "\n",
    "\n",
    "Lassoregression = Lasso(random_state=0, **Lasso_GS.best_params_)\n",
    "Train_score = cross_val_score(estimator=Lassoregression, X=X_train, y=y_train, cv=5)\n",
    "display(Train_score.mean()) # => Score de train\n",
    "\n",
    "Lassoregression.fit(X_train,y_train)\n",
    "Lassoregression.score(X_test,y_test) # => Score de test\"\"\""
   ]
  },
  {
   "cell_type": "code",
   "execution_count": null,
   "id": "f1d93ffa",
   "metadata": {},
   "outputs": [],
   "source": []
  },
  {
   "cell_type": "code",
   "execution_count": 26,
   "id": "1a85a8a4",
   "metadata": {
    "ExecuteTime": {
     "end_time": "2022-09-05T17:16:34.637028Z",
     "start_time": "2022-09-05T17:16:34.501407Z"
    }
   },
   "outputs": [
    {
     "data": {
      "text/plain": [
       "{'Ridge': {'r2': 0.5504532678453773,\n",
       "  'Training_score': 0.9269665185129566,\n",
       "  'MAE': 110.19090821242476,\n",
       "  'MSE': 70990.44741623175,\n",
       "  'RMSE': 266.44032618249014,\n",
       "  'Cross_validate': -0.15090226445507762},\n",
       " 'Lasso': {'r2': 0.5570493291735725,\n",
       "  'Training_score': 0.9263893260703999,\n",
       "  'MAE': 104.84765753206517,\n",
       "  'MSE': 69948.82635354671,\n",
       "  'RMSE': 264.47840432357935,\n",
       "  'Cross_validate': -0.13884863281573093}}"
      ]
     },
     "execution_count": 26,
     "metadata": {},
     "output_type": "execute_result"
    }
   ],
   "source": [
    "y_predict = model.predict(X_test_scaled)\n",
    "Score['Lasso'] ={'r2': r2_score(y_test, y_predict),\n",
    "                  'Training_score' :r2_score(y_train, model.predict(X_train_scaled)),\n",
    "                  'MAE' : mean_absolute_error(y_test, y_predict),\n",
    "                  'MSE' : mean_squared_error(y_test, y_predict, squared=True),\n",
    "                  #'MSLE' : mean_squared_log_error(y_test, y_predict, squared=True),\n",
    "                  'RMSE' : mean_squared_error(y_test, y_predict, squared=False),\n",
    "                 # 'RMSLE' : mean_squared_log_error(y_test, y_predict, squared=False),\n",
    "                  'Cross_validate' : (cross_val_score(model, X_train_scaled, y_train, cv=5)).mean(),\n",
    "                 }\n",
    "Score"
   ]
  },
  {
   "cell_type": "markdown",
   "id": "62b35d91",
   "metadata": {},
   "source": [
    "## Visualisation :"
   ]
  },
  {
   "cell_type": "code",
   "execution_count": 27,
   "id": "530e4231",
   "metadata": {
    "ExecuteTime": {
     "end_time": "2022-09-05T17:16:34.821631Z",
     "start_time": "2022-09-05T17:16:34.638283Z"
    }
   },
   "outputs": [
    {
     "data": {
      "image/png": "[encoded data removed]",
      "text/plain": [
       "<Figure size 864x576 with 1 Axes>"
      ]
     },
     "metadata": {},
     "output_type": "display_data"
    },
    {
     "data": {
      "text/html": [
       "<style>#sk-container-id-1 {color: black;background-color: white;}#sk-container-id-1 pre{padding: 0;}#sk-container-id-1 div.sk-toggleable {background-color: white;}#sk-container-id-1 label.sk-toggleable__label {cursor: pointer;display: block;width: 100%;margin-bottom: 0;padding: 0.3em;box-sizing: border-box;text-align: center;}#sk-container-id-1 label.sk-toggleable__label-arrow:before {content: \"▸\";float: left;margin-right: 0.25em;color: #696969;}#sk-container-id-1 label.sk-toggleable__label-arrow:hover:before {color: black;}#sk-container-id-1 div.sk-estimator:hover label.sk-toggleable__label-arrow:before {color: black;}#sk-container-id-1 div.sk-toggleable__content {max-height: 0;max-width: 0;overflow: hidden;text-align: left;background-color: #f0f8ff;}#sk-container-id-1 div.sk-toggleable__content pre {margin: 0.2em;color: black;border-radius: 0.25em;background-color: #f0f8ff;}#sk-container-id-1 input.sk-toggleable__control:checked~div.sk-toggleable__content {max-height: 200px;max-width: 100%;overflow: auto;}#sk-container-id-1 input.sk-toggleable__control:checked~label.sk-toggleable__label-arrow:before {content: \"▾\";}#sk-container-id-1 div.sk-estimator input.sk-toggleable__control:checked~label.sk-toggleable__label {background-color: #d4ebff;}#sk-container-id-1 div.sk-label input.sk-toggleable__control:checked~label.sk-toggleable__label {background-color: #d4ebff;}#sk-container-id-1 input.sk-hidden--visually {border: 0;clip: rect(1px 1px 1px 1px);clip: rect(1px, 1px, 1px, 1px);height: 1px;margin: -1px;overflow: hidden;padding: 0;position: absolute;width: 1px;}#sk-container-id-1 div.sk-estimator {font-family: monospace;background-color: #f0f8ff;border: 1px dotted black;border-radius: 0.25em;box-sizing: border-box;margin-bottom: 0.5em;}#sk-container-id-1 div.sk-estimator:hover {background-color: #d4ebff;}#sk-container-id-1 div.sk-parallel-item::after {content: \"\";width: 100%;border-bottom: 1px solid gray;flex-grow: 1;}#sk-container-id-1 div.sk-label:hover label.sk-toggleable__label {background-color: #d4ebff;}#sk-container-id-1 div.sk-serial::before {content: \"\";position: absolute;border-left: 1px solid gray;box-sizing: border-box;top: 0;bottom: 0;left: 50%;z-index: 0;}#sk-container-id-1 div.sk-serial {display: flex;flex-direction: column;align-items: center;background-color: white;padding-right: 0.2em;padding-left: 0.2em;position: relative;}#sk-container-id-1 div.sk-item {position: relative;z-index: 1;}#sk-container-id-1 div.sk-parallel {display: flex;align-items: stretch;justify-content: center;background-color: white;position: relative;}#sk-container-id-1 div.sk-item::before, #sk-container-id-1 div.sk-parallel-item::before {content: \"\";position: absolute;border-left: 1px solid gray;box-sizing: border-box;top: 0;bottom: 0;left: 50%;z-index: -1;}#sk-container-id-1 div.sk-parallel-item {display: flex;flex-direction: column;z-index: 1;position: relative;background-color: white;}#sk-container-id-1 div.sk-parallel-item:first-child::after {align-self: flex-end;width: 50%;}#sk-container-id-1 div.sk-parallel-item:last-child::after {align-self: flex-start;width: 50%;}#sk-container-id-1 div.sk-parallel-item:only-child::after {width: 0;}#sk-container-id-1 div.sk-dashed-wrapped {border: 1px dashed gray;margin: 0 0.4em 0.5em 0.4em;box-sizing: border-box;padding-bottom: 0.4em;background-color: white;}#sk-container-id-1 div.sk-label label {font-family: monospace;font-weight: bold;display: inline-block;line-height: 1.2em;}#sk-container-id-1 div.sk-label-container {text-align: center;}#sk-container-id-1 div.sk-container {/* jupyter's `normalize.less` sets `[hidden] { display: none; }` but bootstrap.min.css set `[hidden] { display: none !important; }` so we also need the `!important` here to be able to override the default hidden behavior on the sphinx rendered scikit-learn.org. See: https://github.com/scikit-learn/scikit-learn/issues/21755 */display: inline-block !important;position: relative;}#sk-container-id-1 div.sk-text-repr-fallback {display: none;}</style><div id=\"sk-container-id-1\" class=\"sk-top-container\"><div class=\"sk-text-repr-fallback\"><pre>AlphaSelection(ax=&lt;AxesSubplot:title={&#x27;center&#x27;:&#x27;LassoCV Alpha Error&#x27;}, xlabel=&#x27;alpha&#x27;, ylabel=&#x27;error (or score)&#x27;&gt;,\n",
       "               estimator=LassoCV(random_state=0))</pre><b>In a Jupyter environment, please rerun this cell to show the HTML representation or trust the notebook. <br />On GitHub, the HTML representation is unable to render, please try loading this page with nbviewer.org.</b></div><div class=\"sk-container\" hidden><div class=\"sk-item sk-dashed-wrapped\"><div class=\"sk-label-container\"><div class=\"sk-label sk-toggleable\"><input class=\"sk-toggleable__control sk-hidden--visually\" id=\"sk-estimator-id-1\" type=\"checkbox\" ><label for=\"sk-estimator-id-1\" class=\"sk-toggleable__label sk-toggleable__label-arrow\">AlphaSelection</label><div class=\"sk-toggleable__content\"><pre>AlphaSelection(ax=&lt;AxesSubplot:title={&#x27;center&#x27;:&#x27;LassoCV Alpha Error&#x27;}, xlabel=&#x27;alpha&#x27;, ylabel=&#x27;error (or score)&#x27;&gt;,\n",
       "               estimator=LassoCV(random_state=0))</pre></div></div></div><div class=\"sk-parallel\"><div class=\"sk-parallel-item\"><div class=\"sk-item\"><div class=\"sk-label-container\"><div class=\"sk-label sk-toggleable\"><input class=\"sk-toggleable__control sk-hidden--visually\" id=\"sk-estimator-id-2\" type=\"checkbox\" ><label for=\"sk-estimator-id-2\" class=\"sk-toggleable__label sk-toggleable__label-arrow\">estimator: LassoCV</label><div class=\"sk-toggleable__content\"><pre>LassoCV(random_state=0)</pre></div></div></div><div class=\"sk-serial\"><div class=\"sk-item\"><div class=\"sk-estimator sk-toggleable\"><input class=\"sk-toggleable__control sk-hidden--visually\" id=\"sk-estimator-id-3\" type=\"checkbox\" ><label for=\"sk-estimator-id-3\" class=\"sk-toggleable__label sk-toggleable__label-arrow\">LassoCV</label><div class=\"sk-toggleable__content\"><pre>LassoCV(random_state=0)</pre></div></div></div></div></div></div></div></div></div></div>"
      ],
      "text/plain": [
       "AlphaSelection(ax=<AxesSubplot:title={'center':'LassoCV Alpha Error'}, xlabel='alpha', ylabel='error (or score)'>,\n",
       "               estimator=LassoCV(random_state=0))"
      ]
     },
     "execution_count": 27,
     "metadata": {},
     "output_type": "execute_result"
    }
   ],
   "source": [
    "from sklearn.linear_model import LassoCV\n",
    "from yellowbrick.regressor.alphas import alphas\n",
    "# Use the quick method and immediately show the figure\n",
    "plt.figure(figsize=(12,8))\n",
    "alphas(LassoCV(random_state=0), X_train, y_train)"
   ]
  },
  {
   "cell_type": "markdown",
   "id": "a8723505",
   "metadata": {},
   "source": [
    "# Elastic Net :"
   ]
  },
  {
   "cell_type": "code",
   "execution_count": 28,
   "id": "c207591f",
   "metadata": {
    "ExecuteTime": {
     "end_time": "2022-09-05T17:16:35.097985Z",
     "start_time": "2022-09-05T17:16:34.823861Z"
    }
   },
   "outputs": [
    {
     "name": "stdout",
     "output_type": "stream",
     "text": [
      "-----------------------------------------------------\n",
      "Test  R^2 Score :  0.6358690408852374\n",
      "Train R^2 Score :  0.7719166298878981\n",
      "-----------------------------------------------------\n"
     ]
    }
   ],
   "source": [
    "from sklearn.linear_model import ElasticNet\n",
    "model = ElasticNet(alpha=1.0,random_state=0)\n",
    "model.fit(X_train_scaled, y_train)\n",
    "# define model evaluation method\n",
    "cv = RepeatedKFold(n_splits=5, n_repeats=10, random_state=0)\n",
    "# evaluate model\n",
    "scores = cross_val_score(model, X_train_scaled, y_train, scoring='r2', cv=cv, n_jobs=-1)\n",
    "# force scores to be positive and mean\n",
    "scores = absolute(scores).mean()\n",
    "print(\"-\"*53)\n",
    "print(\"Test  R^2 Score : \", model.score(X_test_scaled, y_test))\n",
    "print(\"Train R^2 Score : \", model.score(X_train_scaled, y_train))\n",
    "print(\"-\"*53)"
   ]
  },
  {
   "cell_type": "code",
   "execution_count": 29,
   "id": "406926b5",
   "metadata": {
    "ExecuteTime": {
     "end_time": "2022-09-05T17:16:35.149534Z",
     "start_time": "2022-09-05T17:16:35.100850Z"
    }
   },
   "outputs": [
    {
     "data": {
      "text/plain": [
       "{'Ridge': {'r2': 0.5504532678453773,\n",
       "  'Training_score': 0.9269665185129566,\n",
       "  'MAE': 110.19090821242476,\n",
       "  'MSE': 70990.44741623175,\n",
       "  'RMSE': 266.44032618249014,\n",
       "  'Cross_validate': -0.15090226445507762},\n",
       " 'Lasso': {'r2': 0.5570493291735725,\n",
       "  'Training_score': 0.9263893260703999,\n",
       "  'MAE': 104.84765753206517,\n",
       "  'MSE': 69948.82635354671,\n",
       "  'RMSE': 264.47840432357935,\n",
       "  'Cross_validate': -0.13884863281573093},\n",
       " 'Elastic_Net': {'r2': 0.6358690408852374,\n",
       "  'Training_score': 0.7719166298878981,\n",
       "  'MAE': 104.50172962361248,\n",
       "  'MSE': 57501.96332595623,\n",
       "  'RMSE': 239.7956699483046,\n",
       "  'Cross_validate': 0.4480277219436516}}"
      ]
     },
     "execution_count": 29,
     "metadata": {},
     "output_type": "execute_result"
    }
   ],
   "source": [
    "y_predict = model.predict(X_test_scaled)\n",
    "Score['Elastic_Net']  = {'r2': r2_score(y_test, y_predict),\n",
    "                  'Training_score' :r2_score(y_train, model.predict(X_train_scaled)),\n",
    "                  'MAE' : mean_absolute_error(y_test, y_predict),\n",
    "                  'MSE' : mean_squared_error(y_test, y_predict, squared=True),\n",
    "                 # 'MSLE' : mean_squared_log_error(y_test, y_predict, squared=True),\n",
    "                  'RMSE' : mean_squared_error(y_test, y_predict, squared=False),\n",
    "                 # 'RMSLE' : mean_squared_log_error(y_test, y_predict, squared=False),\n",
    "                  'Cross_validate' : (cross_val_score(model, X_train_scaled, y_train, cv=5)).mean()\n",
    "                 }\n",
    "Score"
   ]
  },
  {
   "cell_type": "markdown",
   "id": "827fc8c5",
   "metadata": {},
   "source": [
    "# Random Forest :"
   ]
  },
  {
   "cell_type": "code",
   "execution_count": 30,
   "id": "5bb8f4b8",
   "metadata": {
    "ExecuteTime": {
     "end_time": "2022-09-05T17:16:36.010417Z",
     "start_time": "2022-09-05T17:16:35.151945Z"
    }
   },
   "outputs": [
    {
     "name": "stdout",
     "output_type": "stream",
     "text": [
      "-----------------------------------------------------\n",
      "Test  R^2 Score :  0.8139840006028662\n",
      "Train R^2 Score :  0.9842456342671596\n",
      "-----------------------------------------------------\n"
     ]
    }
   ],
   "source": [
    "from sklearn.ensemble import RandomForestRegressor\n",
    "model = RandomForestRegressor(n_estimators=100,random_state=0)\n",
    "\n",
    "model.fit(X_train_scaled, y_train)\n",
    "print(\"-\"*53)\n",
    "print(\"Test  R^2 Score : \", model.score(X_test_scaled, y_test))\n",
    "print(\"Train R^2 Score : \", model.score(X_train_scaled, y_train))\n",
    "print(\"-\"*53)"
   ]
  },
  {
   "cell_type": "code",
   "execution_count": 31,
   "id": "9cf9a9a9",
   "metadata": {
    "ExecuteTime": {
     "end_time": "2022-09-05T17:16:39.024369Z",
     "start_time": "2022-09-05T17:16:36.011492Z"
    }
   },
   "outputs": [
    {
     "data": {
      "text/plain": [
       "{'Ridge': {'r2': 0.5504532678453773,\n",
       "  'Training_score': 0.9269665185129566,\n",
       "  'MAE': 110.19090821242476,\n",
       "  'MSE': 70990.44741623175,\n",
       "  'RMSE': 266.44032618249014,\n",
       "  'Cross_validate': -0.15090226445507762},\n",
       " 'Lasso': {'r2': 0.5570493291735725,\n",
       "  'Training_score': 0.9263893260703999,\n",
       "  'MAE': 104.84765753206517,\n",
       "  'MSE': 69948.82635354671,\n",
       "  'RMSE': 264.47840432357935,\n",
       "  'Cross_validate': -0.13884863281573093},\n",
       " 'Elastic_Net': {'r2': 0.6358690408852374,\n",
       "  'Training_score': 0.7719166298878981,\n",
       "  'MAE': 104.50172962361248,\n",
       "  'MSE': 57501.96332595623,\n",
       "  'RMSE': 239.7956699483046,\n",
       "  'Cross_validate': 0.4480277219436516},\n",
       " 'Random_forest': {'r2': 0.8139840006028662,\n",
       "  'Training_score': 0.9842456342671596,\n",
       "  'MAE': 29.164485943775112,\n",
       "  'MSE': 29374.83042194155,\n",
       "  'RMSE': 171.39087029927106,\n",
       "  'Cross_validate': 0.031058347446088774}}"
      ]
     },
     "execution_count": 31,
     "metadata": {},
     "output_type": "execute_result"
    }
   ],
   "source": [
    "y_predict = model.predict(X_test_scaled)\n",
    "Score['Random_forest']  = {'r2': r2_score(y_test, y_predict),\n",
    "                  'Training_score' :r2_score(y_train, model.predict(X_train_scaled)),\n",
    "                  'MAE' : mean_absolute_error(y_test, y_predict),\n",
    "                  'MSE' : mean_squared_error(y_test, y_predict, squared=True),\n",
    "                 # 'MSLE' : mean_squared_log_error(y_test, y_predict, squared=True),\n",
    "                  'RMSE' : mean_squared_error(y_test, y_predict, squared=False),\n",
    "                 # 'RMSLE' : mean_squared_log_error(y_test, y_predict, squared=False),\n",
    "                  'Cross_validate' : (cross_val_score(model, X_train_scaled, y_train, cv=5)).mean()\n",
    "                 }\n",
    "Score"
   ]
  },
  {
   "cell_type": "markdown",
   "id": "19c9d7d2",
   "metadata": {},
   "source": [
    "## Visualisation :"
   ]
  },
  {
   "cell_type": "code",
   "execution_count": 32,
   "id": "bad93541",
   "metadata": {
    "ExecuteTime": {
     "end_time": "2022-09-05T17:16:39.691011Z",
     "start_time": "2022-09-05T17:16:39.025361Z"
    }
   },
   "outputs": [
    {
     "data": {
      "image/png": "[encoded data removed]",
      "text/plain": [
       "<Figure size 864x576 with 1 Axes>"
      ]
     },
     "metadata": {},
     "output_type": "display_data"
    },
    {
     "data": {
      "text/plain": [
       "<AxesSubplot:title={'center':'Validation Curve for DecisionTreeRegressor'}, xlabel='max_depth', ylabel='score'>"
      ]
     },
     "execution_count": 32,
     "metadata": {},
     "output_type": "execute_result"
    }
   ],
   "source": [
    "from yellowbrick.model_selection import ValidationCurve\n",
    "from sklearn.tree import DecisionTreeRegressor\n",
    "\n",
    "viz = ValidationCurve(\n",
    "    DecisionTreeRegressor(), param_name=\"max_depth\",\n",
    "    param_range=np.arange(1, 11), cv=5, scoring=\"r2\"\n",
    ")\n",
    "\n",
    "# Fit and show the visualizer\n",
    "plt.figure(figsize=(12,8))\n",
    "viz.fit(X, y)\n",
    "viz.show()"
   ]
  },
  {
   "cell_type": "markdown",
   "id": "26d81fc8",
   "metadata": {},
   "source": [
    "# Xgboost :"
   ]
  },
  {
   "cell_type": "code",
   "execution_count": 33,
   "id": "33a2ad8e",
   "metadata": {
    "ExecuteTime": {
     "end_time": "2022-09-05T17:16:40.080791Z",
     "start_time": "2022-09-05T17:16:39.692923Z"
    }
   },
   "outputs": [
    {
     "name": "stdout",
     "output_type": "stream",
     "text": [
      "-----------------------------------------------------\n",
      "Test  R^2 Score :  0.9143446372566354\n",
      "Train R^2 Score :  0.9999979460316666\n",
      "-----------------------------------------------------\n"
     ]
    }
   ],
   "source": [
    "from xgboost import XGBRegressor\n",
    "model = XGBRegressor(random_state=0)\n",
    "model.fit(X_train_scaled, y_train)\n",
    "print(\"-\"*53)\n",
    "print(\"Test  R^2 Score : \", model.score(X_test_scaled, y_test))\n",
    "print(\"Train R^2 Score : \", model.score(X_train_scaled, y_train))\n",
    "print(\"-\"*53)"
   ]
  },
  {
   "cell_type": "code",
   "execution_count": 34,
   "id": "2b102d71",
   "metadata": {
    "ExecuteTime": {
     "end_time": "2022-09-05T17:16:41.869636Z",
     "start_time": "2022-09-05T17:16:40.081963Z"
    }
   },
   "outputs": [
    {
     "data": {
      "text/plain": [
       "{'Ridge': {'r2': 0.5504532678453773,\n",
       "  'Training_score': 0.9269665185129566,\n",
       "  'MAE': 110.19090821242476,\n",
       "  'MSE': 70990.44741623175,\n",
       "  'RMSE': 266.44032618249014,\n",
       "  'Cross_validate': -0.15090226445507762},\n",
       " 'Lasso': {'r2': 0.5570493291735725,\n",
       "  'Training_score': 0.9263893260703999,\n",
       "  'MAE': 104.84765753206517,\n",
       "  'MSE': 69948.82635354671,\n",
       "  'RMSE': 264.47840432357935,\n",
       "  'Cross_validate': -0.13884863281573093},\n",
       " 'Elastic_Net': {'r2': 0.6358690408852374,\n",
       "  'Training_score': 0.7719166298878981,\n",
       "  'MAE': 104.50172962361248,\n",
       "  'MSE': 57501.96332595623,\n",
       "  'RMSE': 239.7956699483046,\n",
       "  'Cross_validate': 0.4480277219436516},\n",
       " 'Random_forest': {'r2': 0.8139840006028662,\n",
       "  'Training_score': 0.9842456342671596,\n",
       "  'MAE': 29.164485943775112,\n",
       "  'MSE': 29374.83042194155,\n",
       "  'RMSE': 171.39087029927106,\n",
       "  'Cross_validate': 0.031058347446088774},\n",
       " 'xgboost': {'r2': 0.9143446372566354,\n",
       "  'Training_score': 0.9999979460316666,\n",
       "  'MAE': 22.537646832509218,\n",
       "  'MSE': 13526.319044978847,\n",
       "  'RMSE': 116.30270437517284,\n",
       "  'Cross_validate': -0.19041861489723175}}"
      ]
     },
     "execution_count": 34,
     "metadata": {},
     "output_type": "execute_result"
    }
   ],
   "source": [
    "y_predict = model.predict(X_test_scaled)\n",
    "Score['xgboost']  = {'r2': r2_score(y_test, y_predict),\n",
    "                  'Training_score' :r2_score(y_train, model.predict(X_train_scaled)),\n",
    "                  'MAE' : mean_absolute_error(y_test, y_predict),\n",
    "                  'MSE' : mean_squared_error(y_test, y_predict, squared=True),\n",
    "                 # 'MSLE' : mean_squared_log_error(y_test, y_predict, squared=True),\n",
    "                  'RMSE' : mean_squared_error(y_test, y_predict, squared=False),\n",
    "                 # 'RMSLE' : mean_squared_log_error(y_test, y_predict, squared=False),\n",
    "                  'Cross_validate' : (cross_val_score(model, X_train_scaled, y_train, cv=5)).mean()\n",
    "                 }\n",
    "Score"
   ]
  },
  {
   "cell_type": "markdown",
   "id": "688c8796",
   "metadata": {},
   "source": [
    "# SVR : "
   ]
  },
  {
   "cell_type": "code",
   "execution_count": 35,
   "id": "7ec40427",
   "metadata": {
    "ExecuteTime": {
     "end_time": "2022-09-05T17:16:42.176274Z",
     "start_time": "2022-09-05T17:16:41.871744Z"
    }
   },
   "outputs": [
    {
     "name": "stdout",
     "output_type": "stream",
     "text": [
      "-----------------------------------------------------\n",
      "Test  R^2 Score :  -0.05366591464039061\n",
      "Train R^2 Score :  -0.025899293793087752\n",
      "-----------------------------------------------------\n"
     ]
    }
   ],
   "source": [
    "from sklearn.svm import SVR\n",
    "from sklearn.pipeline import make_pipeline\n",
    "from sklearn.preprocessing import StandardScaler\n",
    "model = make_pipeline(StandardScaler(), SVR(C=1.0, epsilon=0.2))\n",
    "model.fit(X_train_scaled, y_train)\n",
    "print(\"-\"*53)\n",
    "print(\"Test  R^2 Score : \", model.score(X_test_scaled, y_test))\n",
    "print(\"Train R^2 Score : \", model.score(X_train_scaled, y_train))\n",
    "print(\"-\"*53)"
   ]
  },
  {
   "cell_type": "code",
   "execution_count": 36,
   "id": "5edaf82d",
   "metadata": {
    "ExecuteTime": {
     "end_time": "2022-09-05T17:16:42.730715Z",
     "start_time": "2022-09-05T17:16:42.178267Z"
    }
   },
   "outputs": [
    {
     "data": {
      "text/plain": [
       "{'Ridge': {'r2': 0.5504532678453773,\n",
       "  'Training_score': 0.9269665185129566,\n",
       "  'MAE': 110.19090821242476,\n",
       "  'MSE': 70990.44741623175,\n",
       "  'RMSE': 266.44032618249014,\n",
       "  'Cross_validate': -0.15090226445507762},\n",
       " 'Lasso': {'r2': 0.5570493291735725,\n",
       "  'Training_score': 0.9263893260703999,\n",
       "  'MAE': 104.84765753206517,\n",
       "  'MSE': 69948.82635354671,\n",
       "  'RMSE': 264.47840432357935,\n",
       "  'Cross_validate': -0.13884863281573093},\n",
       " 'Elastic_Net': {'r2': 0.6358690408852374,\n",
       "  'Training_score': 0.7719166298878981,\n",
       "  'MAE': 104.50172962361248,\n",
       "  'MSE': 57501.96332595623,\n",
       "  'RMSE': 239.7956699483046,\n",
       "  'Cross_validate': 0.4480277219436516},\n",
       " 'Random_forest': {'r2': 0.8139840006028662,\n",
       "  'Training_score': 0.9842456342671596,\n",
       "  'MAE': 29.164485943775112,\n",
       "  'MSE': 29374.83042194155,\n",
       "  'RMSE': 171.39087029927106,\n",
       "  'Cross_validate': 0.031058347446088774},\n",
       " 'xgboost': {'r2': 0.9143446372566354,\n",
       "  'Training_score': 0.9999979460316666,\n",
       "  'MAE': 22.537646832509218,\n",
       "  'MSE': 13526.319044978847,\n",
       "  'RMSE': 116.30270437517284,\n",
       "  'Cross_validate': -0.19041861489723175},\n",
       " 'SVR': {'r2': -0.05366591464039061,\n",
       "  'Training_score': -0.025899293793087752,\n",
       "  'MAE': 128.98325904349636,\n",
       "  'MSE': 166390.29795422175,\n",
       "  'RMSE': 407.90966886581856,\n",
       "  'Cross_validate': -0.06512049141782761}}"
      ]
     },
     "execution_count": 36,
     "metadata": {},
     "output_type": "execute_result"
    }
   ],
   "source": [
    "y_predict = model.predict(X_test_scaled)\n",
    "Score['SVR']  = {'r2': r2_score(y_test, y_predict),\n",
    "                  'Training_score' :r2_score(y_train, model.predict(X_train_scaled)),\n",
    "                  'MAE' : mean_absolute_error(y_test, y_predict),\n",
    "                  'MSE' : mean_squared_error(y_test, y_predict, squared=True),\n",
    "                 # 'MSLE' : mean_squared_log_error(y_test, y_predict, squared=True),\n",
    "                  'RMSE' : mean_squared_error(y_test, y_predict, squared=False),\n",
    "                 # 'RMSLE' : mean_squared_log_error(y_test, y_predict, squared=False),\n",
    "                  'Cross_validate' : (cross_val_score(model, X_train_scaled, y_train, cv=5)).mean()\n",
    "                 }\n",
    "Score"
   ]
  },
  {
   "cell_type": "markdown",
   "id": "f1a7e474",
   "metadata": {},
   "source": [
    "# KNN : "
   ]
  },
  {
   "cell_type": "code",
   "execution_count": 37,
   "id": "7033e8ca",
   "metadata": {
    "ExecuteTime": {
     "end_time": "2022-09-05T17:16:44.320749Z",
     "start_time": "2022-09-05T17:16:42.731617Z"
    },
    "scrolled": false
   },
   "outputs": [
    {
     "name": "stdout",
     "output_type": "stream",
     "text": [
      "-----------------------------------------------------\n",
      "Test  R^2 Score :  -690.4234849587167\n",
      "Train R^2 Score :  -126.97098729998547\n",
      "-----------------------------------------------------\n"
     ]
    }
   ],
   "source": [
    "from sklearn.neighbors import KNeighborsRegressor\n",
    "from sklearn.neighbors import KNeighborsClassifier\n",
    "\n",
    "model = KNeighborsRegressor(n_neighbors=5)\n",
    "\n",
    "model.fit(X_train_scaled,y_train)\n",
    "\n",
    "print(\"-\"*53)\n",
    "print(\"Test  R^2 Score : \", model.score(X_test, y_test))\n",
    "print(\"Train R^2 Score : \", model.score(X_train, y_train))\n",
    "print(\"-\"*53)"
   ]
  },
  {
   "cell_type": "code",
   "execution_count": 38,
   "id": "29186760",
   "metadata": {
    "ExecuteTime": {
     "end_time": "2022-09-05T17:16:44.333104Z",
     "start_time": "2022-09-05T17:16:44.321939Z"
    },
    "scrolled": false
   },
   "outputs": [
    {
     "data": {
      "text/plain": [
       "array([6.992600e+01, 1.151140e+02, 4.945800e+01, 3.584140e+02,\n",
       "       4.910280e+02, 2.693200e+01, 7.839000e+01, 2.661500e+02,\n",
       "       2.777400e+01, 4.522400e+01, 4.532300e+02, 1.398620e+02,\n",
       "       1.751780e+02, 5.134400e+01, 4.131940e+02, 6.673600e+01,\n",
       "       8.611800e+01, 6.616600e+01, 4.660000e+01, 3.706400e+01,\n",
       "       9.335000e+01, 6.756800e+01, 1.187800e+02, 4.791400e+01,\n",
       "       3.266200e+01, 2.204000e+00, 9.486000e+01, 4.165200e+01,\n",
       "       1.250800e+01, 1.930680e+02, 1.975140e+02, 6.319600e+01,\n",
       "       1.191620e+02, 6.430200e+01, 3.060400e+01, 7.793000e+01,\n",
       "       5.782000e+01, 9.032200e+01, 8.708000e+01, 6.230200e+01,\n",
       "       9.146400e+01, 6.008800e+01, 2.350120e+02, 3.578000e+01,\n",
       "       3.912600e+01, 2.810440e+02, 3.464540e+02, 3.812760e+02,\n",
       "       4.864000e+00, 2.040600e+01, 9.097400e+01, 5.589200e+01,\n",
       "       1.602600e+01, 1.671400e+02, 1.741960e+02, 1.233800e+01,\n",
       "       2.059300e+02, 3.909200e+01, 1.993140e+02, 2.425000e+01,\n",
       "       8.487400e+01, 7.546260e+02, 4.470000e+00, 7.896800e+01,\n",
       "       9.032200e+01, 4.136200e+01, 4.991260e+02, 6.535200e+01,\n",
       "       1.936200e+01, 4.887000e+01, 5.256800e+01, 3.566800e+01,\n",
       "       2.416200e+01, 1.473800e+01, 7.839000e+01, 2.328800e+01,\n",
       "       3.015600e+01, 4.994980e+02, 3.201320e+02, 5.971600e+01,\n",
       "       1.344240e+02, 4.048600e+01, 4.487800e+01, 8.516800e+01,\n",
       "       1.033800e+02, 5.936800e+01, 1.857820e+02, 4.642660e+02,\n",
       "       2.425000e+01, 3.775200e+01, 5.051800e+01, 5.659400e+01,\n",
       "       5.462200e+01, 1.230600e+01, 2.600400e+01, 3.015600e+01,\n",
       "       6.806600e+01, 7.087800e+01, 6.803800e+01, 3.257600e+01,\n",
       "       1.282320e+02, 8.977000e+01, 3.003000e+01, 4.635800e+01,\n",
       "       4.538000e+01, 7.291000e+01, 1.443800e+01, 5.321600e+01,\n",
       "       4.772000e+01, 1.130000e+01, 7.897800e+01, 6.286200e+01,\n",
       "       1.263400e+01, 1.529200e+01, 7.207000e+01, 1.813840e+02,\n",
       "       4.772400e+01, 7.676400e+01, 1.416440e+02, 7.651200e+01,\n",
       "       4.178600e+01, 1.154200e+01, 2.931600e+01, 3.305800e+01,\n",
       "       3.332000e+01, 6.159120e+02, 2.698420e+02, 8.876560e+02,\n",
       "       3.211200e+01, 1.602600e+01, 1.054640e+02, 2.942000e+01,\n",
       "       6.155800e+01, 2.170240e+02, 5.507400e+01, 4.910600e+01,\n",
       "       1.711940e+02, 1.049560e+02, 4.670600e+01, 7.546260e+02,\n",
       "       4.952400e+01, 1.137300e+02, 3.492720e+02, 7.404000e+00,\n",
       "       4.765400e+01, 6.810000e+01, 2.075540e+02, 1.306600e+01,\n",
       "       2.984400e+01, 6.290000e+01, 1.805400e+01, 8.936000e+00,\n",
       "       5.961400e+01, 2.636980e+02, 4.999400e+01, 2.179500e+02,\n",
       "       6.167400e+01, 2.043220e+02, 9.252200e+01, 7.995400e+01,\n",
       "       3.184800e+01, 1.153120e+02, 1.282800e+01, 2.526820e+02,\n",
       "       6.085800e+01, 2.718920e+02, 1.141260e+02, 4.848200e+01,\n",
       "       9.609600e+01, 7.397400e+01, 6.611800e+01, 1.129860e+02,\n",
       "       4.272800e+01, 7.812200e+01, 3.976600e+01, 9.461600e+01,\n",
       "       4.559600e+01, 6.535200e+01, 1.285200e+01, 8.987200e+01,\n",
       "       5.697400e+01, 1.033800e+02, 1.131400e+01, 1.736580e+02,\n",
       "       8.686000e+00, 1.387360e+02, 2.827560e+02, 7.116200e+01,\n",
       "       3.365400e+01, 2.775800e+01, 9.328540e+02, 4.376960e+02,\n",
       "       1.174760e+02, 4.532300e+02, 3.673000e+01, 7.413920e+02,\n",
       "       2.080460e+02, 1.194160e+02, 3.794000e+00, 2.452600e+01,\n",
       "       3.303200e+01, 3.710200e+01, 3.305800e+01, 3.970200e+01,\n",
       "       2.461000e+01, 8.973600e+01, 6.935600e+01, 4.210400e+01,\n",
       "       1.488960e+02, 6.100400e+01, 7.281800e+01, 4.764200e+01,\n",
       "       5.674400e+01, 3.687360e+02, 4.041200e+01, 3.035200e+01,\n",
       "       3.637400e+01, 1.626000e+01, 6.309000e+01, 3.976600e+01,\n",
       "       4.447960e+02, 1.212000e+02, 1.432780e+02, 3.508600e+01,\n",
       "       4.022030e+03, 4.213600e+01, 2.052240e+02, 3.181660e+02,\n",
       "       1.398620e+02, 6.200000e+01, 1.262240e+02, 2.252740e+02,\n",
       "       5.714400e+01, 4.532300e+02, 5.380200e+01, 1.980660e+02,\n",
       "       6.833200e+01, 4.046000e+01, 3.935400e+01, 9.411200e+01,\n",
       "       1.141260e+02, 2.697340e+02, 5.646400e+01, 5.774200e+01,\n",
       "       2.189200e+01, 4.300000e+01, 5.892400e+01, 2.084260e+02,\n",
       "       1.137300e+02, 4.049200e+01, 3.803600e+01, 1.922640e+02,\n",
       "       6.272800e+01, 4.952400e+01, 1.609160e+02, 1.685400e+01,\n",
       "       6.362000e+00, 5.029400e+01, 1.004240e+02, 6.810000e+01,\n",
       "       2.429000e+01, 2.961420e+02, 2.830400e+01, 7.507320e+02,\n",
       "       4.477600e+01, 1.579400e+01, 2.986780e+02, 2.319100e+02,\n",
       "       3.745200e+01, 3.578000e+01, 7.112000e+01, 1.819780e+02,\n",
       "       4.050200e+01, 1.187600e+01, 1.805400e+01, 3.779800e+01,\n",
       "       1.182200e+01, 3.266200e+01, 1.254740e+02, 5.193400e+01,\n",
       "       2.981400e+01, 2.466000e+02, 8.300000e+00, 7.463400e+01,\n",
       "       7.812200e+01, 5.674400e+01, 1.663000e+01, 3.134860e+02,\n",
       "       9.211800e+01, 1.191580e+02, 4.703800e+01, 1.251500e+02,\n",
       "       8.120000e+00, 3.346400e+01, 1.088400e+01, 3.135400e+01,\n",
       "       3.627800e+01, 2.782200e+01, 1.207680e+02, 4.542600e+01,\n",
       "       1.379660e+02, 8.416600e+01, 4.956400e+01, 4.131940e+02,\n",
       "       6.940000e+01, 1.988360e+02, 7.874338e+03, 4.712400e+01,\n",
       "       3.673000e+01, 7.118000e+01, 7.098000e+01, 7.645600e+01,\n",
       "       2.855800e+01, 8.985800e+01, 1.704820e+02, 7.279720e+02,\n",
       "       1.754960e+02, 3.010800e+01, 1.796200e+01, 2.033000e+01,\n",
       "       3.495400e+01, 1.169720e+02, 1.488960e+02, 3.701200e+01,\n",
       "       3.780200e+01, 3.244400e+01, 3.530280e+02, 1.704480e+02,\n",
       "       6.850400e+01, 1.494640e+02, 7.750000e+00, 2.578140e+02,\n",
       "       1.330180e+02, 7.138000e+00, 4.272800e+01, 2.642200e+01,\n",
       "       5.930000e+01, 1.171020e+02, 1.295600e+02, 4.213600e+01,\n",
       "       4.538000e+01, 4.989000e+01, 1.285200e+01, 2.893200e+01,\n",
       "       8.304800e+01, 2.022580e+02, 6.159120e+02, 1.836000e+00,\n",
       "       2.716600e+01, 7.008400e+01, 3.515520e+02, 7.546260e+02,\n",
       "       3.092800e+01, 2.916760e+02, 5.361300e+02, 9.539000e+01,\n",
       "       4.126800e+01, 1.134700e+02, 6.901800e+01, 4.404000e+01,\n",
       "       2.700800e+01, 1.993540e+02, 3.329800e+01, 5.560200e+01,\n",
       "       5.609800e+01, 2.464480e+02, 4.601000e+01, 1.009360e+02,\n",
       "       9.151200e+01, 5.321600e+01, 1.555460e+02, 4.363600e+01,\n",
       "       8.613600e+01, 7.656800e+01, 2.189000e+02, 5.972400e+01,\n",
       "       1.167900e+02, 4.577800e+01, 3.479400e+01, 1.278000e+02,\n",
       "       2.017360e+02, 1.261600e+02, 2.158400e+01, 6.960000e+01,\n",
       "       3.976600e+01, 9.736000e+01, 8.453400e+01, 3.298600e+01,\n",
       "       8.578800e+01, 1.669320e+02, 5.636000e+01, 3.687360e+02,\n",
       "       4.290000e+01, 3.018940e+02, 2.215080e+02, 1.202200e+01,\n",
       "       1.086000e+01, 2.310400e+01, 1.935000e+01, 1.004240e+02,\n",
       "       2.585600e+01, 8.694200e+01, 1.298180e+02, 4.510800e+01,\n",
       "       6.373400e+01, 1.362000e+01, 3.712000e+01, 3.266200e+01,\n",
       "       6.400800e+01, 7.685600e+01, 7.998200e+01, 6.535200e+01,\n",
       "       1.530220e+02, 2.202000e+01, 1.207680e+02, 3.895400e+01,\n",
       "       6.869800e+01, 2.119340e+02, 8.785400e+01, 3.018800e+01,\n",
       "       2.184580e+02, 2.356600e+01, 4.350800e+01, 7.754200e+01,\n",
       "       5.930000e+01, 1.539200e+01, 5.298200e+01, 1.359400e+02,\n",
       "       6.728000e+01, 7.499600e+01, 2.210800e+01, 3.838000e+01,\n",
       "       3.495400e+01, 1.737000e+01, 5.966240e+02, 7.325000e+01,\n",
       "       1.208920e+02, 3.972880e+02, 6.728000e+01, 3.174000e+01,\n",
       "       3.961600e+01, 2.335780e+02, 2.335780e+02, 6.739200e+01,\n",
       "       8.638600e+01, 3.610840e+02, 1.207680e+02, 1.165620e+02,\n",
       "       6.306800e+01, 3.495400e+01, 6.814400e+01, 1.368600e+01,\n",
       "       2.875240e+02, 2.926860e+02, 2.083200e+02, 1.423680e+02,\n",
       "       1.187600e+01, 3.324800e+01, 8.300000e+00, 6.676600e+01,\n",
       "       1.306960e+02, 2.762600e+02, 1.187600e+01, 2.074820e+02,\n",
       "       1.187800e+02, 7.082800e+01, 5.091200e+01, 4.272800e+01,\n",
       "       1.206600e+01, 4.479000e+01, 7.283800e+01, 1.704480e+02,\n",
       "       3.687360e+02, 3.303200e+01, 1.727800e+01, 2.629000e+01,\n",
       "       6.535200e+01, 4.772400e+01, 2.223340e+02, 2.782200e+01,\n",
       "       2.134200e+01, 4.981800e+01, 1.187600e+01, 9.751000e+01,\n",
       "       3.508600e+01, 5.609800e+01, 3.471600e+01, 3.471000e+01,\n",
       "       6.442800e+01, 6.566800e+01, 1.877480e+02, 3.976600e+01,\n",
       "       1.146040e+02, 6.206600e+01, 4.022030e+03, 1.068400e+02,\n",
       "       7.656800e+01, 4.237400e+01])"
      ]
     },
     "execution_count": 38,
     "metadata": {},
     "output_type": "execute_result"
    }
   ],
   "source": [
    "model.predict(X_test_scaled)"
   ]
  },
  {
   "cell_type": "code",
   "execution_count": 39,
   "id": "def4bb94",
   "metadata": {
    "ExecuteTime": {
     "end_time": "2022-09-05T17:16:44.390792Z",
     "start_time": "2022-09-05T17:16:44.334258Z"
    }
   },
   "outputs": [
    {
     "data": {
      "text/plain": [
       "{'Ridge': {'r2': 0.5504532678453773,\n",
       "  'Training_score': 0.9269665185129566,\n",
       "  'MAE': 110.19090821242476,\n",
       "  'MSE': 70990.44741623175,\n",
       "  'RMSE': 266.44032618249014,\n",
       "  'Cross_validate': -0.15090226445507762},\n",
       " 'Lasso': {'r2': 0.5570493291735725,\n",
       "  'Training_score': 0.9263893260703999,\n",
       "  'MAE': 104.84765753206517,\n",
       "  'MSE': 69948.82635354671,\n",
       "  'RMSE': 264.47840432357935,\n",
       "  'Cross_validate': -0.13884863281573093},\n",
       " 'Elastic_Net': {'r2': 0.6358690408852374,\n",
       "  'Training_score': 0.7719166298878981,\n",
       "  'MAE': 104.50172962361248,\n",
       "  'MSE': 57501.96332595623,\n",
       "  'RMSE': 239.7956699483046,\n",
       "  'Cross_validate': 0.4480277219436516},\n",
       " 'Random_forest': {'r2': 0.8139840006028662,\n",
       "  'Training_score': 0.9842456342671596,\n",
       "  'MAE': 29.164485943775112,\n",
       "  'MSE': 29374.83042194155,\n",
       "  'RMSE': 171.39087029927106,\n",
       "  'Cross_validate': 0.031058347446088774},\n",
       " 'xgboost': {'r2': 0.9143446372566354,\n",
       "  'Training_score': 0.9999979460316666,\n",
       "  'MAE': 22.537646832509218,\n",
       "  'MSE': 13526.319044978847,\n",
       "  'RMSE': 116.30270437517284,\n",
       "  'Cross_validate': -0.19041861489723175},\n",
       " 'SVR': {'r2': -0.05366591464039061,\n",
       "  'Training_score': -0.025899293793087752,\n",
       "  'MAE': 128.98325904349636,\n",
       "  'MSE': 166390.29795422175,\n",
       "  'RMSE': 407.90966886581856,\n",
       "  'Cross_validate': -0.06512049141782761},\n",
       " 'KNN': {'r2': 0.29781409244932067,\n",
       "  'Training_score': 0.6798314968334084,\n",
       "  'MAE': 114.4935421686747,\n",
       "  'MSE': 110886.11746208837,\n",
       "  'RMSE': 332.9956718368699,\n",
       "  'Cross_validate': 0.21119785409215686}}"
      ]
     },
     "execution_count": 39,
     "metadata": {},
     "output_type": "execute_result"
    }
   ],
   "source": [
    "y_predict = model.predict(X_test_scaled)\n",
    "Score['KNN']  = {'r2': r2_score(y_test, y_predict),\n",
    "                  'Training_score' :r2_score(y_train, model.predict(X_train_scaled)),\n",
    "                  'MAE' : mean_absolute_error(y_test, y_predict),\n",
    "                  'MSE' : mean_squared_error(y_test, y_predict, squared=True),\n",
    "                 # 'MSLE' : mean_squared_log_error(y_test, y_predict, squared=True),\n",
    "                  'RMSE' : mean_squared_error(y_test, y_predict, squared=False),\n",
    "                 # 'RMSLE' : mean_squared_log_error(y_test, y_predict, squared=False),\n",
    "                  'Cross_validate' : (cross_val_score(model, X_train_scaled, y_train, cv=5)).mean()\n",
    "                 }\n",
    "Score"
   ]
  },
  {
   "cell_type": "markdown",
   "id": "4c86d407",
   "metadata": {},
   "source": [
    "## Visualisation :"
   ]
  },
  {
   "cell_type": "code",
   "execution_count": 40,
   "id": "57a465dd",
   "metadata": {
    "ExecuteTime": {
     "end_time": "2022-09-05T17:16:44.394104Z",
     "start_time": "2022-09-05T17:16:44.391801Z"
    },
    "scrolled": false
   },
   "outputs": [
    {
     "data": {
      "text/plain": [
       "'cv = 5\\nparam_range = np.arange(3, 20, 2)\\n\\noz = ValidationCurve(\\n    KNeighborsRegressor(), param_name=\"n_neighbors\",\\n    param_range=param_range, cv=cv, scoring=\"r2\", n_jobs=-1,\\n)\\n\\n# Using the same game dataset as in the SVC example\\nplt.figure(figsize=(12,8))\\noz.fit(X_train, y_train)\\noz.show()'"
      ]
     },
     "execution_count": 40,
     "metadata": {},
     "output_type": "execute_result"
    }
   ],
   "source": [
    "\"\"\"cv = 5\n",
    "param_range = np.arange(3, 20, 2)\n",
    "\n",
    "oz = ValidationCurve(\n",
    "    KNeighborsRegressor(), param_name=\"n_neighbors\",\n",
    "    param_range=param_range, cv=cv, scoring=\"r2\", n_jobs=-1,\n",
    ")\n",
    "\n",
    "# Using the same game dataset as in the SVC example\n",
    "plt.figure(figsize=(12,8))\n",
    "oz.fit(X_train, y_train)\n",
    "oz.show()\"\"\""
   ]
  },
  {
   "cell_type": "markdown",
   "id": "c662f78e",
   "metadata": {},
   "source": [
    "# Linear Regression : "
   ]
  },
  {
   "cell_type": "code",
   "execution_count": 41,
   "id": "a21b79d6",
   "metadata": {
    "ExecuteTime": {
     "end_time": "2022-09-05T17:16:44.472396Z",
     "start_time": "2022-09-05T17:16:44.407354Z"
    }
   },
   "outputs": [
    {
     "name": "stdout",
     "output_type": "stream",
     "text": [
      "-----------------------------------------------------\n",
      "Test  R^2 Score :  -2.105106489912649e+25\n",
      "Train R^2 Score :  0.926941169329679\n",
      "-----------------------------------------------------\n"
     ]
    }
   ],
   "source": [
    "from sklearn.linear_model import LinearRegression\n",
    "lin = LinearRegression()\n",
    "lin.fit(X_train_scaled, y_train)\n",
    "print(\"-\"*53)\n",
    "print(\"Test  R^2 Score : \", lin.score(X_test_scaled, y_test))\n",
    "print(\"Train R^2 Score : \", lin.score(X_train_scaled, y_train))\n",
    "print(\"-\"*53)"
   ]
  },
  {
   "cell_type": "code",
   "execution_count": 42,
   "id": "8269b42e",
   "metadata": {
    "ExecuteTime": {
     "end_time": "2022-09-05T17:16:44.475079Z",
     "start_time": "2022-09-05T17:16:44.473508Z"
    }
   },
   "outputs": [],
   "source": [
    "# Transformation inverse pour calculer les métriques pour revenir aux vraies valeurs (revenir quasiment à la même chose)"
   ]
  },
  {
   "cell_type": "code",
   "execution_count": 43,
   "id": "d8c1a5ca",
   "metadata": {
    "ExecuteTime": {
     "end_time": "2022-09-05T17:16:44.535914Z",
     "start_time": "2022-09-05T17:16:44.475961Z"
    },
    "scrolled": false
   },
   "outputs": [
    {
     "data": {
      "text/plain": [
       "{'Ridge': {'r2': 0.5504532678453773,\n",
       "  'Training_score': 0.9269665185129566,\n",
       "  'MAE': 110.19090821242476,\n",
       "  'MSE': 70990.44741623175,\n",
       "  'RMSE': 266.44032618249014,\n",
       "  'Cross_validate': -0.15090226445507762},\n",
       " 'Lasso': {'r2': 0.5570493291735725,\n",
       "  'Training_score': 0.9263893260703999,\n",
       "  'MAE': 104.84765753206517,\n",
       "  'MSE': 69948.82635354671,\n",
       "  'RMSE': 264.47840432357935,\n",
       "  'Cross_validate': -0.13884863281573093},\n",
       " 'Elastic_Net': {'r2': 0.6358690408852374,\n",
       "  'Training_score': 0.7719166298878981,\n",
       "  'MAE': 104.50172962361248,\n",
       "  'MSE': 57501.96332595623,\n",
       "  'RMSE': 239.7956699483046,\n",
       "  'Cross_validate': 0.4480277219436516},\n",
       " 'Random_forest': {'r2': 0.8139840006028662,\n",
       "  'Training_score': 0.9842456342671596,\n",
       "  'MAE': 29.164485943775112,\n",
       "  'MSE': 29374.83042194155,\n",
       "  'RMSE': 171.39087029927106,\n",
       "  'Cross_validate': 0.031058347446088774},\n",
       " 'xgboost': {'r2': 0.9143446372566354,\n",
       "  'Training_score': 0.9999979460316666,\n",
       "  'MAE': 22.537646832509218,\n",
       "  'MSE': 13526.319044978847,\n",
       "  'RMSE': 116.30270437517284,\n",
       "  'Cross_validate': -0.19041861489723175},\n",
       " 'SVR': {'r2': -0.05366591464039061,\n",
       "  'Training_score': -0.025899293793087752,\n",
       "  'MAE': 128.98325904349636,\n",
       "  'MSE': 166390.29795422175,\n",
       "  'RMSE': 407.90966886581856,\n",
       "  'Cross_validate': -0.06512049141782761},\n",
       " 'KNN': {'r2': 0.29781409244932067,\n",
       "  'Training_score': 0.6798314968334084,\n",
       "  'MAE': 114.4935421686747,\n",
       "  'MSE': 110886.11746208837,\n",
       "  'RMSE': 332.9956718368699,\n",
       "  'Cross_validate': 0.21119785409215686},\n",
       " 'Linear_Regression': {'r2': -2.105106489912649e+25,\n",
       "  'Training_score': 0.6798314968334084,\n",
       "  'MAE': 110801880598841.4,\n",
       "  'MSE': 3.3242918007979424e+30,\n",
       "  'RMSE': 1823264051309612.8,\n",
       "  'Cross_validate': 0.21119785409215686}}"
      ]
     },
     "execution_count": 43,
     "metadata": {},
     "output_type": "execute_result"
    }
   ],
   "source": [
    "y_predict = lin.predict(X_test_scaled)\n",
    "Score['Linear_Regression']  = {\n",
    "    'r2': r2_score(y_test, y_predict),\n",
    "    'Training_score' :r2_score(y_train, model.predict(X_train_scaled)),\n",
    "    'MAE' : mean_absolute_error(y_test, y_predict),\n",
    "    'MSE' : mean_squared_error(y_test, y_predict, squared=True),\n",
    "   # 'MSLE' : mean_squared_log_error(y_test, y_predict, squared=True),\n",
    "    'RMSE' : mean_squared_error(y_test, y_predict, squared=False),\n",
    "   # 'RMSLE' : mean_squared_log_error(y_test, y_predict, squared=False),\n",
    "    'Cross_validate' : (cross_val_score(model, X_train_scaled, y_train, cv=5)).mean()\n",
    "}\n",
    "Score"
   ]
  },
  {
   "cell_type": "markdown",
   "id": "596a7346",
   "metadata": {},
   "source": [
    "# DataFrame des Scores des Algos :"
   ]
  },
  {
   "cell_type": "code",
   "execution_count": 44,
   "id": "8955bc1b",
   "metadata": {
    "ExecuteTime": {
     "end_time": "2022-09-05T17:16:44.556344Z",
     "start_time": "2022-09-05T17:16:44.536997Z"
    },
    "scrolled": false
   },
   "outputs": [
    {
     "name": "stdout",
     "output_type": "stream",
     "text": [
      "--------------------------------------------------------------------------------\n",
      "                               \u001b[1mClassement par R2 :\u001b[0m\n",
      "--------------------------------------------------------------------------------\n"
     ]
    },
    {
     "data": {
      "text/html": [
       "<div>\n",
       "<style scoped>\n",
       "    .dataframe tbody tr th:only-of-type {\n",
       "        vertical-align: middle;\n",
       "    }\n",
       "\n",
       "    .dataframe tbody tr th {\n",
       "        vertical-align: top;\n",
       "    }\n",
       "\n",
       "    .dataframe thead th {\n",
       "        text-align: right;\n",
       "    }\n",
       "</style>\n",
       "<table border=\"1\" class=\"dataframe\">\n",
       "  <thead>\n",
       "    <tr style=\"text-align: right;\">\n",
       "      <th></th>\n",
       "      <th>r2</th>\n",
       "      <th>Training_score</th>\n",
       "      <th>MAE</th>\n",
       "      <th>MSE</th>\n",
       "      <th>RMSE</th>\n",
       "      <th>Cross_validate</th>\n",
       "    </tr>\n",
       "  </thead>\n",
       "  <tbody>\n",
       "    <tr>\n",
       "      <th>xgboost</th>\n",
       "      <td>9.143446e-01</td>\n",
       "      <td>0.999998</td>\n",
       "      <td>2.253765e+01</td>\n",
       "      <td>1.352632e+04</td>\n",
       "      <td>1.163027e+02</td>\n",
       "      <td>-0.190419</td>\n",
       "    </tr>\n",
       "    <tr>\n",
       "      <th>Random_forest</th>\n",
       "      <td>8.139840e-01</td>\n",
       "      <td>0.984246</td>\n",
       "      <td>2.916449e+01</td>\n",
       "      <td>2.937483e+04</td>\n",
       "      <td>1.713909e+02</td>\n",
       "      <td>0.031058</td>\n",
       "    </tr>\n",
       "    <tr>\n",
       "      <th>Elastic_Net</th>\n",
       "      <td>6.358690e-01</td>\n",
       "      <td>0.771917</td>\n",
       "      <td>1.045017e+02</td>\n",
       "      <td>5.750196e+04</td>\n",
       "      <td>2.397957e+02</td>\n",
       "      <td>0.448028</td>\n",
       "    </tr>\n",
       "    <tr>\n",
       "      <th>Lasso</th>\n",
       "      <td>5.570493e-01</td>\n",
       "      <td>0.926389</td>\n",
       "      <td>1.048477e+02</td>\n",
       "      <td>6.994883e+04</td>\n",
       "      <td>2.644784e+02</td>\n",
       "      <td>-0.138849</td>\n",
       "    </tr>\n",
       "    <tr>\n",
       "      <th>Ridge</th>\n",
       "      <td>5.504533e-01</td>\n",
       "      <td>0.926967</td>\n",
       "      <td>1.101909e+02</td>\n",
       "      <td>7.099045e+04</td>\n",
       "      <td>2.664403e+02</td>\n",
       "      <td>-0.150902</td>\n",
       "    </tr>\n",
       "    <tr>\n",
       "      <th>KNN</th>\n",
       "      <td>2.978141e-01</td>\n",
       "      <td>0.679831</td>\n",
       "      <td>1.144935e+02</td>\n",
       "      <td>1.108861e+05</td>\n",
       "      <td>3.329957e+02</td>\n",
       "      <td>0.211198</td>\n",
       "    </tr>\n",
       "    <tr>\n",
       "      <th>SVR</th>\n",
       "      <td>-5.366591e-02</td>\n",
       "      <td>-0.025899</td>\n",
       "      <td>1.289833e+02</td>\n",
       "      <td>1.663903e+05</td>\n",
       "      <td>4.079097e+02</td>\n",
       "      <td>-0.065120</td>\n",
       "    </tr>\n",
       "    <tr>\n",
       "      <th>Linear_Regression</th>\n",
       "      <td>-2.105106e+25</td>\n",
       "      <td>0.679831</td>\n",
       "      <td>1.108019e+14</td>\n",
       "      <td>3.324292e+30</td>\n",
       "      <td>1.823264e+15</td>\n",
       "      <td>0.211198</td>\n",
       "    </tr>\n",
       "  </tbody>\n",
       "</table>\n",
       "</div>"
      ],
      "text/plain": [
       "                             r2  Training_score           MAE           MSE  \\\n",
       "xgboost            9.143446e-01        0.999998  2.253765e+01  1.352632e+04   \n",
       "Random_forest      8.139840e-01        0.984246  2.916449e+01  2.937483e+04   \n",
       "Elastic_Net        6.358690e-01        0.771917  1.045017e+02  5.750196e+04   \n",
       "Lasso              5.570493e-01        0.926389  1.048477e+02  6.994883e+04   \n",
       "Ridge              5.504533e-01        0.926967  1.101909e+02  7.099045e+04   \n",
       "KNN                2.978141e-01        0.679831  1.144935e+02  1.108861e+05   \n",
       "SVR               -5.366591e-02       -0.025899  1.289833e+02  1.663903e+05   \n",
       "Linear_Regression -2.105106e+25        0.679831  1.108019e+14  3.324292e+30   \n",
       "\n",
       "                           RMSE  Cross_validate  \n",
       "xgboost            1.163027e+02       -0.190419  \n",
       "Random_forest      1.713909e+02        0.031058  \n",
       "Elastic_Net        2.397957e+02        0.448028  \n",
       "Lasso              2.644784e+02       -0.138849  \n",
       "Ridge              2.664403e+02       -0.150902  \n",
       "KNN                3.329957e+02        0.211198  \n",
       "SVR                4.079097e+02       -0.065120  \n",
       "Linear_Regression  1.823264e+15        0.211198  "
      ]
     },
     "metadata": {},
     "output_type": "display_data"
    },
    {
     "name": "stdout",
     "output_type": "stream",
     "text": [
      "\n",
      "--------------------------------------------------------------------------------\n",
      "                     \u001b[1mClassement par Validation Croisée :\u001b[0m\n",
      "--------------------------------------------------------------------------------\n"
     ]
    },
    {
     "data": {
      "text/html": [
       "<div>\n",
       "<style scoped>\n",
       "    .dataframe tbody tr th:only-of-type {\n",
       "        vertical-align: middle;\n",
       "    }\n",
       "\n",
       "    .dataframe tbody tr th {\n",
       "        vertical-align: top;\n",
       "    }\n",
       "\n",
       "    .dataframe thead th {\n",
       "        text-align: right;\n",
       "    }\n",
       "</style>\n",
       "<table border=\"1\" class=\"dataframe\">\n",
       "  <thead>\n",
       "    <tr style=\"text-align: right;\">\n",
       "      <th></th>\n",
       "      <th>r2</th>\n",
       "      <th>Training_score</th>\n",
       "      <th>MAE</th>\n",
       "      <th>MSE</th>\n",
       "      <th>RMSE</th>\n",
       "      <th>Cross_validate</th>\n",
       "    </tr>\n",
       "  </thead>\n",
       "  <tbody>\n",
       "    <tr>\n",
       "      <th>Elastic_Net</th>\n",
       "      <td>6.358690e-01</td>\n",
       "      <td>0.771917</td>\n",
       "      <td>1.045017e+02</td>\n",
       "      <td>5.750196e+04</td>\n",
       "      <td>2.397957e+02</td>\n",
       "      <td>0.448028</td>\n",
       "    </tr>\n",
       "    <tr>\n",
       "      <th>KNN</th>\n",
       "      <td>2.978141e-01</td>\n",
       "      <td>0.679831</td>\n",
       "      <td>1.144935e+02</td>\n",
       "      <td>1.108861e+05</td>\n",
       "      <td>3.329957e+02</td>\n",
       "      <td>0.211198</td>\n",
       "    </tr>\n",
       "    <tr>\n",
       "      <th>Linear_Regression</th>\n",
       "      <td>-2.105106e+25</td>\n",
       "      <td>0.679831</td>\n",
       "      <td>1.108019e+14</td>\n",
       "      <td>3.324292e+30</td>\n",
       "      <td>1.823264e+15</td>\n",
       "      <td>0.211198</td>\n",
       "    </tr>\n",
       "    <tr>\n",
       "      <th>Random_forest</th>\n",
       "      <td>8.139840e-01</td>\n",
       "      <td>0.984246</td>\n",
       "      <td>2.916449e+01</td>\n",
       "      <td>2.937483e+04</td>\n",
       "      <td>1.713909e+02</td>\n",
       "      <td>0.031058</td>\n",
       "    </tr>\n",
       "    <tr>\n",
       "      <th>SVR</th>\n",
       "      <td>-5.366591e-02</td>\n",
       "      <td>-0.025899</td>\n",
       "      <td>1.289833e+02</td>\n",
       "      <td>1.663903e+05</td>\n",
       "      <td>4.079097e+02</td>\n",
       "      <td>-0.065120</td>\n",
       "    </tr>\n",
       "    <tr>\n",
       "      <th>Lasso</th>\n",
       "      <td>5.570493e-01</td>\n",
       "      <td>0.926389</td>\n",
       "      <td>1.048477e+02</td>\n",
       "      <td>6.994883e+04</td>\n",
       "      <td>2.644784e+02</td>\n",
       "      <td>-0.138849</td>\n",
       "    </tr>\n",
       "    <tr>\n",
       "      <th>Ridge</th>\n",
       "      <td>5.504533e-01</td>\n",
       "      <td>0.926967</td>\n",
       "      <td>1.101909e+02</td>\n",
       "      <td>7.099045e+04</td>\n",
       "      <td>2.664403e+02</td>\n",
       "      <td>-0.150902</td>\n",
       "    </tr>\n",
       "    <tr>\n",
       "      <th>xgboost</th>\n",
       "      <td>9.143446e-01</td>\n",
       "      <td>0.999998</td>\n",
       "      <td>2.253765e+01</td>\n",
       "      <td>1.352632e+04</td>\n",
       "      <td>1.163027e+02</td>\n",
       "      <td>-0.190419</td>\n",
       "    </tr>\n",
       "  </tbody>\n",
       "</table>\n",
       "</div>"
      ],
      "text/plain": [
       "                             r2  Training_score           MAE           MSE  \\\n",
       "Elastic_Net        6.358690e-01        0.771917  1.045017e+02  5.750196e+04   \n",
       "KNN                2.978141e-01        0.679831  1.144935e+02  1.108861e+05   \n",
       "Linear_Regression -2.105106e+25        0.679831  1.108019e+14  3.324292e+30   \n",
       "Random_forest      8.139840e-01        0.984246  2.916449e+01  2.937483e+04   \n",
       "SVR               -5.366591e-02       -0.025899  1.289833e+02  1.663903e+05   \n",
       "Lasso              5.570493e-01        0.926389  1.048477e+02  6.994883e+04   \n",
       "Ridge              5.504533e-01        0.926967  1.101909e+02  7.099045e+04   \n",
       "xgboost            9.143446e-01        0.999998  2.253765e+01  1.352632e+04   \n",
       "\n",
       "                           RMSE  Cross_validate  \n",
       "Elastic_Net        2.397957e+02        0.448028  \n",
       "KNN                3.329957e+02        0.211198  \n",
       "Linear_Regression  1.823264e+15        0.211198  \n",
       "Random_forest      1.713909e+02        0.031058  \n",
       "SVR                4.079097e+02       -0.065120  \n",
       "Lasso              2.644784e+02       -0.138849  \n",
       "Ridge              2.664403e+02       -0.150902  \n",
       "xgboost            1.163027e+02       -0.190419  "
      ]
     },
     "metadata": {},
     "output_type": "display_data"
    },
    {
     "name": "stdout",
     "output_type": "stream",
     "text": [
      "\n",
      "--------------------------------------------------------------------------------\n",
      "                     \u001b[1mClassement par Score d'entrainement :\u001b[0m\n",
      "--------------------------------------------------------------------------------\n"
     ]
    },
    {
     "data": {
      "text/html": [
       "<div>\n",
       "<style scoped>\n",
       "    .dataframe tbody tr th:only-of-type {\n",
       "        vertical-align: middle;\n",
       "    }\n",
       "\n",
       "    .dataframe tbody tr th {\n",
       "        vertical-align: top;\n",
       "    }\n",
       "\n",
       "    .dataframe thead th {\n",
       "        text-align: right;\n",
       "    }\n",
       "</style>\n",
       "<table border=\"1\" class=\"dataframe\">\n",
       "  <thead>\n",
       "    <tr style=\"text-align: right;\">\n",
       "      <th></th>\n",
       "      <th>r2</th>\n",
       "      <th>Training_score</th>\n",
       "      <th>MAE</th>\n",
       "      <th>MSE</th>\n",
       "      <th>RMSE</th>\n",
       "      <th>Cross_validate</th>\n",
       "    </tr>\n",
       "  </thead>\n",
       "  <tbody>\n",
       "    <tr>\n",
       "      <th>xgboost</th>\n",
       "      <td>9.143446e-01</td>\n",
       "      <td>0.999998</td>\n",
       "      <td>2.253765e+01</td>\n",
       "      <td>1.352632e+04</td>\n",
       "      <td>1.163027e+02</td>\n",
       "      <td>-0.190419</td>\n",
       "    </tr>\n",
       "    <tr>\n",
       "      <th>Random_forest</th>\n",
       "      <td>8.139840e-01</td>\n",
       "      <td>0.984246</td>\n",
       "      <td>2.916449e+01</td>\n",
       "      <td>2.937483e+04</td>\n",
       "      <td>1.713909e+02</td>\n",
       "      <td>0.031058</td>\n",
       "    </tr>\n",
       "    <tr>\n",
       "      <th>Ridge</th>\n",
       "      <td>5.504533e-01</td>\n",
       "      <td>0.926967</td>\n",
       "      <td>1.101909e+02</td>\n",
       "      <td>7.099045e+04</td>\n",
       "      <td>2.664403e+02</td>\n",
       "      <td>-0.150902</td>\n",
       "    </tr>\n",
       "    <tr>\n",
       "      <th>Lasso</th>\n",
       "      <td>5.570493e-01</td>\n",
       "      <td>0.926389</td>\n",
       "      <td>1.048477e+02</td>\n",
       "      <td>6.994883e+04</td>\n",
       "      <td>2.644784e+02</td>\n",
       "      <td>-0.138849</td>\n",
       "    </tr>\n",
       "    <tr>\n",
       "      <th>Elastic_Net</th>\n",
       "      <td>6.358690e-01</td>\n",
       "      <td>0.771917</td>\n",
       "      <td>1.045017e+02</td>\n",
       "      <td>5.750196e+04</td>\n",
       "      <td>2.397957e+02</td>\n",
       "      <td>0.448028</td>\n",
       "    </tr>\n",
       "    <tr>\n",
       "      <th>KNN</th>\n",
       "      <td>2.978141e-01</td>\n",
       "      <td>0.679831</td>\n",
       "      <td>1.144935e+02</td>\n",
       "      <td>1.108861e+05</td>\n",
       "      <td>3.329957e+02</td>\n",
       "      <td>0.211198</td>\n",
       "    </tr>\n",
       "    <tr>\n",
       "      <th>Linear_Regression</th>\n",
       "      <td>-2.105106e+25</td>\n",
       "      <td>0.679831</td>\n",
       "      <td>1.108019e+14</td>\n",
       "      <td>3.324292e+30</td>\n",
       "      <td>1.823264e+15</td>\n",
       "      <td>0.211198</td>\n",
       "    </tr>\n",
       "    <tr>\n",
       "      <th>SVR</th>\n",
       "      <td>-5.366591e-02</td>\n",
       "      <td>-0.025899</td>\n",
       "      <td>1.289833e+02</td>\n",
       "      <td>1.663903e+05</td>\n",
       "      <td>4.079097e+02</td>\n",
       "      <td>-0.065120</td>\n",
       "    </tr>\n",
       "  </tbody>\n",
       "</table>\n",
       "</div>"
      ],
      "text/plain": [
       "                             r2  Training_score           MAE           MSE  \\\n",
       "xgboost            9.143446e-01        0.999998  2.253765e+01  1.352632e+04   \n",
       "Random_forest      8.139840e-01        0.984246  2.916449e+01  2.937483e+04   \n",
       "Ridge              5.504533e-01        0.926967  1.101909e+02  7.099045e+04   \n",
       "Lasso              5.570493e-01        0.926389  1.048477e+02  6.994883e+04   \n",
       "Elastic_Net        6.358690e-01        0.771917  1.045017e+02  5.750196e+04   \n",
       "KNN                2.978141e-01        0.679831  1.144935e+02  1.108861e+05   \n",
       "Linear_Regression -2.105106e+25        0.679831  1.108019e+14  3.324292e+30   \n",
       "SVR               -5.366591e-02       -0.025899  1.289833e+02  1.663903e+05   \n",
       "\n",
       "                           RMSE  Cross_validate  \n",
       "xgboost            1.163027e+02       -0.190419  \n",
       "Random_forest      1.713909e+02        0.031058  \n",
       "Ridge              2.664403e+02       -0.150902  \n",
       "Lasso              2.644784e+02       -0.138849  \n",
       "Elastic_Net        2.397957e+02        0.448028  \n",
       "KNN                3.329957e+02        0.211198  \n",
       "Linear_Regression  1.823264e+15        0.211198  \n",
       "SVR                4.079097e+02       -0.065120  "
      ]
     },
     "metadata": {},
     "output_type": "display_data"
    }
   ],
   "source": [
    "df_final = pd.DataFrame.from_dict(Score, orient='index')\n",
    "df_final = df_final.sort_values(by=['r2'], ascending = False)\n",
    "df_final_2 = df_final.sort_values(by=['Cross_validate'], ascending = False)\n",
    "df_final_3 = df_final.sort_values(by=['Training_score'], ascending = False)\n",
    "print(\"-\"*80)\n",
    "print(\" \"*30,'\\033[1m' + \"Classement par R2 :\" + '\\033[0m')\n",
    "print(\"-\"*80)\n",
    "display(df_final)\n",
    "print(\"\")\n",
    "print(\"-\"*80)\n",
    "print(\" \"*20,'\\033[1m' + \"Classement par Validation Croisée :\" + '\\033[0m')\n",
    "print(\"-\"*80)\n",
    "display(df_final_2)\n",
    "print(\"\")\n",
    "print(\"-\"*80)\n",
    "print(\" \"*20, '\\033[1m' + \"Classement par Score d'entrainement :\" + '\\033[0m')\n",
    "print(\"-\"*80)\n",
    "display(df_final_3)\n",
    "# Utiliser les log MSLE + RMSLE pour avoir un vrai indicateur explicable\n",
    "## Score Training "
   ]
  },
  {
   "cell_type": "markdown",
   "id": "34072a8d",
   "metadata": {},
   "source": [
    "Nos données nétant pas des données linéaires, nous ne pouvons pas utiliser le MSLE et le RMSLE car elles sont négatives, la confirmation venant du r2."
   ]
  },
  {
   "cell_type": "markdown",
   "id": "b1efe187",
   "metadata": {},
   "source": [
    "# Choix de l'algo et optimisation :"
   ]
  },
  {
   "cell_type": "markdown",
   "id": "8148a5c7",
   "metadata": {
    "ExecuteTime": {
     "end_time": "2022-08-01T19:07:59.378505Z",
     "start_time": "2022-08-01T19:07:59.378498Z"
    }
   },
   "source": [
    "Le choix se porte sur Xgboost, car il est le meilleure en R2 ainsi qu'en cross-validation."
   ]
  },
  {
   "cell_type": "code",
   "execution_count": 45,
   "id": "1d01b7fb",
   "metadata": {
    "ExecuteTime": {
     "end_time": "2022-09-05T17:16:44.560419Z",
     "start_time": "2022-09-05T17:16:44.557971Z"
    }
   },
   "outputs": [],
   "source": [
    "## Optimiser et améliorer les hyperparamétres de test de Xgboost avec Energy Star Score\n",
    "## Comparer l'impact"
   ]
  },
  {
   "cell_type": "markdown",
   "id": "5a69b9b9",
   "metadata": {},
   "source": [
    "## Algo optimisé avec Energy Star Score :"
   ]
  },
  {
   "cell_type": "code",
   "execution_count": 46,
   "id": "8f035c84",
   "metadata": {
    "ExecuteTime": {
     "end_time": "2022-09-05T17:16:44.565155Z",
     "start_time": "2022-09-05T17:16:44.561818Z"
    }
   },
   "outputs": [],
   "source": [
    "from sklearn.model_selection import RandomizedSearchCV"
   ]
  },
  {
   "cell_type": "code",
   "execution_count": 47,
   "id": "e1b086a8",
   "metadata": {
    "ExecuteTime": {
     "end_time": "2022-09-05T17:18:36.162578Z",
     "start_time": "2022-09-05T17:16:44.567080Z"
    },
    "scrolled": false
   },
   "outputs": [
    {
     "data": {
      "text/html": [
       "<style>#sk-container-id-2 {color: black;background-color: white;}#sk-container-id-2 pre{padding: 0;}#sk-container-id-2 div.sk-toggleable {background-color: white;}#sk-container-id-2 label.sk-toggleable__label {cursor: pointer;display: block;width: 100%;margin-bottom: 0;padding: 0.3em;box-sizing: border-box;text-align: center;}#sk-container-id-2 label.sk-toggleable__label-arrow:before {content: \"▸\";float: left;margin-right: 0.25em;color: #696969;}#sk-container-id-2 label.sk-toggleable__label-arrow:hover:before {color: black;}#sk-container-id-2 div.sk-estimator:hover label.sk-toggleable__label-arrow:before {color: black;}#sk-container-id-2 div.sk-toggleable__content {max-height: 0;max-width: 0;overflow: hidden;text-align: left;background-color: #f0f8ff;}#sk-container-id-2 div.sk-toggleable__content pre {margin: 0.2em;color: black;border-radius: 0.25em;background-color: #f0f8ff;}#sk-container-id-2 input.sk-toggleable__control:checked~div.sk-toggleable__content {max-height: 200px;max-width: 100%;overflow: auto;}#sk-container-id-2 input.sk-toggleable__control:checked~label.sk-toggleable__label-arrow:before {content: \"▾\";}#sk-container-id-2 div.sk-estimator input.sk-toggleable__control:checked~label.sk-toggleable__label {background-color: #d4ebff;}#sk-container-id-2 div.sk-label input.sk-toggleable__control:checked~label.sk-toggleable__label {background-color: #d4ebff;}#sk-container-id-2 input.sk-hidden--visually {border: 0;clip: rect(1px 1px 1px 1px);clip: rect(1px, 1px, 1px, 1px);height: 1px;margin: -1px;overflow: hidden;padding: 0;position: absolute;width: 1px;}#sk-container-id-2 div.sk-estimator {font-family: monospace;background-color: #f0f8ff;border: 1px dotted black;border-radius: 0.25em;box-sizing: border-box;margin-bottom: 0.5em;}#sk-container-id-2 div.sk-estimator:hover {background-color: #d4ebff;}#sk-container-id-2 div.sk-parallel-item::after {content: \"\";width: 100%;border-bottom: 1px solid gray;flex-grow: 1;}#sk-container-id-2 div.sk-label:hover label.sk-toggleable__label {background-color: #d4ebff;}#sk-container-id-2 div.sk-serial::before {content: \"\";position: absolute;border-left: 1px solid gray;box-sizing: border-box;top: 0;bottom: 0;left: 50%;z-index: 0;}#sk-container-id-2 div.sk-serial {display: flex;flex-direction: column;align-items: center;background-color: white;padding-right: 0.2em;padding-left: 0.2em;position: relative;}#sk-container-id-2 div.sk-item {position: relative;z-index: 1;}#sk-container-id-2 div.sk-parallel {display: flex;align-items: stretch;justify-content: center;background-color: white;position: relative;}#sk-container-id-2 div.sk-item::before, #sk-container-id-2 div.sk-parallel-item::before {content: \"\";position: absolute;border-left: 1px solid gray;box-sizing: border-box;top: 0;bottom: 0;left: 50%;z-index: -1;}#sk-container-id-2 div.sk-parallel-item {display: flex;flex-direction: column;z-index: 1;position: relative;background-color: white;}#sk-container-id-2 div.sk-parallel-item:first-child::after {align-self: flex-end;width: 50%;}#sk-container-id-2 div.sk-parallel-item:last-child::after {align-self: flex-start;width: 50%;}#sk-container-id-2 div.sk-parallel-item:only-child::after {width: 0;}#sk-container-id-2 div.sk-dashed-wrapped {border: 1px dashed gray;margin: 0 0.4em 0.5em 0.4em;box-sizing: border-box;padding-bottom: 0.4em;background-color: white;}#sk-container-id-2 div.sk-label label {font-family: monospace;font-weight: bold;display: inline-block;line-height: 1.2em;}#sk-container-id-2 div.sk-label-container {text-align: center;}#sk-container-id-2 div.sk-container {/* jupyter's `normalize.less` sets `[hidden] { display: none; }` but bootstrap.min.css set `[hidden] { display: none !important; }` so we also need the `!important` here to be able to override the default hidden behavior on the sphinx rendered scikit-learn.org. See: https://github.com/scikit-learn/scikit-learn/issues/21755 */display: inline-block !important;position: relative;}#sk-container-id-2 div.sk-text-repr-fallback {display: none;}</style><div id=\"sk-container-id-2\" class=\"sk-top-container\"><div class=\"sk-text-repr-fallback\"><pre>RandomizedSearchCV(cv=5,\n",
       "                   estimator=XGBRegressor(base_score=None, booster=None,\n",
       "                                          callbacks=None,\n",
       "                                          colsample_bylevel=None,\n",
       "                                          colsample_bynode=None,\n",
       "                                          colsample_bytree=None,\n",
       "                                          early_stopping_rounds=None,\n",
       "                                          enable_categorical=False,\n",
       "                                          eval_metric=None, gamma=None,\n",
       "                                          gpu_id=None, grow_policy=None,\n",
       "                                          importance_type=None,\n",
       "                                          interaction_constraints=None,\n",
       "                                          learning_rate=None, max_bin=None,\n",
       "                                          m...\n",
       "                                          monotone_constraints=None,\n",
       "                                          n_estimators=100, n_jobs=None,\n",
       "                                          num_parallel_tree=None,\n",
       "                                          predictor=None, random_state=None,\n",
       "                                          reg_alpha=None, reg_lambda=None, ...),\n",
       "                   n_iter=50, n_jobs=-1,\n",
       "                   param_distributions={&#x27;learning_rate&#x27;: [0.05, 0.1, 0.2],\n",
       "                                        &#x27;max_depth&#x27;: [3, 6, 9],\n",
       "                                        &#x27;min_child_weight&#x27;: [1, 10, 100],\n",
       "                                        &#x27;n_estimators&#x27;: [100, 400, 800]},\n",
       "                   random_state=0, return_train_score=True,\n",
       "                   scoring=&#x27;neg_mean_absolute_error&#x27;)</pre><b>In a Jupyter environment, please rerun this cell to show the HTML representation or trust the notebook. <br />On GitHub, the HTML representation is unable to render, please try loading this page with nbviewer.org.</b></div><div class=\"sk-container\" hidden><div class=\"sk-item sk-dashed-wrapped\"><div class=\"sk-label-container\"><div class=\"sk-label sk-toggleable\"><input class=\"sk-toggleable__control sk-hidden--visually\" id=\"sk-estimator-id-4\" type=\"checkbox\" ><label for=\"sk-estimator-id-4\" class=\"sk-toggleable__label sk-toggleable__label-arrow\">RandomizedSearchCV</label><div class=\"sk-toggleable__content\"><pre>RandomizedSearchCV(cv=5,\n",
       "                   estimator=XGBRegressor(base_score=None, booster=None,\n",
       "                                          callbacks=None,\n",
       "                                          colsample_bylevel=None,\n",
       "                                          colsample_bynode=None,\n",
       "                                          colsample_bytree=None,\n",
       "                                          early_stopping_rounds=None,\n",
       "                                          enable_categorical=False,\n",
       "                                          eval_metric=None, gamma=None,\n",
       "                                          gpu_id=None, grow_policy=None,\n",
       "                                          importance_type=None,\n",
       "                                          interaction_constraints=None,\n",
       "                                          learning_rate=None, max_bin=None,\n",
       "                                          m...\n",
       "                                          monotone_constraints=None,\n",
       "                                          n_estimators=100, n_jobs=None,\n",
       "                                          num_parallel_tree=None,\n",
       "                                          predictor=None, random_state=None,\n",
       "                                          reg_alpha=None, reg_lambda=None, ...),\n",
       "                   n_iter=50, n_jobs=-1,\n",
       "                   param_distributions={&#x27;learning_rate&#x27;: [0.05, 0.1, 0.2],\n",
       "                                        &#x27;max_depth&#x27;: [3, 6, 9],\n",
       "                                        &#x27;min_child_weight&#x27;: [1, 10, 100],\n",
       "                                        &#x27;n_estimators&#x27;: [100, 400, 800]},\n",
       "                   random_state=0, return_train_score=True,\n",
       "                   scoring=&#x27;neg_mean_absolute_error&#x27;)</pre></div></div></div><div class=\"sk-parallel\"><div class=\"sk-parallel-item\"><div class=\"sk-item\"><div class=\"sk-label-container\"><div class=\"sk-label sk-toggleable\"><input class=\"sk-toggleable__control sk-hidden--visually\" id=\"sk-estimator-id-5\" type=\"checkbox\" ><label for=\"sk-estimator-id-5\" class=\"sk-toggleable__label sk-toggleable__label-arrow\">estimator: XGBRegressor</label><div class=\"sk-toggleable__content\"><pre>XGBRegressor(base_score=None, booster=None, callbacks=None,\n",
       "             colsample_bylevel=None, colsample_bynode=None,\n",
       "             colsample_bytree=None, early_stopping_rounds=None,\n",
       "             enable_categorical=False, eval_metric=None, gamma=None,\n",
       "             gpu_id=None, grow_policy=None, importance_type=None,\n",
       "             interaction_constraints=None, learning_rate=None, max_bin=None,\n",
       "             max_cat_to_onehot=None, max_delta_step=None, max_depth=None,\n",
       "             max_leaves=None, min_child_weight=None, missing=nan,\n",
       "             monotone_constraints=None, n_estimators=100, n_jobs=None,\n",
       "             num_parallel_tree=None, predictor=None, random_state=None,\n",
       "             reg_alpha=None, reg_lambda=None, ...)</pre></div></div></div><div class=\"sk-serial\"><div class=\"sk-item\"><div class=\"sk-estimator sk-toggleable\"><input class=\"sk-toggleable__control sk-hidden--visually\" id=\"sk-estimator-id-6\" type=\"checkbox\" ><label for=\"sk-estimator-id-6\" class=\"sk-toggleable__label sk-toggleable__label-arrow\">XGBRegressor</label><div class=\"sk-toggleable__content\"><pre>XGBRegressor(base_score=None, booster=None, callbacks=None,\n",
       "             colsample_bylevel=None, colsample_bynode=None,\n",
       "             colsample_bytree=None, early_stopping_rounds=None,\n",
       "             enable_categorical=False, eval_metric=None, gamma=None,\n",
       "             gpu_id=None, grow_policy=None, importance_type=None,\n",
       "             interaction_constraints=None, learning_rate=None, max_bin=None,\n",
       "             max_cat_to_onehot=None, max_delta_step=None, max_depth=None,\n",
       "             max_leaves=None, min_child_weight=None, missing=nan,\n",
       "             monotone_constraints=None, n_estimators=100, n_jobs=None,\n",
       "             num_parallel_tree=None, predictor=None, random_state=None,\n",
       "             reg_alpha=None, reg_lambda=None, ...)</pre></div></div></div></div></div></div></div></div></div></div>"
      ],
      "text/plain": [
       "RandomizedSearchCV(cv=5,\n",
       "                   estimator=XGBRegressor(base_score=None, booster=None,\n",
       "                                          callbacks=None,\n",
       "                                          colsample_bylevel=None,\n",
       "                                          colsample_bynode=None,\n",
       "                                          colsample_bytree=None,\n",
       "                                          early_stopping_rounds=None,\n",
       "                                          enable_categorical=False,\n",
       "                                          eval_metric=None, gamma=None,\n",
       "                                          gpu_id=None, grow_policy=None,\n",
       "                                          importance_type=None,\n",
       "                                          interaction_constraints=None,\n",
       "                                          learning_rate=None, max_bin=None,\n",
       "                                          m...\n",
       "                                          monotone_constraints=None,\n",
       "                                          n_estimators=100, n_jobs=None,\n",
       "                                          num_parallel_tree=None,\n",
       "                                          predictor=None, random_state=None,\n",
       "                                          reg_alpha=None, reg_lambda=None, ...),\n",
       "                   n_iter=50, n_jobs=-1,\n",
       "                   param_distributions={'learning_rate': [0.05, 0.1, 0.2],\n",
       "                                        'max_depth': [3, 6, 9],\n",
       "                                        'min_child_weight': [1, 10, 100],\n",
       "                                        'n_estimators': [100, 400, 800]},\n",
       "                   random_state=0, return_train_score=True,\n",
       "                   scoring='neg_mean_absolute_error')"
      ]
     },
     "execution_count": 47,
     "metadata": {},
     "output_type": "execute_result"
    }
   ],
   "source": [
    "regressor = XGBRegressor()\n",
    "booster=['gbtree','gblinear']\n",
    "base_score=[0.25,0.5,0.75,1]\n",
    "\n",
    "\n",
    "hyperparameter_grid = {\n",
    "    'n_estimators': [100, 400, 800],\n",
    "    'max_depth': [3, 6, 9],\n",
    "    'learning_rate': [0.05, 0.1, 0.20],\n",
    "    'min_child_weight': [1, 10, 100]\n",
    "    }\n",
    "\n",
    "random_cv = RandomizedSearchCV(estimator=regressor,\n",
    "                               param_distributions=hyperparameter_grid,\n",
    "                               cv=5, \n",
    "                               n_iter=50,\n",
    "                               scoring = 'neg_mean_absolute_error',n_jobs = -1,\n",
    "                               return_train_score = True,\n",
    "                               random_state=0)\n",
    "\n",
    "random_cv.fit(X_train_scaled, y_train)"
   ]
  },
  {
   "cell_type": "code",
   "execution_count": 48,
   "id": "52f8044f",
   "metadata": {
    "ExecuteTime": {
     "end_time": "2022-09-05T17:18:38.919178Z",
     "start_time": "2022-09-05T17:18:36.164100Z"
    }
   },
   "outputs": [
    {
     "name": "stdout",
     "output_type": "stream",
     "text": [
      "-----------------------------------------------------\n",
      "Test  R^2 Score :  0.9276398352555185\n",
      "Train R^2 Score :  0.9999986279618276\n",
      "-----------------------------------------------------\n"
     ]
    }
   ],
   "source": [
    "regressor = XGBRegressor(**random_cv.best_params_)\n",
    "\n",
    "regressor.fit(X_train_scaled, y_train)\n",
    "y_pred = regressor.predict(X_test_scaled)\n",
    "print(\"-\"*53)\n",
    "print(\"Test  R^2 Score : \", regressor.score(X_test_scaled, y_test))\n",
    "print(\"Train R^2 Score : \", regressor.score(X_train_scaled, y_train))\n",
    "print(\"-\"*53)"
   ]
  },
  {
   "cell_type": "code",
   "execution_count": 49,
   "id": "8249791b",
   "metadata": {
    "ExecuteTime": {
     "end_time": "2022-09-05T17:18:48.894074Z",
     "start_time": "2022-09-05T17:18:38.920342Z"
    }
   },
   "outputs": [
    {
     "data": {
      "text/plain": [
       "{'Avec_params/avec_EnergyStarScore': {'r2': 0.9276398352555185,\n",
       "  'Training_score': 0.9999986279618276,\n",
       "  'MAE': 20.333161241246998,\n",
       "  'MSE': 11426.799713797358,\n",
       "  'RMSE': 106.89621000670397,\n",
       "  'Cross_validate': -0.21677025580125076}}"
      ]
     },
     "execution_count": 49,
     "metadata": {},
     "output_type": "execute_result"
    }
   ],
   "source": [
    "Visualisation_r2 = {}\n",
    "y_predict = regressor.predict(X_test_scaled)\n",
    "Visualisation_r2['Avec_params/avec_EnergyStarScore']  = {'r2': r2_score(y_test, y_predict),\n",
    "                  'Training_score' :r2_score(y_train, regressor.predict(X_train_scaled)),\n",
    "                  'MAE' : mean_absolute_error(y_test, y_predict),\n",
    "                  'MSE' : mean_squared_error(y_test, y_predict, squared=True),\n",
    "                  #'MSLE' : mean_squared_log_error(y_test, y_predict, squared=True),\n",
    "                  'RMSE' : mean_squared_error(y_test, y_predict, squared=False),\n",
    "                  #'RMSLE' : mean_squared_log_error(y_test, y_predict, squared=False),\n",
    "                  'Cross_validate' : (cross_val_score(regressor, X_train_scaled, y_train, cv=5)).mean()\n",
    "                 }\n",
    "Visualisation_r2"
   ]
  },
  {
   "cell_type": "code",
   "execution_count": 50,
   "id": "d7307e31",
   "metadata": {
    "ExecuteTime": {
     "end_time": "2022-09-05T17:18:49.042325Z",
     "start_time": "2022-09-05T17:18:48.895112Z"
    }
   },
   "outputs": [
    {
     "data": {
      "image/png": "[encoded data removed]",
      "text/plain": [
       "<Figure size 1080x720 with 1 Axes>"
      ]
     },
     "metadata": {},
     "output_type": "display_data"
    }
   ],
   "source": [
    "import scikitplot as sck\n",
    "fig, ax = plt.subplots(figsize=(15,10))\n",
    "sck.estimators.plot_feature_importances(random_cv.best_estimator_, feature_names = X.columns,ax=ax)\n",
    "plt.xticks(rotation=90)\n",
    "plt.show()"
   ]
  },
  {
   "cell_type": "markdown",
   "id": "0619cda0",
   "metadata": {},
   "source": [
    "## Algo optimisé sans Energy Star Score :"
   ]
  },
  {
   "cell_type": "code",
   "execution_count": 51,
   "id": "9923f512",
   "metadata": {
    "ExecuteTime": {
     "end_time": "2022-09-05T17:18:49.046419Z",
     "start_time": "2022-09-05T17:18:49.043798Z"
    }
   },
   "outputs": [],
   "source": [
    "# Maintenant on va réutiliser nos paramétres en supprimant l'energy Star Score."
   ]
  },
  {
   "cell_type": "code",
   "execution_count": 52,
   "id": "0c5f4324",
   "metadata": {
    "ExecuteTime": {
     "end_time": "2022-09-05T17:18:49.059046Z",
     "start_time": "2022-09-05T17:18:49.047816Z"
    }
   },
   "outputs": [],
   "source": [
    "y = numerical_features['TotalGHGEmissions']\n",
    "X = numerical_features.drop(['TotalGHGEmissions','Taux_Gaz','ENERGYSTARScore'],axis=1)\n",
    "#y = np.log(y)\n",
    "X_train, X_test, y_train, y_test = \\\n",
    "train_test_split(X,\n",
    "                 y,\n",
    "                 test_size=0.33, # 33% des données dans le jeu de test\n",
    "                 random_state = 0\n",
    "                )\n",
    "# Centrage et Réduction\n",
    "col = X_test.columns\n",
    "std_scale = StandardScaler().fit(X_train)\n",
    "X_train_scaled = std_scale.transform(X_train)\n",
    "X_train_scaled = pd.DataFrame(X_train_scaled, columns=col, index=X_train.index )\n",
    "X_test_scaled = std_scale.transform(X_test)\n",
    "X_test_scaled = pd.DataFrame(X_test_scaled, columns=col, index=X_test.index)\n",
    "#y_train_log = np.exp(y_train) a tester \n",
    "#y_test_log = np.exp(y_test) a tester"
   ]
  },
  {
   "cell_type": "code",
   "execution_count": 53,
   "id": "7c6aef24",
   "metadata": {
    "ExecuteTime": {
     "end_time": "2022-09-05T17:20:38.942782Z",
     "start_time": "2022-09-05T17:18:49.060035Z"
    },
    "scrolled": false
   },
   "outputs": [
    {
     "data": {
      "text/html": [
       "<style>#sk-container-id-3 {color: black;background-color: white;}#sk-container-id-3 pre{padding: 0;}#sk-container-id-3 div.sk-toggleable {background-color: white;}#sk-container-id-3 label.sk-toggleable__label {cursor: pointer;display: block;width: 100%;margin-bottom: 0;padding: 0.3em;box-sizing: border-box;text-align: center;}#sk-container-id-3 label.sk-toggleable__label-arrow:before {content: \"▸\";float: left;margin-right: 0.25em;color: #696969;}#sk-container-id-3 label.sk-toggleable__label-arrow:hover:before {color: black;}#sk-container-id-3 div.sk-estimator:hover label.sk-toggleable__label-arrow:before {color: black;}#sk-container-id-3 div.sk-toggleable__content {max-height: 0;max-width: 0;overflow: hidden;text-align: left;background-color: #f0f8ff;}#sk-container-id-3 div.sk-toggleable__content pre {margin: 0.2em;color: black;border-radius: 0.25em;background-color: #f0f8ff;}#sk-container-id-3 input.sk-toggleable__control:checked~div.sk-toggleable__content {max-height: 200px;max-width: 100%;overflow: auto;}#sk-container-id-3 input.sk-toggleable__control:checked~label.sk-toggleable__label-arrow:before {content: \"▾\";}#sk-container-id-3 div.sk-estimator input.sk-toggleable__control:checked~label.sk-toggleable__label {background-color: #d4ebff;}#sk-container-id-3 div.sk-label input.sk-toggleable__control:checked~label.sk-toggleable__label {background-color: #d4ebff;}#sk-container-id-3 input.sk-hidden--visually {border: 0;clip: rect(1px 1px 1px 1px);clip: rect(1px, 1px, 1px, 1px);height: 1px;margin: -1px;overflow: hidden;padding: 0;position: absolute;width: 1px;}#sk-container-id-3 div.sk-estimator {font-family: monospace;background-color: #f0f8ff;border: 1px dotted black;border-radius: 0.25em;box-sizing: border-box;margin-bottom: 0.5em;}#sk-container-id-3 div.sk-estimator:hover {background-color: #d4ebff;}#sk-container-id-3 div.sk-parallel-item::after {content: \"\";width: 100%;border-bottom: 1px solid gray;flex-grow: 1;}#sk-container-id-3 div.sk-label:hover label.sk-toggleable__label {background-color: #d4ebff;}#sk-container-id-3 div.sk-serial::before {content: \"\";position: absolute;border-left: 1px solid gray;box-sizing: border-box;top: 0;bottom: 0;left: 50%;z-index: 0;}#sk-container-id-3 div.sk-serial {display: flex;flex-direction: column;align-items: center;background-color: white;padding-right: 0.2em;padding-left: 0.2em;position: relative;}#sk-container-id-3 div.sk-item {position: relative;z-index: 1;}#sk-container-id-3 div.sk-parallel {display: flex;align-items: stretch;justify-content: center;background-color: white;position: relative;}#sk-container-id-3 div.sk-item::before, #sk-container-id-3 div.sk-parallel-item::before {content: \"\";position: absolute;border-left: 1px solid gray;box-sizing: border-box;top: 0;bottom: 0;left: 50%;z-index: -1;}#sk-container-id-3 div.sk-parallel-item {display: flex;flex-direction: column;z-index: 1;position: relative;background-color: white;}#sk-container-id-3 div.sk-parallel-item:first-child::after {align-self: flex-end;width: 50%;}#sk-container-id-3 div.sk-parallel-item:last-child::after {align-self: flex-start;width: 50%;}#sk-container-id-3 div.sk-parallel-item:only-child::after {width: 0;}#sk-container-id-3 div.sk-dashed-wrapped {border: 1px dashed gray;margin: 0 0.4em 0.5em 0.4em;box-sizing: border-box;padding-bottom: 0.4em;background-color: white;}#sk-container-id-3 div.sk-label label {font-family: monospace;font-weight: bold;display: inline-block;line-height: 1.2em;}#sk-container-id-3 div.sk-label-container {text-align: center;}#sk-container-id-3 div.sk-container {/* jupyter's `normalize.less` sets `[hidden] { display: none; }` but bootstrap.min.css set `[hidden] { display: none !important; }` so we also need the `!important` here to be able to override the default hidden behavior on the sphinx rendered scikit-learn.org. See: https://github.com/scikit-learn/scikit-learn/issues/21755 */display: inline-block !important;position: relative;}#sk-container-id-3 div.sk-text-repr-fallback {display: none;}</style><div id=\"sk-container-id-3\" class=\"sk-top-container\"><div class=\"sk-text-repr-fallback\"><pre>XGBRegressor(base_score=0.5, booster=&#x27;gbtree&#x27;, callbacks=None,\n",
       "             colsample_bylevel=1, colsample_bynode=1, colsample_bytree=1,\n",
       "             early_stopping_rounds=None, enable_categorical=False,\n",
       "             eval_metric=None, gamma=0, gpu_id=-1, grow_policy=&#x27;depthwise&#x27;,\n",
       "             importance_type=None, interaction_constraints=&#x27;&#x27;,\n",
       "             learning_rate=0.1, max_bin=256, max_cat_to_onehot=4,\n",
       "             max_delta_step=0, max_depth=6, max_leaves=0, min_child_weight=1,\n",
       "             missing=nan, monotone_constraints=&#x27;()&#x27;, n_estimators=800, n_jobs=0,\n",
       "             num_parallel_tree=1, predictor=&#x27;auto&#x27;, random_state=0, reg_alpha=0,\n",
       "             reg_lambda=1, ...)</pre><b>In a Jupyter environment, please rerun this cell to show the HTML representation or trust the notebook. <br />On GitHub, the HTML representation is unable to render, please try loading this page with nbviewer.org.</b></div><div class=\"sk-container\" hidden><div class=\"sk-item\"><div class=\"sk-estimator sk-toggleable\"><input class=\"sk-toggleable__control sk-hidden--visually\" id=\"sk-estimator-id-7\" type=\"checkbox\" checked><label for=\"sk-estimator-id-7\" class=\"sk-toggleable__label sk-toggleable__label-arrow\">XGBRegressor</label><div class=\"sk-toggleable__content\"><pre>XGBRegressor(base_score=0.5, booster=&#x27;gbtree&#x27;, callbacks=None,\n",
       "             colsample_bylevel=1, colsample_bynode=1, colsample_bytree=1,\n",
       "             early_stopping_rounds=None, enable_categorical=False,\n",
       "             eval_metric=None, gamma=0, gpu_id=-1, grow_policy=&#x27;depthwise&#x27;,\n",
       "             importance_type=None, interaction_constraints=&#x27;&#x27;,\n",
       "             learning_rate=0.1, max_bin=256, max_cat_to_onehot=4,\n",
       "             max_delta_step=0, max_depth=6, max_leaves=0, min_child_weight=1,\n",
       "             missing=nan, monotone_constraints=&#x27;()&#x27;, n_estimators=800, n_jobs=0,\n",
       "             num_parallel_tree=1, predictor=&#x27;auto&#x27;, random_state=0, reg_alpha=0,\n",
       "             reg_lambda=1, ...)</pre></div></div></div></div></div>"
      ],
      "text/plain": [
       "XGBRegressor(base_score=0.5, booster='gbtree', callbacks=None,\n",
       "             colsample_bylevel=1, colsample_bynode=1, colsample_bytree=1,\n",
       "             early_stopping_rounds=None, enable_categorical=False,\n",
       "             eval_metric=None, gamma=0, gpu_id=-1, grow_policy='depthwise',\n",
       "             importance_type=None, interaction_constraints='',\n",
       "             learning_rate=0.1, max_bin=256, max_cat_to_onehot=4,\n",
       "             max_delta_step=0, max_depth=6, max_leaves=0, min_child_weight=1,\n",
       "             missing=nan, monotone_constraints='()', n_estimators=800, n_jobs=0,\n",
       "             num_parallel_tree=1, predictor='auto', random_state=0, reg_alpha=0,\n",
       "             reg_lambda=1, ...)"
      ]
     },
     "metadata": {},
     "output_type": "display_data"
    },
    {
     "data": {
      "text/plain": [
       "{'mean_fit_time': array([ 5.13109965,  0.51502113,  1.95468168,  3.73827047,  5.4589438 ,\n",
       "         5.47230535,  0.44282503,  1.8598752 ,  6.23800015,  6.08203583,\n",
       "        10.80180779,  0.71463084,  1.39104066,  0.50989265,  4.51785622,\n",
       "         3.7374958 ,  0.50789986,  0.84499431,  6.55497146,  0.43088112,\n",
       "         0.63309584,  1.74134073,  5.51290936,  5.81734486,  3.4909224 ,\n",
       "         2.91247301,  1.84833183,  1.28337827,  5.39254427,  0.86674418,\n",
       "         3.6009326 ,  0.44797106,  3.5303297 ,  6.73216004,  3.61407905,\n",
       "         1.7691699 ,  1.77963901,  7.34034328,  0.47955418, 10.67422118,\n",
       "         3.82159476,  1.75467649,  1.23852978,  0.67129021,  1.77645617,\n",
       "         3.51093283,  6.40058079,  6.42782707,  2.63418698,  4.10730209]),\n",
       " 'std_fit_time': array([0.06716607, 0.02287142, 0.18882591, 0.03166281, 0.16916562,\n",
       "        0.60033472, 0.00977145, 0.10686633, 0.08884593, 0.15446974,\n",
       "        0.175358  , 0.06404092, 0.06006746, 0.0239557 , 0.26685378,\n",
       "        0.10318972, 0.03440691, 0.02513954, 0.12370942, 0.02244978,\n",
       "        0.03603264, 0.08488466, 0.20033846, 0.08665157, 0.10819867,\n",
       "        0.08171389, 0.03587641, 0.03795827, 0.10692076, 0.01278265,\n",
       "        0.09675336, 0.01840756, 0.06161548, 0.1635138 , 0.0991058 ,\n",
       "        0.04548804, 0.05481005, 0.15498598, 0.02850708, 0.40653653,\n",
       "        0.20031402, 0.0606044 , 0.03556146, 0.01717458, 0.06772762,\n",
       "        0.10108027, 0.08396477, 0.13674513, 0.03052385, 0.1818168 ]),\n",
       " 'mean_score_time': array([0.01135302, 0.00900645, 0.00758948, 0.00834599, 0.01015201,\n",
       "        0.00780792, 0.00517135, 0.00798244, 0.01247668, 0.01140099,\n",
       "        0.01332603, 0.00510364, 0.00873418, 0.00515413, 0.01229358,\n",
       "        0.01086578, 0.00454488, 0.0054647 , 0.01192656, 0.00559897,\n",
       "        0.00724525, 0.00598788, 0.00942736, 0.00819378, 0.01110501,\n",
       "        0.00861659, 0.00582433, 0.0046185 , 0.01237316, 0.0070859 ,\n",
       "        0.00853305, 0.00637097, 0.01098132, 0.00910563, 0.00975342,\n",
       "        0.00534263, 0.00582933, 0.0117342 , 0.00748806, 0.01300817,\n",
       "        0.00907645, 0.00619764, 0.00578499, 0.00683074, 0.00515876,\n",
       "        0.00531945, 0.01299272, 0.00834718, 0.00831103, 0.00648112]),\n",
       " 'std_score_time': array([0.00425755, 0.00118112, 0.00229805, 0.00342233, 0.0017509 ,\n",
       "        0.0026088 , 0.00217317, 0.00286497, 0.00298852, 0.00368694,\n",
       "        0.00555772, 0.00125224, 0.00184656, 0.00115252, 0.00436097,\n",
       "        0.00458542, 0.00116982, 0.00272684, 0.0031132 , 0.00233417,\n",
       "        0.0028339 , 0.00207266, 0.00294998, 0.00079554, 0.00407741,\n",
       "        0.00400135, 0.00101197, 0.00030937, 0.00482197, 0.00249212,\n",
       "        0.00299041, 0.00278396, 0.00306471, 0.0021215 , 0.00433955,\n",
       "        0.00192271, 0.00300217, 0.00381411, 0.00235375, 0.00253488,\n",
       "        0.00288676, 0.00208547, 0.00107597, 0.00243507, 0.00121901,\n",
       "        0.00052535, 0.00395525, 0.00204369, 0.0024567 , 0.00011856]),\n",
       " 'param_n_estimators': masked_array(data=[400, 100, 400, 400, 800, 800, 100, 400, 800, 800, 800,\n",
       "                    100, 100, 100, 400, 800, 100, 100, 800, 100, 100, 400,\n",
       "                    400, 800, 400, 400, 400, 100, 800, 100, 800, 100, 800,\n",
       "                    800, 800, 400, 400, 800, 100, 800, 400, 400, 100, 100,\n",
       "                    400, 800, 800, 800, 400, 400],\n",
       "              mask=[False, False, False, False, False, False, False, False,\n",
       "                    False, False, False, False, False, False, False, False,\n",
       "                    False, False, False, False, False, False, False, False,\n",
       "                    False, False, False, False, False, False, False, False,\n",
       "                    False, False, False, False, False, False, False, False,\n",
       "                    False, False, False, False, False, False, False, False,\n",
       "                    False, False],\n",
       "        fill_value='?',\n",
       "             dtype=object),\n",
       " 'param_min_child_weight': masked_array(data=[10, 1, 100, 10, 100, 1, 10, 1, 100, 100, 10, 100, 10,\n",
       "                    100, 1, 1, 10, 10, 10, 10, 100, 100, 10, 100, 10, 100,\n",
       "                    10, 1, 100, 1, 100, 100, 10, 1, 1, 100, 1, 1, 1, 10, 1,\n",
       "                    10, 1, 100, 1, 10, 10, 10, 100, 1],\n",
       "              mask=[False, False, False, False, False, False, False, False,\n",
       "                    False, False, False, False, False, False, False, False,\n",
       "                    False, False, False, False, False, False, False, False,\n",
       "                    False, False, False, False, False, False, False, False,\n",
       "                    False, False, False, False, False, False, False, False,\n",
       "                    False, False, False, False, False, False, False, False,\n",
       "                    False, False],\n",
       "        fill_value='?',\n",
       "             dtype=object),\n",
       " 'param_max_depth': masked_array(data=[9, 3, 3, 6, 6, 9, 3, 3, 9, 9, 9, 6, 9, 3, 9, 3, 3, 6,\n",
       "                    6, 3, 6, 3, 9, 9, 6, 6, 3, 9, 6, 6, 3, 3, 3, 6, 3, 3,\n",
       "                    3, 6, 3, 9, 6, 3, 9, 9, 3, 3, 6, 6, 9, 9],\n",
       "              mask=[False, False, False, False, False, False, False, False,\n",
       "                    False, False, False, False, False, False, False, False,\n",
       "                    False, False, False, False, False, False, False, False,\n",
       "                    False, False, False, False, False, False, False, False,\n",
       "                    False, False, False, False, False, False, False, False,\n",
       "                    False, False, False, False, False, False, False, False,\n",
       "                    False, False],\n",
       "        fill_value='?',\n",
       "             dtype=object),\n",
       " 'param_learning_rate': masked_array(data=[0.05, 0.1, 0.2, 0.05, 0.2, 0.2, 0.1, 0.2, 0.1, 0.05,\n",
       "                    0.1, 0.1, 0.1, 0.1, 0.2, 0.05, 0.2, 0.2, 0.1, 0.05,\n",
       "                    0.2, 0.05, 0.2, 0.2, 0.1, 0.1, 0.05, 0.2, 0.05, 0.2,\n",
       "                    0.05, 0.05, 0.2, 0.1, 0.2, 0.1, 0.1, 0.05, 0.2, 0.05,\n",
       "                    0.05, 0.1, 0.1, 0.2, 0.05, 0.1, 0.2, 0.05, 0.1, 0.05],\n",
       "              mask=[False, False, False, False, False, False, False, False,\n",
       "                    False, False, False, False, False, False, False, False,\n",
       "                    False, False, False, False, False, False, False, False,\n",
       "                    False, False, False, False, False, False, False, False,\n",
       "                    False, False, False, False, False, False, False, False,\n",
       "                    False, False, False, False, False, False, False, False,\n",
       "                    False, False],\n",
       "        fill_value='?',\n",
       "             dtype=object),\n",
       " 'params': [{'n_estimators': 400,\n",
       "   'min_child_weight': 10,\n",
       "   'max_depth': 9,\n",
       "   'learning_rate': 0.05},\n",
       "  {'n_estimators': 100,\n",
       "   'min_child_weight': 1,\n",
       "   'max_depth': 3,\n",
       "   'learning_rate': 0.1},\n",
       "  {'n_estimators': 400,\n",
       "   'min_child_weight': 100,\n",
       "   'max_depth': 3,\n",
       "   'learning_rate': 0.2},\n",
       "  {'n_estimators': 400,\n",
       "   'min_child_weight': 10,\n",
       "   'max_depth': 6,\n",
       "   'learning_rate': 0.05},\n",
       "  {'n_estimators': 800,\n",
       "   'min_child_weight': 100,\n",
       "   'max_depth': 6,\n",
       "   'learning_rate': 0.2},\n",
       "  {'n_estimators': 800,\n",
       "   'min_child_weight': 1,\n",
       "   'max_depth': 9,\n",
       "   'learning_rate': 0.2},\n",
       "  {'n_estimators': 100,\n",
       "   'min_child_weight': 10,\n",
       "   'max_depth': 3,\n",
       "   'learning_rate': 0.1},\n",
       "  {'n_estimators': 400,\n",
       "   'min_child_weight': 1,\n",
       "   'max_depth': 3,\n",
       "   'learning_rate': 0.2},\n",
       "  {'n_estimators': 800,\n",
       "   'min_child_weight': 100,\n",
       "   'max_depth': 9,\n",
       "   'learning_rate': 0.1},\n",
       "  {'n_estimators': 800,\n",
       "   'min_child_weight': 100,\n",
       "   'max_depth': 9,\n",
       "   'learning_rate': 0.05},\n",
       "  {'n_estimators': 800,\n",
       "   'min_child_weight': 10,\n",
       "   'max_depth': 9,\n",
       "   'learning_rate': 0.1},\n",
       "  {'n_estimators': 100,\n",
       "   'min_child_weight': 100,\n",
       "   'max_depth': 6,\n",
       "   'learning_rate': 0.1},\n",
       "  {'n_estimators': 100,\n",
       "   'min_child_weight': 10,\n",
       "   'max_depth': 9,\n",
       "   'learning_rate': 0.1},\n",
       "  {'n_estimators': 100,\n",
       "   'min_child_weight': 100,\n",
       "   'max_depth': 3,\n",
       "   'learning_rate': 0.1},\n",
       "  {'n_estimators': 400,\n",
       "   'min_child_weight': 1,\n",
       "   'max_depth': 9,\n",
       "   'learning_rate': 0.2},\n",
       "  {'n_estimators': 800,\n",
       "   'min_child_weight': 1,\n",
       "   'max_depth': 3,\n",
       "   'learning_rate': 0.05},\n",
       "  {'n_estimators': 100,\n",
       "   'min_child_weight': 10,\n",
       "   'max_depth': 3,\n",
       "   'learning_rate': 0.2},\n",
       "  {'n_estimators': 100,\n",
       "   'min_child_weight': 10,\n",
       "   'max_depth': 6,\n",
       "   'learning_rate': 0.2},\n",
       "  {'n_estimators': 800,\n",
       "   'min_child_weight': 10,\n",
       "   'max_depth': 6,\n",
       "   'learning_rate': 0.1},\n",
       "  {'n_estimators': 100,\n",
       "   'min_child_weight': 10,\n",
       "   'max_depth': 3,\n",
       "   'learning_rate': 0.05},\n",
       "  {'n_estimators': 100,\n",
       "   'min_child_weight': 100,\n",
       "   'max_depth': 6,\n",
       "   'learning_rate': 0.2},\n",
       "  {'n_estimators': 400,\n",
       "   'min_child_weight': 100,\n",
       "   'max_depth': 3,\n",
       "   'learning_rate': 0.05},\n",
       "  {'n_estimators': 400,\n",
       "   'min_child_weight': 10,\n",
       "   'max_depth': 9,\n",
       "   'learning_rate': 0.2},\n",
       "  {'n_estimators': 800,\n",
       "   'min_child_weight': 100,\n",
       "   'max_depth': 9,\n",
       "   'learning_rate': 0.2},\n",
       "  {'n_estimators': 400,\n",
       "   'min_child_weight': 10,\n",
       "   'max_depth': 6,\n",
       "   'learning_rate': 0.1},\n",
       "  {'n_estimators': 400,\n",
       "   'min_child_weight': 100,\n",
       "   'max_depth': 6,\n",
       "   'learning_rate': 0.1},\n",
       "  {'n_estimators': 400,\n",
       "   'min_child_weight': 10,\n",
       "   'max_depth': 3,\n",
       "   'learning_rate': 0.05},\n",
       "  {'n_estimators': 100,\n",
       "   'min_child_weight': 1,\n",
       "   'max_depth': 9,\n",
       "   'learning_rate': 0.2},\n",
       "  {'n_estimators': 800,\n",
       "   'min_child_weight': 100,\n",
       "   'max_depth': 6,\n",
       "   'learning_rate': 0.05},\n",
       "  {'n_estimators': 100,\n",
       "   'min_child_weight': 1,\n",
       "   'max_depth': 6,\n",
       "   'learning_rate': 0.2},\n",
       "  {'n_estimators': 800,\n",
       "   'min_child_weight': 100,\n",
       "   'max_depth': 3,\n",
       "   'learning_rate': 0.05},\n",
       "  {'n_estimators': 100,\n",
       "   'min_child_weight': 100,\n",
       "   'max_depth': 3,\n",
       "   'learning_rate': 0.05},\n",
       "  {'n_estimators': 800,\n",
       "   'min_child_weight': 10,\n",
       "   'max_depth': 3,\n",
       "   'learning_rate': 0.2},\n",
       "  {'n_estimators': 800,\n",
       "   'min_child_weight': 1,\n",
       "   'max_depth': 6,\n",
       "   'learning_rate': 0.1},\n",
       "  {'n_estimators': 800,\n",
       "   'min_child_weight': 1,\n",
       "   'max_depth': 3,\n",
       "   'learning_rate': 0.2},\n",
       "  {'n_estimators': 400,\n",
       "   'min_child_weight': 100,\n",
       "   'max_depth': 3,\n",
       "   'learning_rate': 0.1},\n",
       "  {'n_estimators': 400,\n",
       "   'min_child_weight': 1,\n",
       "   'max_depth': 3,\n",
       "   'learning_rate': 0.1},\n",
       "  {'n_estimators': 800,\n",
       "   'min_child_weight': 1,\n",
       "   'max_depth': 6,\n",
       "   'learning_rate': 0.05},\n",
       "  {'n_estimators': 100,\n",
       "   'min_child_weight': 1,\n",
       "   'max_depth': 3,\n",
       "   'learning_rate': 0.2},\n",
       "  {'n_estimators': 800,\n",
       "   'min_child_weight': 10,\n",
       "   'max_depth': 9,\n",
       "   'learning_rate': 0.05},\n",
       "  {'n_estimators': 400,\n",
       "   'min_child_weight': 1,\n",
       "   'max_depth': 6,\n",
       "   'learning_rate': 0.05},\n",
       "  {'n_estimators': 400,\n",
       "   'min_child_weight': 10,\n",
       "   'max_depth': 3,\n",
       "   'learning_rate': 0.1},\n",
       "  {'n_estimators': 100,\n",
       "   'min_child_weight': 1,\n",
       "   'max_depth': 9,\n",
       "   'learning_rate': 0.1},\n",
       "  {'n_estimators': 100,\n",
       "   'min_child_weight': 100,\n",
       "   'max_depth': 9,\n",
       "   'learning_rate': 0.2},\n",
       "  {'n_estimators': 400,\n",
       "   'min_child_weight': 1,\n",
       "   'max_depth': 3,\n",
       "   'learning_rate': 0.05},\n",
       "  {'n_estimators': 800,\n",
       "   'min_child_weight': 10,\n",
       "   'max_depth': 3,\n",
       "   'learning_rate': 0.1},\n",
       "  {'n_estimators': 800,\n",
       "   'min_child_weight': 10,\n",
       "   'max_depth': 6,\n",
       "   'learning_rate': 0.2},\n",
       "  {'n_estimators': 800,\n",
       "   'min_child_weight': 10,\n",
       "   'max_depth': 6,\n",
       "   'learning_rate': 0.05},\n",
       "  {'n_estimators': 400,\n",
       "   'min_child_weight': 100,\n",
       "   'max_depth': 9,\n",
       "   'learning_rate': 0.1},\n",
       "  {'n_estimators': 400,\n",
       "   'min_child_weight': 1,\n",
       "   'max_depth': 9,\n",
       "   'learning_rate': 0.05}],\n",
       " 'split0_test_score': array([-119.3853733 ,  -79.87648892, -290.4740834 , -119.98399319,\n",
       "        -299.76197047,  -67.10763935, -148.64273373,  -69.22574058,\n",
       "        -281.42867365, -268.82494509, -112.57402574, -247.80339115,\n",
       "        -127.86041262, -251.07076922,  -67.10763933,  -72.00537104,\n",
       "        -132.9016068 , -116.94357935, -114.50670258, -165.07645407,\n",
       "        -258.54090754, -258.97681927, -112.39887543, -299.76197047,\n",
       "        -112.9890712 , -270.72721237, -132.69110674,  -67.10246478,\n",
       "        -268.82494509,  -67.56753673, -274.38220048, -241.74935505,\n",
       "        -119.41789472,  -68.15640862,  -69.03390178, -277.88655516,\n",
       "         -73.01675232,  -69.403118  ,  -72.61973946, -112.24047198,\n",
       "         -69.42091276, -127.53737078,  -68.282492  , -258.54090754,\n",
       "         -73.89806052, -123.08596319, -112.47335214, -112.69700896,\n",
       "        -270.72721237,  -68.95720857]),\n",
       " 'split1_test_score': array([ -97.2787948 ,  -81.59925352, -278.30015391,  -95.6658508 ,\n",
       "        -324.21643732,  -71.64875206, -103.67994602,  -73.92203927,\n",
       "        -272.26356484, -234.99515481, -119.82297809, -208.05461268,\n",
       "         -84.20896233, -211.0731485 ,  -71.64802699,  -72.05478233,\n",
       "        -117.66512907, -101.91458308, -115.17343628,  -99.16263125,\n",
       "        -225.06581543, -226.12734177, -120.98854818, -324.21643732,\n",
       "        -106.80201272, -236.82977389, -107.66330057,  -71.65749943,\n",
       "        -234.99515481,  -69.09369636, -240.0515111 , -185.8297679 ,\n",
       "        -114.32201461,  -69.8599448 ,  -73.53685617, -245.30257175,\n",
       "         -70.83095731,  -70.6806512 ,  -78.60447992, -111.7598329 ,\n",
       "         -70.96122553, -110.72985242,  -71.00888692, -225.06581543,\n",
       "         -75.62163412, -109.67173724, -121.95820053, -107.38735839,\n",
       "        -236.82977389,  -70.97555261]),\n",
       " 'split2_test_score': array([ -32.59218773,  -22.24852656, -161.16719989,  -31.36897852,\n",
       "        -187.55432655,   -9.53347462,  -44.13724058,  -15.72991469,\n",
       "        -158.91051858, -141.24154022,  -36.81943597, -112.65640773,\n",
       "         -31.64415796, -122.23560219,   -9.53347434,  -15.60291791,\n",
       "         -45.56403162,  -34.51054384,  -34.25647213,  -47.5494622 ,\n",
       "        -134.10179448, -143.16262057,  -37.69389666, -187.55432655,\n",
       "         -36.30461171, -143.67677658,  -44.46365641,   -9.51594583,\n",
       "        -141.24154022,  -11.11987103, -151.07589011, -106.46016594,\n",
       "         -44.97168896,  -10.51495895,  -15.46593746, -153.79848511,\n",
       "         -15.44327032,   -9.63477325,  -18.73639928,  -35.94094278,\n",
       "         -10.0078348 ,  -44.99074249,  -10.13745663, -134.10179448,\n",
       "         -18.7609734 ,  -44.33475644,  -37.14307768,  -33.73615145,\n",
       "        -143.67677658,  -10.50899061]),\n",
       " 'split3_test_score': array([-103.86011467,  -50.95940029, -252.41783006, -103.67224177,\n",
       "        -271.2263108 ,  -44.60236866, -104.34847443,  -39.44459611,\n",
       "        -252.42145423, -233.9055278 , -112.13981564, -219.53731395,\n",
       "         -94.39037111, -228.32976061,  -44.60236841,  -51.92334531,\n",
       "        -113.99801117, -102.21275172, -111.62319336, -116.91281414,\n",
       "        -224.3211846 , -231.19575033, -109.31359066, -274.26881065,\n",
       "        -108.98782874, -235.71264513, -111.68663373,  -44.60618308,\n",
       "        -233.9055278 ,  -41.83500381, -244.18775278, -218.22067309,\n",
       "        -109.96075901,  -42.47756197,  -38.96542914, -244.10368887,\n",
       "         -44.1218609 ,  -44.79884375,  -44.67570048, -111.51574317,\n",
       "         -44.95550916, -112.8019612 ,  -44.35536653, -224.3211846 ,\n",
       "         -56.82036739, -111.37278242, -108.44417841, -110.72016849,\n",
       "        -235.71264513,  -46.06163638]),\n",
       " 'split4_test_score': array([-147.26977194,  -44.97709566, -241.33704872, -143.30635492,\n",
       "        -274.30267916,  -46.13725326, -148.46637121,  -38.50076143,\n",
       "        -238.15029843, -200.39990917, -165.95794577, -156.41434123,\n",
       "        -129.05302454, -157.71487055,  -46.13725349,  -34.05395432,\n",
       "        -175.8416538 , -149.99395239, -160.84016911, -121.39381354,\n",
       "        -166.53904001, -174.58581102, -162.45434752, -274.30267916,\n",
       "        -161.22201319, -200.79145392, -164.31545472,  -46.15310087,\n",
       "        -200.39990917,  -45.77498904, -202.64339715, -150.9557583 ,\n",
       "        -177.54875443,  -38.45516478,  -38.37162078, -202.00002116,\n",
       "         -35.24974022,  -37.70584414,  -44.00006334, -161.41556832,\n",
       "         -37.9245975 , -176.2851208 ,  -38.8716008 , -166.53904001,\n",
       "         -38.62561059, -170.40653026, -164.33591809, -156.87295945,\n",
       "        -200.79145392,  -41.11612324]),\n",
       " 'mean_test_score': array([-100.07724849,  -55.93215299, -244.7392632 ,  -98.79948384,\n",
       "        -271.41234486,  -47.80589759, -109.85495319,  -47.36461042,\n",
       "        -240.63490195, -215.87341542, -109.46284024, -188.89321335,\n",
       "         -93.43138571, -194.08483021,  -47.80575251,  -49.12807418,\n",
       "        -117.19408649, -101.11508208, -107.27999469, -110.01903504,\n",
       "        -201.71374841, -206.80966859, -108.56985169, -272.02084483,\n",
       "        -105.26110751, -217.54757238, -112.16403043,  -47.8070388 ,\n",
       "        -215.87341542,  -47.0782194 , -222.46815032, -180.64314406,\n",
       "        -113.24422235,  -45.89280782,  -47.07474907, -224.61826441,\n",
       "         -47.73251621,  -46.44464607,  -51.7272765 , -106.57451183,\n",
       "         -46.65401595, -114.46900954,  -46.53116058, -201.71374841,\n",
       "         -52.7453292 , -111.77435391, -108.87094537, -104.28272935,\n",
       "        -217.54757238,  -47.52390228]),\n",
       " 'std_test_score': array([37.88485924, 22.41186968, 45.32732593, 37.44350807, 46.1140528 ,\n",
       "        21.99483701, 38.42552093, 21.56503864, 43.56254132, 43.13701121,\n",
       "        41.45585426, 48.25672355, 35.65920163, 47.31553866, 21.99467991,\n",
       "        21.94531108, 42.01800777, 37.62364651, 40.82774114, 38.02246231,\n",
       "        44.93189879, 41.90128592, 40.24022486, 46.12765495, 39.90640435,\n",
       "        43.05231527, 39.35722815, 22.00157597, 43.13701121, 21.10301347,\n",
       "        42.34586159, 48.07784498, 42.06249793, 21.85710962, 21.55490655,\n",
       "        42.83003433, 21.83704424, 22.57661374, 21.71041962, 40.19962433,\n",
       "        22.49978796, 42.03808658, 22.18190311, 44.93189879, 21.64103601,\n",
       "        40.29482888, 41.00167293, 39.65963036, 43.05231527, 22.01212421]),\n",
       " 'rank_test_score': array([19, 16, 48, 18, 49, 11, 28,  7, 47, 41, 27, 36, 17, 37, 10, 13, 34,\n",
       "        20, 24, 29, 38, 40, 25, 50, 22, 43, 31, 12, 41,  6, 45, 35, 32,  1,\n",
       "         5, 46,  9,  2, 14, 23,  4, 33,  3, 38, 15, 30, 26, 21, 43,  8],\n",
       "       dtype=int32),\n",
       " 'split0_train_score': array([-2.55521675e+01, -1.77468136e+01, -1.22128864e+02, -2.86615871e+01,\n",
       "        -8.92917102e+01, -9.17845637e-04, -5.94875360e+01, -2.51467569e+00,\n",
       "        -1.07720469e+02, -1.14456821e+02, -3.94876904e+00, -1.15149253e+02,\n",
       "        -3.61620379e+01, -1.21149294e+02, -9.17770551e-04, -5.92751448e+00,\n",
       "        -4.80768241e+01, -2.84070825e+01, -6.61319108e+00, -6.79407586e+01,\n",
       "        -1.14406902e+02, -1.20783217e+02, -3.71605083e+00, -8.92917102e+01,\n",
       "        -1.64312488e+01, -1.13316846e+02, -4.93747190e+01, -3.14981686e-01,\n",
       "        -1.14456821e+02, -1.72221119e+00, -1.23371340e+02, -1.16966923e+02,\n",
       "        -5.59836777e+00, -6.30274632e-02, -8.56780841e-01, -1.25959816e+02,\n",
       "        -5.70804489e+00, -6.10583194e-01, -1.10306026e+01, -1.33207713e+01,\n",
       "        -1.89600819e+00, -3.55114255e+01, -8.65451422e-01, -1.14406902e+02,\n",
       "        -1.05058525e+01, -1.98721339e+01, -7.21191339e-01, -1.71566792e+01,\n",
       "        -1.13316846e+02, -3.21726743e-01]),\n",
       " 'split1_train_score': array([-3.36532441e+01, -1.96027551e+01, -1.93579381e+02, -3.90832005e+01,\n",
       "        -1.36710687e+02, -1.09340015e-03, -6.89631633e+01, -2.49001020e+00,\n",
       "        -1.64846822e+02, -1.77097035e+02, -7.79993677e+00, -1.98166080e+02,\n",
       "        -4.44862677e+01, -2.05171428e+02, -1.09339927e-03, -6.10769730e+00,\n",
       "        -5.75500456e+01, -3.60030543e+01, -1.22887630e+01, -7.97508835e+01,\n",
       "        -1.88555686e+02, -1.95196288e+02, -7.52683033e+00, -1.36710687e+02,\n",
       "        -2.45758266e+01, -1.76912559e+02, -5.43037610e+01, -3.88368348e-01,\n",
       "        -1.77097035e+02, -1.88775136e+00, -1.94273631e+02, -1.97925198e+02,\n",
       "        -9.49996287e+00, -9.73820613e-02, -8.00945534e-01, -1.95368172e+02,\n",
       "        -5.49919531e+00, -5.67569008e-01, -1.10755794e+01, -1.94111434e+01,\n",
       "        -1.85036685e+00, -3.80832221e+01, -9.47463218e-01, -1.88555686e+02,\n",
       "        -1.11994136e+01, -2.25781983e+01, -2.28680311e+00, -2.45591741e+01,\n",
       "        -1.76912559e+02, -4.01826977e-01]),\n",
       " 'split2_train_score': array([-3.80240628e+01, -2.07616611e+01, -1.85635495e+02, -4.11469703e+01,\n",
       "        -1.40328970e+02, -9.49929932e-04, -7.37814891e+01, -2.91950324e+00,\n",
       "        -1.65331677e+02, -1.83639057e+02, -8.45260468e+00, -1.98076895e+02,\n",
       "        -5.14182024e+01, -2.05005372e+02, -9.49999815e-04, -6.13122296e+00,\n",
       "        -6.49912164e+01, -4.18540898e+01, -1.23113482e+01, -8.89764361e+01,\n",
       "        -1.93791377e+02, -2.06670055e+02, -8.55696218e+00, -1.40328970e+02,\n",
       "        -2.55372152e+01, -1.83962958e+02, -6.05530468e+01, -4.09542583e-01,\n",
       "        -1.83639057e+02, -2.34100067e+00, -1.98783158e+02, -2.01953938e+02,\n",
       "        -1.07951899e+01, -7.97116493e-02, -1.10868128e+00, -2.00418109e+02,\n",
       "        -5.61195290e+00, -5.95218744e-01, -1.23630729e+01, -2.32578573e+01,\n",
       "        -2.02205676e+00, -4.23842972e+01, -1.03099277e+00, -1.93791377e+02,\n",
       "        -1.21387756e+01, -2.41844142e+01, -2.47847585e+00, -2.63087853e+01,\n",
       "        -1.83962958e+02, -3.37439288e-01]),\n",
       " 'split3_train_score': array([-3.72600776e+01, -2.36717068e+01, -1.36263615e+02, -3.96287166e+01,\n",
       "        -1.02947285e+02, -1.05475778e-03, -6.91410501e+01, -2.61840866e+00,\n",
       "        -1.20008173e+02, -1.27433074e+02, -7.13889024e+00, -1.42193677e+02,\n",
       "        -4.71214321e+01, -1.51766641e+02, -1.05471248e-03, -7.13271554e+00,\n",
       "        -6.25770755e+01, -3.94728309e+01, -9.63653456e+00, -8.14936500e+01,\n",
       "        -1.34304603e+02, -1.45829992e+02, -7.04347499e+00, -1.02734582e+02,\n",
       "        -2.48799337e+01, -1.26905809e+02, -5.56745835e+01, -2.70087147e-01,\n",
       "        -1.27433074e+02, -1.75818924e+00, -1.42548590e+02, -1.47027868e+02,\n",
       "        -8.22201912e+00, -6.06601933e-02, -8.42399343e-01, -1.42826490e+02,\n",
       "        -6.94841351e+00, -5.25078860e-01, -1.34785584e+01, -2.09099761e+01,\n",
       "        -1.86529839e+00, -3.74531803e+01, -1.04766957e+00, -1.34304603e+02,\n",
       "        -1.53332786e+01, -2.23818060e+01, -1.34195526e+00, -2.54039264e+01,\n",
       "        -1.26905809e+02, -3.25123532e-01]),\n",
       " 'split4_train_score': array([-3.21340940e+01, -1.97672455e+01, -1.74110517e+02, -4.03379823e+01,\n",
       "        -1.36429836e+02, -9.91940378e-04, -6.76509221e+01, -2.46465919e+00,\n",
       "        -1.56436640e+02, -1.66581102e+02, -4.24885516e+00, -1.74131338e+02,\n",
       "        -5.39703995e+01, -1.76044150e+02, -9.91987953e-04, -6.22269834e+00,\n",
       "        -5.94164529e+01, -4.27396037e+01, -6.87074852e+00, -9.88414800e+01,\n",
       "        -1.69454446e+02, -1.77193395e+02, -3.76333522e+00, -1.36429836e+02,\n",
       "        -1.97627146e+01, -1.66518675e+02, -5.48902558e+01, -3.38490751e-01,\n",
       "        -1.66581102e+02, -2.08694654e+00, -1.73982357e+02, -1.76046754e+02,\n",
       "        -1.19317524e+01, -8.22477916e-02, -9.12759763e-01, -1.74073285e+02,\n",
       "        -6.70762667e+00, -5.69004572e-01, -1.10302633e+01, -1.42183651e+01,\n",
       "        -2.03843650e+00, -4.14413199e+01, -1.02133935e+00, -1.69454446e+02,\n",
       "        -1.24010682e+01, -2.61859988e+01, -7.66800123e-01, -2.15311132e+01,\n",
       "        -1.66518675e+02, -3.57874971e-01]),\n",
       " 'mean_train_score': array([-3.33247292e+01, -2.03100364e+01, -1.62343574e+02, -3.77716914e+01,\n",
       "        -1.21141697e+02, -1.00157477e-03, -6.78048321e+01, -2.60145140e+00,\n",
       "        -1.42868756e+02, -1.53841418e+02, -6.31781118e+00, -1.65543449e+02,\n",
       "        -4.66316679e+01, -1.71827377e+02, -1.00157401e-03, -6.30436972e+00,\n",
       "        -5.85223229e+01, -3.76953322e+01, -9.54411708e+00, -8.34006416e+01,\n",
       "        -1.60102603e+02, -1.69134590e+02, -6.12133071e+00, -1.21099157e+02,\n",
       "        -2.22373878e+01, -1.53523369e+02, -5.49592732e+01, -3.44294103e-01,\n",
       "        -1.53841418e+02, -1.95921980e+00, -1.66591815e+02, -1.67984136e+02,\n",
       "        -9.20945842e+00, -7.66058317e-02, -9.04313352e-01, -1.67729174e+02,\n",
       "        -6.09504666e+00, -5.73490876e-01, -1.17956153e+01, -1.82236226e+01,\n",
       "        -1.93443334e+00, -3.89746890e+01, -9.82583266e-01, -1.60102603e+02,\n",
       "        -1.23156777e+01, -2.30405102e+01, -1.51904514e+00, -2.29919356e+01,\n",
       "        -1.53523369e+02, -3.48798302e-01]),\n",
       " 'std_train_score': array([4.46114229e+00, 1.94266689e+00, 2.81212990e+01, 4.60740611e+00,\n",
       "        2.09271611e+01, 6.48550858e-05, 4.64862865e+00, 1.67395219e-01,\n",
       "        2.42062556e+01, 2.77112602e+01, 1.86124421e+00, 3.24998457e+01,\n",
       "        6.18423250e+00, 3.22524031e+01, 6.48542735e-05, 4.25089811e-01,\n",
       "        5.81619874e+00, 5.19682266e+00, 2.48742506e+00, 1.02515785e+01,\n",
       "        3.09373636e+01, 3.17301976e+01, 2.00517301e+00, 2.09642865e+01,\n",
       "        3.55458754e+00, 2.81693443e+01, 3.56156364e+00, 5.01985501e-02,\n",
       "        2.77112602e+01, 2.29680152e-01, 2.93369108e+01, 3.21164806e+01,\n",
       "        2.19202344e+00, 1.35038143e-02, 1.08272971e-01, 2.91120295e+01,\n",
       "        6.06906587e-01, 2.91439844e-02, 9.84252538e-01, 3.84838299e+00,\n",
       "        7.97719605e-02, 2.56178031e+00, 6.78749261e-02, 3.09373636e+01,\n",
       "        1.65324009e+00, 2.09231196e+00, 7.40778463e-01, 3.33045485e+00,\n",
       "        2.81693443e+01, 2.93830480e-02])}"
      ]
     },
     "metadata": {},
     "output_type": "display_data"
    }
   ],
   "source": [
    "regressor_v2 = XGBRegressor()\n",
    "booster=['gbtree','gblinear']\n",
    "base_score=[0.25,0.5,0.75,1]\n",
    "\n",
    "# Define the grid of hyperparameters to search\n",
    "hyperparameter_grid = {\n",
    "    'n_estimators': [100, 400, 800],\n",
    "    'max_depth': [3, 6, 9],\n",
    "    'learning_rate': [0.05, 0.1, 0.20],\n",
    "    'min_child_weight': [1, 10, 100]\n",
    "    }\n",
    "\n",
    "# Set up the random search with 4-fold cross validation\n",
    "random_cv = RandomizedSearchCV(estimator=regressor_v2,\n",
    "                               param_distributions=hyperparameter_grid,\n",
    "                               cv=5, \n",
    "                               n_iter=50,\n",
    "                               scoring = 'neg_mean_absolute_error',n_jobs = -1,\n",
    "                               return_train_score = True,\n",
    "                               random_state=0)\n",
    "\n",
    "random_cv.fit(X_train_scaled, y_train)\n",
    "\n",
    "display(random_cv.best_estimator_)\n",
    "display(random_cv.cv_results_)"
   ]
  },
  {
   "cell_type": "code",
   "execution_count": 54,
   "id": "4d66887a",
   "metadata": {
    "ExecuteTime": {
     "end_time": "2022-09-05T17:20:40.938708Z",
     "start_time": "2022-09-05T17:20:38.943916Z"
    }
   },
   "outputs": [
    {
     "name": "stdout",
     "output_type": "stream",
     "text": [
      "-----------------------------------------------------\n",
      "Test  R^2 Score :  0.927454266896539\n",
      "Train R^2 Score :  0.9999999615283977\n",
      "-----------------------------------------------------\n"
     ]
    }
   ],
   "source": [
    "regressor_v2 = XGBRegressor(**random_cv.best_params_)\n",
    "\n",
    "regressor_v2.fit(X_train_scaled, y_train)\n",
    "y_pred = regressor_v2.predict(X_test_scaled)\n",
    "print(\"-\"*53)\n",
    "print(\"Test  R^2 Score : \", regressor_v2.score(X_test_scaled, y_test))\n",
    "print(\"Train R^2 Score : \", regressor_v2.score(X_train_scaled, y_train))\n",
    "print(\"-\"*53)"
   ]
  },
  {
   "cell_type": "code",
   "execution_count": 55,
   "id": "d35ac230",
   "metadata": {
    "ExecuteTime": {
     "end_time": "2022-09-05T17:20:49.539453Z",
     "start_time": "2022-09-05T17:20:40.939775Z"
    }
   },
   "outputs": [
    {
     "data": {
      "text/plain": [
       "{'Avec_params/avec_EnergyStarScore': {'r2': 0.9276398352555185,\n",
       "  'Training_score': 0.9999986279618276,\n",
       "  'MAE': 20.333161241246998,\n",
       "  'MSE': 11426.799713797358,\n",
       "  'RMSE': 106.89621000670397,\n",
       "  'Cross_validate': -0.21677025580125076},\n",
       " 'Avec_params/sans_EnergyStarScore': {'r2': 0.927454266896539,\n",
       "  'Training_score': 0.9999999615283977,\n",
       "  'MAE': 21.045436260570963,\n",
       "  'MSE': 11456.103854808709,\n",
       "  'RMSE': 107.0331904355313,\n",
       "  'Cross_validate': -0.17581794363694891}}"
      ]
     },
     "execution_count": 55,
     "metadata": {},
     "output_type": "execute_result"
    }
   ],
   "source": [
    "y_predict = regressor_v2.predict(X_test_scaled)\n",
    "Visualisation_r2['Avec_params/sans_EnergyStarScore']  = {'r2': r2_score(y_test, y_predict),\n",
    "                  'Training_score' :r2_score(y_train, regressor_v2.predict(X_train_scaled)),\n",
    "                  'MAE' : mean_absolute_error(y_test, y_predict),\n",
    "                  'MSE' : mean_squared_error(y_test, y_predict, squared=True),\n",
    "                 # 'MSLE' : mean_squared_log_error(y_test, y_predict, squared=True),\n",
    "                  'RMSE' : mean_squared_error(y_test, y_predict, squared=False),\n",
    "                 # 'RMSLE' : mean_squared_log_error(y_test, y_predict, squared=False),\n",
    "                  'Cross_validate' : (cross_val_score(regressor_v2, X_train_scaled, y_train, cv=5)).mean()\n",
    "                 }\n",
    "Visualisation_r2"
   ]
  },
  {
   "cell_type": "code",
   "execution_count": 56,
   "id": "5434508f",
   "metadata": {
    "ExecuteTime": {
     "end_time": "2022-09-05T17:20:49.543487Z",
     "start_time": "2022-09-05T17:20:49.540440Z"
    }
   },
   "outputs": [
    {
     "data": {
      "text/plain": [
       "{'Avec_params/avec_EnergyStarScore': {'r2': 0.9276398352555185,\n",
       "  'Training_score': 0.9999986279618276,\n",
       "  'MAE': 20.333161241246998,\n",
       "  'MSE': 11426.799713797358,\n",
       "  'RMSE': 106.89621000670397,\n",
       "  'Cross_validate': -0.21677025580125076},\n",
       " 'Avec_params/sans_EnergyStarScore': {'r2': 0.927454266896539,\n",
       "  'Training_score': 0.9999999615283977,\n",
       "  'MAE': 21.045436260570963,\n",
       "  'MSE': 11456.103854808709,\n",
       "  'RMSE': 107.0331904355313,\n",
       "  'Cross_validate': -0.17581794363694891},\n",
       " 'Sans_params/avec_EnergyStarScore': {'r2': 0.9143446372566354,\n",
       "  'Training_score': 0.9999979460316666,\n",
       "  'MAE': 22.537646832509218,\n",
       "  'MSE': 13526.319044978847,\n",
       "  'RMSE': 116.30270437517284,\n",
       "  'Cross_validate': -0.19041861489723175}}"
      ]
     },
     "execution_count": 56,
     "metadata": {},
     "output_type": "execute_result"
    }
   ],
   "source": [
    "Visualisation_r2['Sans_params/avec_EnergyStarScore'] = Score['xgboost']               \n",
    "Visualisation_r2['Avec_params/avec_EnergyStarScore'] = Visualisation_r2['Avec_params/avec_EnergyStarScore']\n",
    "Visualisation_r2['Avec_params/sans_EnergyStarScore'] = Visualisation_r2['Avec_params/sans_EnergyStarScore'] \n",
    "Visualisation_r2"
   ]
  },
  {
   "cell_type": "code",
   "execution_count": 57,
   "id": "f67797f6",
   "metadata": {
    "ExecuteTime": {
     "end_time": "2022-09-05T17:20:49.550809Z",
     "start_time": "2022-09-05T17:20:49.544426Z"
    }
   },
   "outputs": [
    {
     "data": {
      "text/html": [
       "<div>\n",
       "<style scoped>\n",
       "    .dataframe tbody tr th:only-of-type {\n",
       "        vertical-align: middle;\n",
       "    }\n",
       "\n",
       "    .dataframe tbody tr th {\n",
       "        vertical-align: top;\n",
       "    }\n",
       "\n",
       "    .dataframe thead th {\n",
       "        text-align: right;\n",
       "    }\n",
       "</style>\n",
       "<table border=\"1\" class=\"dataframe\">\n",
       "  <thead>\n",
       "    <tr style=\"text-align: right;\">\n",
       "      <th></th>\n",
       "      <th>r2</th>\n",
       "      <th>Training_score</th>\n",
       "      <th>MAE</th>\n",
       "      <th>MSE</th>\n",
       "      <th>RMSE</th>\n",
       "      <th>Cross_validate</th>\n",
       "    </tr>\n",
       "  </thead>\n",
       "  <tbody>\n",
       "    <tr>\n",
       "      <th>Avec_params/avec_EnergyStarScore</th>\n",
       "      <td>0.927640</td>\n",
       "      <td>0.999999</td>\n",
       "      <td>20.333161</td>\n",
       "      <td>11426.799714</td>\n",
       "      <td>106.896210</td>\n",
       "      <td>-0.216770</td>\n",
       "    </tr>\n",
       "    <tr>\n",
       "      <th>Avec_params/sans_EnergyStarScore</th>\n",
       "      <td>0.927454</td>\n",
       "      <td>1.000000</td>\n",
       "      <td>21.045436</td>\n",
       "      <td>11456.103855</td>\n",
       "      <td>107.033190</td>\n",
       "      <td>-0.175818</td>\n",
       "    </tr>\n",
       "    <tr>\n",
       "      <th>Sans_params/avec_EnergyStarScore</th>\n",
       "      <td>0.914345</td>\n",
       "      <td>0.999998</td>\n",
       "      <td>22.537647</td>\n",
       "      <td>13526.319045</td>\n",
       "      <td>116.302704</td>\n",
       "      <td>-0.190419</td>\n",
       "    </tr>\n",
       "  </tbody>\n",
       "</table>\n",
       "</div>"
      ],
      "text/plain": [
       "                                        r2  Training_score        MAE  \\\n",
       "Avec_params/avec_EnergyStarScore  0.927640        0.999999  20.333161   \n",
       "Avec_params/sans_EnergyStarScore  0.927454        1.000000  21.045436   \n",
       "Sans_params/avec_EnergyStarScore  0.914345        0.999998  22.537647   \n",
       "\n",
       "                                           MSE        RMSE  Cross_validate  \n",
       "Avec_params/avec_EnergyStarScore  11426.799714  106.896210       -0.216770  \n",
       "Avec_params/sans_EnergyStarScore  11456.103855  107.033190       -0.175818  \n",
       "Sans_params/avec_EnergyStarScore  13526.319045  116.302704       -0.190419  "
      ]
     },
     "execution_count": 57,
     "metadata": {},
     "output_type": "execute_result"
    }
   ],
   "source": [
    "df_r2 = pd.DataFrame.from_dict(Visualisation_r2, orient='index')\n",
    "df_r2 = df_r2.sort_values(by=['r2'], ascending = False)\n",
    "df_r2\n",
    "# Sur entrainement des données mais le train > test donc c'est \" OK \""
   ]
  },
  {
   "cell_type": "code",
   "execution_count": 58,
   "id": "06a993e4",
   "metadata": {
    "ExecuteTime": {
     "end_time": "2022-09-05T17:20:49.555564Z",
     "start_time": "2022-09-05T17:20:49.552569Z"
    }
   },
   "outputs": [
    {
     "data": {
      "text/plain": [
       "0.5"
      ]
     },
     "execution_count": 58,
     "metadata": {},
     "output_type": "execute_result"
    }
   ],
   "source": [
    "round((0.932657 - 0.927640)*100,2)"
   ]
  },
  {
   "cell_type": "code",
   "execution_count": 59,
   "id": "5ab3e0ad",
   "metadata": {
    "ExecuteTime": {
     "end_time": "2022-09-05T17:20:49.558883Z",
     "start_time": "2022-09-05T17:20:49.556688Z"
    }
   },
   "outputs": [],
   "source": [
    "# On peut voir qu'en retirant l'EnergyStarScore on perds environ 3% de r2 ce qui reste négligeable au vu de notre score relativement élevé."
   ]
  },
  {
   "cell_type": "code",
   "execution_count": null,
   "id": "3327280f",
   "metadata": {},
   "outputs": [],
   "source": []
  }
 ],
 "metadata": {
  "kernelspec": {
   "display_name": "Python 3 (ipykernel)",
   "language": "python",
   "name": "python3"
  },
  "language_info": {
   "codemirror_mode": {
    "name": "ipython",
    "version": 3
   },
   "file_extension": ".py",
   "mimetype": "text/x-python",
   "name": "python",
   "nbconvert_exporter": "python",
   "pygments_lexer": "ipython3",
   "version": "3.8.12"
  },
  "toc": {
   "base_numbering": 1,
   "nav_menu": {},
   "number_sections": true,
   "sideBar": true,
   "skip_h1_title": false,
   "title_cell": "Table of Contents",
   "title_sidebar": "Contents",
   "toc_cell": false,
   "toc_position": {
    "height": "calc(100% - 180px)",
    "left": "10px",
    "top": "150px",
    "width": "384px"
   },
   "toc_section_display": true,
   "toc_window_display": true
  },
  "varInspector": {
   "cols": {
    "lenName": 16,
    "lenType": 16,
    "lenVar": 40
   },
   "kernels_config": {
    "python": {
     "delete_cmd_postfix": "",
     "delete_cmd_prefix": "del ",
     "library": "var_list.py",
     "varRefreshCmd": "print(var_dic_list())"
    },
    "r": {
     "delete_cmd_postfix": ") ",
     "delete_cmd_prefix": "rm(",
     "library": "var_list.r",
     "varRefreshCmd": "cat(var_dic_list()) "
    }
   },
   "types_to_exclude": [
    "module",
    "function",
    "builtin_function_or_method",
    "instance",
    "_Feature"
   ],
   "window_display": false
  }
 },
 "nbformat": 4,
 "nbformat_minor": 5
}
